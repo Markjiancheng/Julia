{
 "cells": [
  {
   "cell_type": "markdown",
   "metadata": {},
   "source": [
    "## Replace missing genotypes with column means and write genotypes in binary format\n"
   ]
  },
  {
   "cell_type": "code",
   "execution_count": 1,
   "metadata": {},
   "outputs": [],
   "source": [
    "using DelimitedFiles, DataFrames, Statistics"
   ]
  },
  {
   "cell_type": "code",
   "execution_count": 2,
   "metadata": {},
   "outputs": [
    {
     "data": {
      "text/plain": [
       "replaceMissing! (generic function with 1 method)"
      ]
     },
     "execution_count": 2,
     "metadata": {},
     "output_type": "execute_result"
    }
   ],
   "source": [
    "function replaceMissing!(M)\n",
    "    for i=1:size(M,1)\n",
    "        iMean = mean(skipmissing(M[i,:]))\n",
    "        M[i,ismissing.(M[i,:])] .= iMean\n",
    "    end\n",
    "end"
   ]
  },
  {
   "cell_type": "code",
   "execution_count": 3,
   "metadata": {},
   "outputs": [
    {
     "data": {
      "text/plain": [
       "writeMatBin (generic function with 1 method)"
      ]
     },
     "execution_count": 3,
     "metadata": {},
     "output_type": "execute_result"
    }
   ],
   "source": [
    "function writeMatBin(inFileName,outFileName;header=true,dlm=' ',missingStr=\"NA\")\n",
    "    inFile   = open(inFileName, \"r\")\n",
    "    n    = countlines(inFile)\n",
    "    close(inFile)\n",
    "    inFile   = open(inFileName, \"r\")\n",
    "    line = readline(inFile)\n",
    "    res  = split(line,dlm)\n",
    "    p    = size(res,1)\n",
    "    close(inFile)\n",
    " \n",
    "    if header==true\n",
    "        M = Array{Union{Float64,Missings.Missing}}(undef,p-1,n-1)\n",
    "        j = 0\n",
    "    else\n",
    "        M = Array{Union{Float64,Missings.Missing}}(undef,p-1,n)\n",
    "        ids = Array{String}(undef,n)            \n",
    "        j = 1\n",
    "    end\n",
    "    outID = open(outFileName*\".ids.txt\",\"w\")     \n",
    "    for line in eachline(inFileName)\n",
    "        if j > 0 # skip header\n",
    "            if j%100 == 0 \n",
    "                println(j)\n",
    "            end\n",
    "            res  = split(line,dlm)\n",
    "            println(outID,res[1])   \n",
    "            for i in 2:p \n",
    "                x = res[i]\n",
    "                M[i-1,j] = x!=missingStr ? parse(Float64,x) : Missings.missing\n",
    "            end\n",
    "        end\n",
    "        j += 1\n",
    "    end\n",
    "\n",
    "    replaceMissing!(M)\n",
    "    M = convert(Array{Float64}, M)\n",
    "    if header==true\n",
    "        write(outFileName*\".gen.bin\",n-1,p-1,M')\n",
    "    else\n",
    "        write(outFileName*\".gen.bin\",n-1,p-1,M')\n",
    "    end\n",
    "    close(outID)            \n",
    "end"
   ]
  },
  {
   "cell_type": "code",
   "execution_count": null,
   "metadata": {},
   "outputs": [
    {
     "name": "stdout",
     "output_type": "stream",
     "text": [
      "100\n",
      "200\n",
      "300\n",
      "400\n",
      "500\n",
      "600\n",
      "700\n",
      "800\n",
      "900\n",
      "1000\n",
      "1100\n",
      "1200\n",
      "1300\n",
      "1400\n",
      "1500\n",
      "1600\n",
      "1700\n",
      "1800\n",
      "1900\n",
      "2000\n",
      "2100\n",
      "2200\n",
      "2300\n",
      "2400\n",
      "2500\n",
      "2600\n",
      "2700\n",
      "2800\n",
      "2900\n",
      "3000\n",
      "3100\n"
     ]
    }
   ],
   "source": [
    "writeMatBin(\"ALGP2_Cycle_1_7_Geno_Complete_JWAS_MHC.txt\",\"ALGP2_Cycle_1_7_Geno_Complete_Impute_JWAS_MHC.bin\")"
   ]
  },
  {
   "cell_type": "code",
   "execution_count": 3,
   "metadata": {},
   "outputs": [
    {
     "data": {
      "text/plain": [
       "readMatBin (generic function with 1 method)"
      ]
     },
     "execution_count": 3,
     "metadata": {},
     "output_type": "execute_result"
    }
   ],
   "source": [
    "function readMatBin(fileName)\n",
    "    genStr = open(fileName)\n",
    "    n = read(genStr,Int64)\n",
    "    p = read(genStr,Int64)\n",
    "    M = zeros(n,p)\n",
    "    for j in 1:p\n",
    "        for i in 1:n\n",
    "            M[i,j] = read(genStr,Float64)\n",
    "        end\n",
    "    end\n",
    "    close(genStr)\n",
    "    return M\n",
    "end"
   ]
  },
  {
   "cell_type": "code",
   "execution_count": 10,
   "metadata": {},
   "outputs": [
    {
     "data": {
      "text/plain": [
       "153-element Array{String,1}:\n",
       " \"0\"\n",
       " \"0\"\n",
       " \"1\"\n",
       " \"1\"\n",
       " \"0\"\n",
       " \"1\"\n",
       " \"0\"\n",
       " \"1\"\n",
       " \"1\"\n",
       " \"0\"\n",
       " \"2\"\n",
       " \"0\"\n",
       " \"0\"\n",
       " ⋮  \n",
       " \"2\"\n",
       " \"1\"\n",
       " \"1\"\n",
       " \"1\"\n",
       " \"1\"\n",
       " \"0\"\n",
       " \"1\"\n",
       " \"1\"\n",
       " \"1\"\n",
       " \"0\"\n",
       " \"1\"\n",
       " \"1\""
      ]
     },
     "execution_count": 10,
     "metadata": {},
     "output_type": "execute_result"
    }
   ],
   "source": [
    "rowID = vec(readdlm(\"ALGP2_Cycle_1_7_Geno_Complete_Impute_JWAS_SNP.bin.ids.txt\",String))"
   ]
  },
  {
   "cell_type": "code",
   "execution_count": 11,
   "metadata": {},
   "outputs": [
    {
     "data": {
      "text/plain": [
       "153×435171 Array{Float64,2}:\n",
       " 2.0  0.0  2.0  2.0  0.0  2.0  2.0  0.0  …  0.0  2.0  1.0  2.0  2.0  2.0  2.0\n",
       " 2.0  0.0  2.0  2.0  0.0  2.0  2.0  0.0     0.0  2.0  0.0  2.0  2.0  2.0  2.0\n",
       " 2.0  0.0  1.0  2.0  0.0  1.0  2.0  0.0     0.0  2.0  1.0  2.0  2.0  2.0  2.0\n",
       " 2.0  0.0  1.0  2.0  0.0  1.0  2.0  0.0     0.0  2.0  0.0  2.0  2.0  2.0  2.0\n",
       " 2.0  0.0  1.0  2.0  0.0  1.0  2.0  0.0     0.0  2.0  0.0  2.0  2.0  2.0  2.0\n",
       " 2.0  0.0  1.0  2.0  0.0  1.0  2.0  0.0  …  0.0  2.0  0.0  2.0  2.0  2.0  2.0\n",
       " 2.0  0.0  1.0  2.0  0.0  1.0  2.0  0.0     0.0  2.0  0.0  2.0  2.0  2.0  2.0\n",
       " 1.0  1.0  1.0  1.0  1.0  1.0  1.0  1.0     0.0  2.0  0.0  2.0  2.0  2.0  2.0\n",
       " 1.0  1.0  0.0  1.0  1.0  0.0  1.0  1.0     0.0  2.0  0.0  2.0  2.0  2.0  2.0\n",
       " 2.0  0.0  2.0  2.0  0.0  2.0  2.0  0.0     0.0  2.0  0.0  2.0  2.0  2.0  2.0\n",
       " 0.0  2.0  0.0  0.0  2.0  0.0  0.0  2.0  …  1.0  2.0  0.0  2.0  2.0  2.0  2.0\n",
       " 2.0  0.0  2.0  2.0  0.0  2.0  2.0  0.0     0.0  2.0  0.0  2.0  2.0  2.0  2.0\n",
       " 2.0  0.0  1.0  2.0  0.0  1.0  2.0  0.0     0.0  2.0  0.0  2.0  2.0  2.0  2.0\n",
       " ⋮                        ⋮              ⋱       ⋮                        ⋮  \n",
       " 1.0  1.0  1.0  1.0  1.0  0.0  1.0  1.0     0.0  2.0  0.0  2.0  2.0  2.0  2.0\n",
       " 2.0  0.0  1.0  2.0  0.0  1.0  2.0  0.0     0.0  2.0  1.0  2.0  2.0  2.0  2.0\n",
       " 1.0  1.0  1.0  1.0  1.0  1.0  1.0  1.0     0.0  2.0  0.0  2.0  2.0  2.0  2.0\n",
       " 1.0  1.0  0.0  1.0  1.0  0.0  1.0  1.0     0.0  2.0  0.0  2.0  2.0  2.0  2.0\n",
       " 2.0  0.0  2.0  2.0  0.0  1.0  2.0  0.0  …  0.0  2.0  0.0  2.0  2.0  2.0  2.0\n",
       " 2.0  0.0  1.0  2.0  0.0  1.0  2.0  0.0     0.0  2.0  0.0  2.0  2.0  2.0  2.0\n",
       " 1.0  1.0  0.0  1.0  1.0  0.0  1.0  1.0     0.0  2.0  0.0  2.0  2.0  2.0  2.0\n",
       " 1.0  1.0  1.0  1.0  1.0  1.0  1.0  1.0     0.0  2.0  0.0  2.0  2.0  2.0  2.0\n",
       " 1.0  1.0  1.0  1.0  1.0  1.0  1.0  1.0     0.0  2.0  1.0  2.0  2.0  2.0  2.0\n",
       " 2.0  0.0  2.0  2.0  0.0  2.0  2.0  0.0  …  0.0  2.0  0.0  2.0  2.0  2.0  2.0\n",
       " 2.0  0.0  0.0  2.0  0.0  0.0  2.0  0.0     0.0  2.0  0.0  2.0  2.0  2.0  2.0\n",
       " 1.0  1.0  1.0  1.0  1.0  1.0  1.0  1.0     0.0  2.0  0.0  2.0  2.0  2.0  2.0"
      ]
     },
     "execution_count": 11,
     "metadata": {},
     "output_type": "execute_result"
    }
   ],
   "source": [
    "M = readMatBin(\"ALGP2_Cycle_1_7_GenoA_Complete_Impute_JWAS.bin.gen.bin\")"
   ]
  },
  {
   "cell_type": "code",
   "execution_count": null,
   "metadata": {},
   "outputs": [],
   "source": [
    ";cat smallGenFile.txt"
   ]
  },
  {
   "cell_type": "code",
   "execution_count": 1,
   "metadata": {},
   "outputs": [
    {
     "ename": "UndefVarError",
     "evalue": "UndefVarError: MME not defined",
     "output_type": "error",
     "traceback": [
      "UndefVarError: MME not defined",
      "",
      "Stacktrace:",
      " [1] top-level scope at In[1]:1"
     ]
    }
   ],
   "source": [
    "function add_genotypes(mme::MME,M::Array{Float64,2},G;header=false,center=true,rowID=false,G_is_marker_variance=false,df=4)\n",
    "    if length(rowID) != size(M,1)\n",
    "        rowID = string.(1:size(M,1))\n",
    "    end\n",
    "    if length(header) != (size(M,2)+1)\n",
    "        header = [\"id\"; string.(1:size(M,2))]\n",
    "    end\n",
    "    mme.M   = readgenotypes(M,rowID = rowID, header=header, center=center)\n",
    "    if G_is_marker_variance == true\n",
    "        mme.M.G = G\n",
    "    else\n",
    "        mme.M.genetic_variance = G\n",
    "    end\n",
    "    mme.df.marker = Float64(df)\n",
    "\n",
    "    println(size(mme.M.genotypes,2), \" markers on \",size(mme.M.genotypes,1),\" individuals were added.\")\n",
    "end"
   ]
  },
  {
   "cell_type": "code",
   "execution_count": null,
   "metadata": {},
   "outputs": [],
   "source": []
  }
 ],
 "metadata": {
  "kernelspec": {
   "display_name": "Julia 1.1.0",
   "language": "julia",
   "name": "julia-1.1"
  },
  "language_info": {
   "file_extension": ".jl",
   "mimetype": "application/julia",
   "name": "julia",
   "version": "1.1.0"
  }
 },
 "nbformat": 4,
 "nbformat_minor": 2
}
