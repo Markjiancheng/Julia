{
 "cells": [
  {
   "cell_type": "code",
   "execution_count": 1,
   "metadata": {
    "collapsed": false
   },
   "outputs": [
    {
     "data": {
      "text/plain": [
       "MTJWAS"
      ]
     },
     "execution_count": 1,
     "metadata": {},
     "output_type": "execute_result"
    }
   ],
   "source": [
    "include(\"../src/MTJWAS.jl\")"
   ]
  },
  {
   "cell_type": "markdown",
   "metadata": {},
   "source": [
    "## <font color=\"blue\"> Data</font>"
   ]
  },
  {
   "cell_type": "code",
   "execution_count": 2,
   "metadata": {
    "collapsed": true
   },
   "outputs": [],
   "source": [
    "using DataFrames"
   ]
  },
  {
   "cell_type": "code",
   "execution_count": 3,
   "metadata": {
    "collapsed": false
   },
   "outputs": [],
   "source": [
    "DIR=\"data/\"\n",
    "phenofile=DIR*\"phenotype.txt\"\n",
    "genofile =DIR*\"genotype.txt\"\n",
    "pedfile  =DIR*\"pedigree.txt\";"
   ]
  },
  {
   "cell_type": "markdown",
   "metadata": {},
   "source": [
    "### phenotypes"
   ]
  },
  {
   "cell_type": "code",
   "execution_count": 4,
   "metadata": {
    "collapsed": false
   },
   "outputs": [
    {
     "name": "stdout",
     "output_type": "stream",
     "text": [
      "Animal,BW,CW,age,sex\n",
      "S1,100.0,10.0,8,M\n",
      "D1,50.0,12.9,7,F\n",
      "O1,150.0,13.0,3,M\n",
      "O3,40.0,5.0,4,F\n"
     ]
    }
   ],
   "source": [
    ";cat $phenofile"
   ]
  },
  {
   "cell_type": "markdown",
   "metadata": {},
   "source": [
    "### genotypes"
   ]
  },
  {
   "cell_type": "code",
   "execution_count": 5,
   "metadata": {
    "collapsed": false
   },
   "outputs": [
    {
     "name": "stdout",
     "output_type": "stream",
     "text": [
      "Animal,x1,x2,x3,x4,x5\n",
      "S1,1.0,0.0,1.0,1.0,1.0\n",
      "D1,2.0,0.0,2.0,2.0,1.0\n",
      "O1,1.0,2.0,0.0,1.0,0.0\n",
      "O3,0.0,0.0,2.0,1.0,1.0\n"
     ]
    }
   ],
   "source": [
    ";cat $genofile"
   ]
  },
  {
   "cell_type": "markdown",
   "metadata": {},
   "source": [
    "### pedigree"
   ]
  },
  {
   "cell_type": "code",
   "execution_count": 6,
   "metadata": {
    "collapsed": false
   },
   "outputs": [
    {
     "name": "stdout",
     "output_type": "stream",
     "text": [
      "S1 0 0\n",
      "D1 0 0\n",
      "O1 S1 D1\n",
      "O2 S1 D1\n",
      "O3 S1 D1\n"
     ]
    }
   ],
   "source": [
    ";cat $pedfile"
   ]
  },
  {
   "cell_type": "markdown",
   "metadata": {},
   "source": [
    "### Genetic covariance matrix and residual covariance matrix"
   ]
  },
  {
   "cell_type": "code",
   "execution_count": 7,
   "metadata": {
    "collapsed": false
   },
   "outputs": [],
   "source": [
    "R      = [10.0 2.0 1.0\n",
    "           2.0 1.0 0.5\n",
    "           1.0 0.5 3.0]   \n",
    "\n",
    "G      = [20.0 1.0 1.0\n",
    "           1.0 1.0 0.5\n",
    "           1.0 0.5 3.0] ;"
   ]
  },
  {
   "cell_type": "markdown",
   "metadata": {},
   "source": [
    "## <font color=\"blue\">1. mulitiple trait with fixed effects</font> "
   ]
  },
  {
   "cell_type": "code",
   "execution_count": 8,
   "metadata": {
    "collapsed": false
   },
   "outputs": [],
   "source": [
    "using MTJWAS"
   ]
  },
  {
   "cell_type": "code",
   "execution_count": 9,
   "metadata": {
    "collapsed": false
   },
   "outputs": [
    {
     "data": {
      "text/html": [
       "<table class=\"data-frame\"><tr><th></th><th>Animal</th><th>BW</th><th>CW</th><th>age</th><th>sex</th></tr><tr><th>1</th><td>S1</td><td>100.0</td><td>10.0</td><td>8</td><td>M</td></tr><tr><th>2</th><td>D1</td><td>50.0</td><td>12.9</td><td>7</td><td>F</td></tr><tr><th>3</th><td>O1</td><td>150.0</td><td>13.0</td><td>3</td><td>M</td></tr><tr><th>4</th><td>O3</td><td>40.0</td><td>5.0</td><td>4</td><td>F</td></tr></table>"
      ],
      "text/plain": [
       "4×5 DataFrames.DataFrame\n",
       "│ Row │ Animal │ BW    │ CW   │ age │ sex │\n",
       "├─────┼────────┼───────┼──────┼─────┼─────┤\n",
       "│ 1   │ \"S1\"   │ 100.0 │ 10.0 │ 8   │ \"M\" │\n",
       "│ 2   │ \"D1\"   │ 50.0  │ 12.9 │ 7   │ \"F\" │\n",
       "│ 3   │ \"O1\"   │ 150.0 │ 13.0 │ 3   │ \"M\" │\n",
       "│ 4   │ \"O3\"   │ 40.0  │ 5.0  │ 4   │ \"F\" │"
      ]
     },
     "execution_count": 9,
     "metadata": {},
     "output_type": "execute_result"
    }
   ],
   "source": [
    "data=readtable(phenofile)"
   ]
  },
  {
   "cell_type": "code",
   "execution_count": 10,
   "metadata": {
    "collapsed": false
   },
   "outputs": [],
   "source": [
    "data[:EMA] = @data([10.0,20.0,30.0,40.0]);"
   ]
  },
  {
   "cell_type": "code",
   "execution_count": 11,
   "metadata": {
    "collapsed": false
   },
   "outputs": [
    {
     "data": {
      "text/html": [
       "<table class=\"data-frame\"><tr><th></th><th>Animal</th><th>BW</th><th>CW</th><th>age</th><th>sex</th><th>EMA</th></tr><tr><th>1</th><td>S1</td><td>100.0</td><td>10.0</td><td>8</td><td>M</td><td>10.0</td></tr><tr><th>2</th><td>D1</td><td>50.0</td><td>12.9</td><td>7</td><td>F</td><td>20.0</td></tr><tr><th>3</th><td>O1</td><td>150.0</td><td>13.0</td><td>3</td><td>M</td><td>30.0</td></tr><tr><th>4</th><td>O3</td><td>40.0</td><td>5.0</td><td>4</td><td>F</td><td>40.0</td></tr></table>"
      ],
      "text/plain": [
       "4×6 DataFrames.DataFrame\n",
       "│ Row │ Animal │ BW    │ CW   │ age │ sex │ EMA  │\n",
       "├─────┼────────┼───────┼──────┼─────┼─────┼──────┤\n",
       "│ 1   │ \"S1\"   │ 100.0 │ 10.0 │ 8   │ \"M\" │ 10.0 │\n",
       "│ 2   │ \"D1\"   │ 50.0  │ 12.9 │ 7   │ \"F\" │ 20.0 │\n",
       "│ 3   │ \"O1\"   │ 150.0 │ 13.0 │ 3   │ \"M\" │ 30.0 │\n",
       "│ 4   │ \"O3\"   │ 40.0  │ 5.0  │ 4   │ \"F\" │ 40.0 │"
      ]
     },
     "execution_count": 11,
     "metadata": {},
     "output_type": "execute_result"
    }
   ],
   "source": [
    "data"
   ]
  },
  {
   "cell_type": "markdown",
   "metadata": {},
   "source": [
    "## <font color=\"blue\">3. mulitiple traits with marker effects</font> "
   ]
  },
  {
   "cell_type": "markdown",
   "metadata": {},
   "source": [
    "#### set up model equations"
   ]
  },
  {
   "cell_type": "code",
   "execution_count": 12,
   "metadata": {
    "collapsed": false
   },
   "outputs": [],
   "source": [
    "model_equations = \"BW  = intercept + age + sex;\n",
    "                   EMA = intercept + age + sex;\n",
    "                   CW  = intercept + age + sex\";"
   ]
  },
  {
   "cell_type": "code",
   "execution_count": 13,
   "metadata": {
    "collapsed": true
   },
   "outputs": [],
   "source": [
    "model3    = buildModel(model_equations,R);"
   ]
  },
  {
   "cell_type": "code",
   "execution_count": 14,
   "metadata": {
    "collapsed": false
   },
   "outputs": [],
   "source": [
    "setAsCovariate(model3,\"age\")"
   ]
  },
  {
   "cell_type": "code",
   "execution_count": 15,
   "metadata": {
    "collapsed": false
   },
   "outputs": [
    {
     "name": "stdout",
     "output_type": "stream",
     "text": [
      "The delimiters in file data/genotype.txt is ,  .\n"
     ]
    }
   ],
   "source": [
    "addMarkers(model3,genofile,G,separator=',',header=true);"
   ]
  },
  {
   "cell_type": "code",
   "execution_count": 16,
   "metadata": {
    "collapsed": false
   },
   "outputs": [
    {
     "name": "stdout",
     "output_type": "stream",
     "text": [
      "at sample: 10000\n",
      "Residual covariance matrix: \n",
      "[36.58631026033691 7.275511463722335 3.882665437782223\n",
      " 7.275511463722335 3.2365319636497163 0.9231137785644008\n",
      " 3.882665437782223 0.9231137785644008 3.903941701626138]\n",
      "Marker effects covariance matrix: \n",
      "[48.94674549307252 -7.729409802063201 9.70841304146252\n",
      " -7.729409802063201 2.3388358547069696 -1.664688447431086\n",
      " 9.70841304146252 -1.664688447431086 3.3169019321895172]\n",
      "\n",
      "at sample: 20000\n",
      "Residual covariance matrix: \n",
      "[26.083369179295666 3.9995890494706243 3.474647116919625\n",
      " 3.9995890494706243 2.2200461907187234 0.4876491084535151\n",
      " 3.474647116919625 0.4876491084535151 3.8236133709870113]\n",
      "Marker effects covariance matrix: \n",
      "[57.62052440800447 -9.273367025397356 11.456148680351479\n",
      " -9.273367025397356 2.5368909528087813 -1.9382295546506665\n",
      " 11.456148680351479 -1.9382295546506665 3.694803638529671]\n",
      "\n",
      "at sample: 30000\n",
      "Residual covariance matrix: \n",
      "[21.59120032013124 3.0428470733667283 3.012308362571223\n",
      " 3.0428470733667283 1.8471167413145644 0.38990375185179743\n",
      " 3.012308362571223 0.38990375185179743 3.6529448541363982]\n",
      "Marker effects covariance matrix: \n",
      "[62.46517969932192 -9.651965193381226 12.466297862556775\n",
      " -9.651965193381226 2.4676724775092853 -2.02166357733316\n",
      " 12.466297862556775 -2.02166357733316 3.9244692029639197]\n",
      "\n",
      "at sample: 40000\n",
      "Residual covariance matrix: \n",
      "[19.39585106130066 2.6338487675891944 2.7696448465835584\n",
      " 2.6338487675891944 1.6785147380147754 0.38101885958827814\n",
      " 2.7696448465835584 0.38101885958827814 3.584455822544542]\n",
      "Marker effects covariance matrix: \n",
      "[61.64977650540158 -9.56213710519046 12.493158028011624\n",
      " -9.56213710519046 2.4226344409820175 -2.0308055570294026\n",
      " 12.493158028011624 -2.0308055570294026 3.952557526153868]\n",
      "\n",
      "at sample: 50000\n",
      "Residual covariance matrix: \n",
      "[18.589764700909395 2.2631435032605167 2.7136462934295627\n",
      " 2.2631435032605167 1.5944694299524387 0.33217716369285727\n",
      " 2.7136462934295627 0.33217716369285727 3.532649913641444]\n",
      "Marker effects covariance matrix: \n",
      "[60.52974871496113 -9.387458887248522 12.26780828671904\n",
      " -9.387458887248522 2.359917341924656 -1.9896402617943305\n",
      " 12.26780828671904 -1.9896402617943305 3.9063440950202497]\n",
      "\n"
     ]
    }
   ],
   "source": [
    "out3=runMCMC(model3,data,chain_length=50000,printout_frequency=10000);"
   ]
  },
  {
   "cell_type": "code",
   "execution_count": 17,
   "metadata": {
    "collapsed": false
   },
   "outputs": [
    {
     "data": {
      "text/plain": [
       "Base.KeyIterator for a Dict{Any,Any} with 4 entries. Keys:\n",
       "  \"posterior mean of marker effects covariance matrix\"\n",
       "  \"posterior mean of residual covaraince matrix\"\n",
       "  \"posterior mean of marker effects\"\n",
       "  \"posterior mean of location parameters\""
      ]
     },
     "execution_count": 17,
     "metadata": {},
     "output_type": "execute_result"
    }
   ],
   "source": [
    "keys(out3)"
   ]
  },
  {
   "cell_type": "markdown",
   "metadata": {},
   "source": [
    "### BayesC"
   ]
  },
  {
   "cell_type": "code",
   "execution_count": 18,
   "metadata": {
    "collapsed": false
   },
   "outputs": [
    {
     "name": "stdout",
     "output_type": "stream",
     "text": [
      "The delimiters in file data/genotype.txt is ,  .\n"
     ]
    }
   ],
   "source": [
    "model_equations = \"BW  = intercept + age + sex;\n",
    "                   EMA = intercept + age + sex;\n",
    "                   CW  = intercept + age + sex\";\n",
    "model4    = buildModel(model_equations,R);\n",
    "setAsCovariate(model4,\"age\")\n",
    "addMarkers(model4,genofile,G,separator=',',header=true);"
   ]
  },
  {
   "cell_type": "code",
   "execution_count": 19,
   "metadata": {
    "collapsed": false
   },
   "outputs": [
    {
     "name": "stdout",
     "output_type": "stream",
     "text": [
      "marker effect varaince with π=[0.0 0.0 0.0] is positive definite??: true\n",
      "at sample: 10000\n",
      "Residual covariance matrix: \n",
      "[49.70953967623094 9.925945022873163 7.883589344585516\n",
      " 9.925945022873163 2.879819152753454 1.735330780893492\n",
      " 7.883589344585516 1.735330780893492 4.302250877706452]\n",
      "Marker effects covariance matrix: \n",
      "[56.186720630008836 -9.15481137596869 11.502740785266955\n",
      " -9.15481137596869 2.404908552775645 -2.0363137583403654\n",
      " 11.502740785266955 -2.0363137583403654 3.7757841407017954]\n",
      "\n",
      "at sample: 20000\n",
      "Residual covariance matrix: \n",
      "[29.534236240162986 5.837180206216203 4.440519859141298\n",
      " 5.837180206216203 1.9208554674036948 1.0745121293347903\n",
      " 4.440519859141298 1.0745121293347903 3.603814992365473]\n",
      "Marker effects covariance matrix: \n",
      "[60.70196593682909 -9.706694061976165 12.469858758032741\n",
      " -9.706694061976165 2.4007676728430543 -2.1217303833287255\n",
      " 12.469858758032741 -2.1217303833287255 3.9815708009027047]\n",
      "\n",
      "at sample: 30000\n",
      "Residual covariance matrix: \n",
      "[24.09844462455617 4.225837981690684 3.661641908007261\n",
      " 4.225837981690684 1.6689051617489752 0.7995559939296869\n",
      " 3.661641908007261 0.7995559939296869 3.468762965248417]\n",
      "Marker effects covariance matrix: \n",
      "[59.216274446349495 -9.40727721825435 12.261175794989844\n",
      " -9.40727721825435 2.324858775251457 -2.054966180041471\n",
      " 12.261175794989844 -2.054966180041471 3.9493186674634484]\n",
      "\n",
      "at sample: 40000\n",
      "Residual covariance matrix: \n",
      "[20.501475118034236 3.5660778144578966 3.0233446169963467\n",
      " 3.5660778144578966 1.4939215884310986 0.6783201741838595\n",
      " 3.0233446169963467 0.6783201741838595 3.3085590756173513]\n",
      "Marker effects covariance matrix: \n",
      "[59.50179116591773 -9.528609708591134 12.293641966847153\n",
      " -9.528609708591134 2.3536561376686596 -2.071547525963234\n",
      " 12.293641966847153 -2.071547525963234 3.938840145443377]\n",
      "\n",
      "at sample: 50000\n",
      "Residual covariance matrix: \n",
      "[18.29476858201638 3.189659906676002 2.6125509152138067\n",
      " 3.189659906676002 1.383415738966531 0.6125923301932759\n",
      " 2.6125509152138067 0.6125923301932759 3.2376064600882897]\n",
      "Marker effects covariance matrix: \n",
      "[58.6172467222127 -9.342803674655707 12.070747979696991\n",
      " -9.342803674655707 2.2997238076324082 -2.025790908593631\n",
      " 12.070747979696991 -2.025790908593631 3.8837392027730773]\n",
      "\n"
     ]
    }
   ],
   "source": [
    "out4=runMCMC(model4,data,Pi=[0.0 0.0 0.0],chain_length=50000,printout_frequency=10000);"
   ]
  },
  {
   "cell_type": "code",
   "execution_count": 20,
   "metadata": {
    "collapsed": false
   },
   "outputs": [
    {
     "data": {
      "text/plain": [
       "Base.KeyIterator for a Dict{Any,Any} with 4 entries. Keys:\n",
       "  \"posterior mean of marker effects covariance matrix\"\n",
       "  \"posterior mean of residual covaraince matrix\"\n",
       "  \"posterior mean of marker effects\"\n",
       "  \"posterior mean of location parameters\""
      ]
     },
     "execution_count": 20,
     "metadata": {},
     "output_type": "execute_result"
    }
   ],
   "source": [
    "keys(out4)"
   ]
  },
  {
   "cell_type": "code",
   "execution_count": 21,
   "metadata": {
    "collapsed": false
   },
   "outputs": [
    {
     "data": {
      "text/plain": [
       "12x2 Array{Any,2}:\n",
       " \"1:intercept: intercept\"  -170.563   \n",
       " \"1:age: age\"                -6.00358 \n",
       " \"1:sex: M\"                 323.47    \n",
       " \"1:sex: F\"                 253.271   \n",
       " \"2:intercept: intercept\"  -107.297   \n",
       " \"2:age: age\"                -4.74908 \n",
       " \"2:sex: M\"                 154.33    \n",
       " \"2:sex: F\"                 162.403   \n",
       " \"3:intercept: intercept\"   -40.6538  \n",
       " \"3:age: age\"                 0.360657\n",
       " \"3:sex: M\"                  49.0259  \n",
       " \"3:sex: F\"                  48.6815  "
      ]
     },
     "execution_count": 21,
     "metadata": {},
     "output_type": "execute_result"
    }
   ],
   "source": [
    "out4[\"posterior mean of location parameters\"]"
   ]
  },
  {
   "cell_type": "code",
   "execution_count": 22,
   "metadata": {
    "collapsed": false
   },
   "outputs": [
    {
     "data": {
      "text/plain": [
       "12x2 Array{Any,2}:\n",
       " \"1:intercept: intercept\"   93.2021  \n",
       " \"1:age: age\"               -5.95938 \n",
       " \"1:sex: M\"                 58.8707  \n",
       " \"1:sex: F\"                -10.0171  \n",
       " \"2:intercept: intercept\"   99.0738  \n",
       " \"2:age: age\"               -4.78832 \n",
       " \"2:sex: M\"                -51.7976  \n",
       " \"2:sex: F\"                -43.7585  \n",
       " \"3:intercept: intercept\"  -96.1103  \n",
       " \"3:age: age\"                0.381298\n",
       " \"3:sex: M\"                104.268   \n",
       " \"3:sex: F\"                104.202   "
      ]
     },
     "execution_count": 22,
     "metadata": {},
     "output_type": "execute_result"
    }
   ],
   "source": [
    "out3[\"posterior mean of location parameters\"]"
   ]
  },
  {
   "cell_type": "code",
   "execution_count": 23,
   "metadata": {
    "collapsed": false
   },
   "outputs": [
    {
     "data": {
      "text/plain": [
       "3-element Array{Any,1}:\n",
       " 5x2 Array{Any,2}:\n",
       " \"x1\"  10.8704 \n",
       " \"x2\"   6.12559\n",
       " \"x3\"  -3.79361\n",
       " \"x4\"   4.77846\n",
       " \"x5\"  -3.22866     \n",
       " 5x2 Array{Any,2}:\n",
       " \"x1\"  -2.04765 \n",
       " \"x2\"  -1.18437 \n",
       " \"x3\"   0.668379\n",
       " \"x4\"  -0.955233\n",
       " \"x5\"   0.615743\n",
       " 5x2 Array{Any,2}:\n",
       " \"x1\"   2.39571 \n",
       " \"x2\"   1.34923 \n",
       " \"x3\"  -0.85441 \n",
       " \"x4\"   1.0696  \n",
       " \"x5\"  -0.742362"
      ]
     },
     "execution_count": 23,
     "metadata": {},
     "output_type": "execute_result"
    }
   ],
   "source": [
    "out3[\"posterior mean of marker effects\"]"
   ]
  },
  {
   "cell_type": "code",
   "execution_count": 24,
   "metadata": {
    "collapsed": false
   },
   "outputs": [
    {
     "data": {
      "text/plain": [
       "3-element Array{Any,1}:\n",
       " 5x2 Array{Any,2}:\n",
       " \"x1\"  10.9944 \n",
       " \"x2\"   6.21623\n",
       " \"x3\"  -3.24278\n",
       " \"x4\"   5.57142\n",
       " \"x5\"  -3.48161     \n",
       " 5x2 Array{Any,2}:\n",
       " \"x1\"  -2.13388 \n",
       " \"x2\"  -1.16663 \n",
       " \"x3\"   0.599436\n",
       " \"x4\"  -1.06592 \n",
       " \"x5\"   0.648093\n",
       " 5x2 Array{Any,2}:\n",
       " \"x1\"   2.4893  \n",
       " \"x2\"   1.38636 \n",
       " \"x3\"  -0.735363\n",
       " \"x4\"   1.26573 \n",
       " \"x5\"  -0.793239"
      ]
     },
     "execution_count": 24,
     "metadata": {},
     "output_type": "execute_result"
    }
   ],
   "source": [
    "out4[\"posterior mean of marker effects\"]"
   ]
  },
  {
   "cell_type": "code",
   "execution_count": 25,
   "metadata": {
    "collapsed": false
   },
   "outputs": [
    {
     "data": {
      "text/plain": [
       "4x6 Array{Any,2}:\n",
       " \"S1\"  1.0  0.0  1.0  1.0  1.0\n",
       " \"D1\"  2.0  0.0  2.0  2.0  1.0\n",
       " \"O1\"  1.0  2.0  0.0  1.0  0.0\n",
       " \"O3\"  0.0  0.0  2.0  1.0  1.0"
      ]
     },
     "execution_count": 25,
     "metadata": {},
     "output_type": "execute_result"
    }
   ],
   "source": [
    "X=readdlm(genofile,',',header=true)[1]"
   ]
  },
  {
   "cell_type": "code",
   "execution_count": 26,
   "metadata": {
    "collapsed": false
   },
   "outputs": [
    {
     "data": {
      "text/plain": [
       "4x5 Array{Any,2}:\n",
       " 1.0  0.0  1.0  1.0  1.0\n",
       " 2.0  0.0  2.0  2.0  1.0\n",
       " 1.0  2.0  0.0  1.0  0.0\n",
       " 0.0  0.0  2.0  1.0  1.0"
      ]
     },
     "execution_count": 26,
     "metadata": {},
     "output_type": "execute_result"
    }
   ],
   "source": [
    "X=X[:,2:end]"
   ]
  },
  {
   "cell_type": "code",
   "execution_count": 27,
   "metadata": {
    "collapsed": false
   },
   "outputs": [
    {
     "data": {
      "text/plain": [
       "4-element Array{Any,1}:\n",
       "  8.62657\n",
       " 20.4818 \n",
       " 27.9    \n",
       " -6.03743"
      ]
     },
     "execution_count": 27,
     "metadata": {},
     "output_type": "execute_result"
    }
   ],
   "source": [
    "a=X*map(Float64,out3[\"posterior mean of marker effects\"][1][:,2])"
   ]
  },
  {
   "cell_type": "code",
   "execution_count": 28,
   "metadata": {
    "collapsed": false
   },
   "outputs": [
    {
     "data": {
      "text/plain": [
       "4-element Array{Any,1}:\n",
       "  9.84146\n",
       " 23.1645 \n",
       " 28.9983 \n",
       " -4.39575"
      ]
     },
     "execution_count": 28,
     "metadata": {},
     "output_type": "execute_result"
    }
   ],
   "source": [
    "b=X*map(Float64,out4[\"posterior mean of marker effects\"][1][:,2])"
   ]
  },
  {
   "cell_type": "code",
   "execution_count": 29,
   "metadata": {
    "collapsed": false
   },
   "outputs": [
    {
     "data": {
      "text/plain": [
       "0.9988274651601142"
      ]
     },
     "execution_count": 29,
     "metadata": {},
     "output_type": "execute_result"
    }
   ],
   "source": [
    "cor(a,b)"
   ]
  }
 ],
 "metadata": {
  "kernelspec": {
   "display_name": "Julia 0.4.5",
   "language": "julia",
   "name": "julia-0.4"
  },
  "language_info": {
   "file_extension": ".jl",
   "mimetype": "application/julia",
   "name": "julia",
   "version": "0.4.5"
  }
 },
 "nbformat": 4,
 "nbformat_minor": 0
}
