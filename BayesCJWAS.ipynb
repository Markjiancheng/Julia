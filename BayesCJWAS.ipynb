{
 "cells": [
  {
   "cell_type": "code",
   "execution_count": 1,
   "metadata": {},
   "outputs": [],
   "source": [
    "using Distributions"
   ]
  },
  {
   "cell_type": "code",
   "execution_count": 2,
   "metadata": {},
   "outputs": [],
   "source": [
    "n,p = 100,1000\n",
    "k = 50\n",
    "X      = rand(Binomial(2,0.5),n,p)\n",
    "selQTL = sample(1:p,k,replace=false);\n",
    "selMrk = setdiff(1:p,selQTL)\n",
    "Q = X[:,selQTL]\n",
    "#M = float.(X[:,selMrk])\n",
    "M = float.(X)\n",
    "α = randn(k)\n",
    "α[1] = 100.0\n",
    "α[2] = 10.0\n",
    "α[3] =  5.0\n",
    "a = Q*α\n",
    "varGen = var(a)\n",
    "varRes = varGen/4.0\n",
    "y = a + randn(n)/sqrt(varRes);"
   ]
  },
  {
   "cell_type": "code",
   "execution_count": 3,
   "metadata": {},
   "outputs": [
    {
     "data": {
      "text/plain": [
       "3857.464175456497"
      ]
     },
     "execution_count": 3,
     "metadata": {},
     "output_type": "execute_result"
    }
   ],
   "source": [
    "varGen"
   ]
  },
  {
   "cell_type": "code",
   "execution_count": 16,
   "metadata": {},
   "outputs": [],
   "source": [
    "using JWAS, DataFrames,CSV,Printf"
   ]
  },
  {
   "cell_type": "code",
   "execution_count": 5,
   "metadata": {},
   "outputs": [
    {
     "name": "stdout",
     "output_type": "stream",
     "text": [
      "\u001b[32m\u001b[1m    Status\u001b[22m\u001b[39m `/opt/julia/environments/v1.1/Project.toml`\n",
      " \u001b[90m [c9a035f4]\u001b[39m\u001b[37m JWAS v0.5.5 [`~/rohan/Box Sync/JWAS.jl`]\u001b[39m\n"
     ]
    }
   ],
   "source": [
    "using Pkg\n",
    "Pkg.status(\"JWAS\")"
   ]
  },
  {
   "cell_type": "code",
   "execution_count": 6,
   "metadata": {},
   "outputs": [],
   "source": [
    "df = DataFrame(ind=1:n,y=y)\n",
    "rowID = vec(string.(1:n));"
   ]
  },
  {
   "cell_type": "code",
   "execution_count": 7,
   "metadata": {},
   "outputs": [
    {
     "name": "stdout",
     "output_type": "stream",
     "text": [
      "\u001b[0m\u001b[1mThe header (marker IDs) is set to 1,2,...,#markers\u001b[22m\n",
      "1000 markers on 100 individuals were added.\n",
      "\n",
      "The prior for marker effects variance is calculated from the genetic variance and π.\n",
      "The mean of the prior for the marker effects variance is: 155.082478\n",
      "\n",
      "\n",
      "\n",
      "\u001b[0m\u001b[1mA Linear Mixed Model was build using model equations:\u001b[22m\n",
      "\n",
      "y = intercept\n",
      "\n",
      "\u001b[0m\u001b[1mModel Information:\u001b[22m\n",
      "\n",
      "Term            C/F          F/R            nLevels\n",
      "intercept       factor       fixed                1\n",
      "\n",
      "\u001b[0m\u001b[1mMCMC Information:\u001b[22m\n",
      "\n",
      "methods                                      BayesC\n",
      "                              complete genomic data\n",
      "                   (i.e., non-single-step analysis)\n",
      "chain_length                                  50000\n",
      "burnin                                         5000\n",
      "estimatePi                                     true\n",
      "estimateScale                                 false\n",
      "starting_value                                false\n",
      "printout_frequency                            50001\n",
      "output_samples_frequency                        100\n",
      "constraint                                    false\n",
      "missing_phenotypes                             true\n",
      "update_priors_frequency                           0\n",
      "seed                                          false\n",
      "\n",
      "\u001b[0m\u001b[1mHyper-parameters Information:\u001b[22m\n",
      "\n",
      "residual variances:                         964.366\n",
      "genetic variances (genomic):               3857.464\n",
      "marker effect variances:                    155.082\n",
      "π                                              0.95\n",
      "\n",
      "\u001b[0m\u001b[1mDegree of freedom for hyper-parameters:\u001b[22m\n",
      "\n",
      "residual variances:                           4.000\n",
      "iid random effect variances:                  4.000\n",
      "marker effect variances:                      4.000\n",
      "\n",
      "\n",
      "\n",
      "\u001b[31mThe file MCMC_samples_residual_variance.txt already exists!!! It is overwritten by the new output.\u001b[39m\n",
      "\u001b[31mThe file MCMC_samples_marker_effects_y.txt already exists!!! It is overwritten by the new output.\u001b[39m\n",
      "\u001b[31mThe file MCMC_samples_marker_effects_variances.txt already exists!!! It is overwritten by the new output.\u001b[39m\n",
      "\u001b[31mThe file MCMC_samples_pi.txt already exists!!! It is overwritten by the new output.\u001b[39m\n",
      "\u001b[31mThe file MCMC_samples_EBV_y.txt already exists!!! It is overwritten by the new output.\u001b[39m\n",
      "\u001b[31mThe file MCMC_samples_genetic_variance.txt already exists!!! It is overwritten by the new output.\u001b[39m\n",
      "\u001b[31mThe file MCMC_samples_heritability.txt already exists!!! It is overwritten by the new output.\u001b[39m\n"
     ]
    },
    {
     "name": "stderr",
     "output_type": "stream",
     "text": [
      "\u001b[32mrunning MCMC for BayesC...100%|█████████████████████████| Time: 0:00:10\u001b[39m\n"
     ]
    },
    {
     "name": "stdout",
     "output_type": "stream",
     "text": [
      "\n",
      "\n",
      "\u001b[0m\u001b[1mThe version of Julia and Platform in use:\u001b[22m\n",
      "\n",
      "Julia Version 1.1.0\n",
      "Commit 80516ca202 (2019-01-21 21:24 UTC)\n",
      "Platform Info:\n",
      "  OS: Linux (x86_64-pc-linux-gnu)\n",
      "  CPU: Intel(R) Core(TM) i5-4570 CPU @ 3.20GHz\n",
      "  WORD_SIZE: 64\n",
      "  LIBM: libopenlibm\n",
      "  LLVM: libLLVM-6.0.1 (ORCJIT, haswell)\n",
      "Environment:\n",
      "  JULIA_DEPOT_PATH = /opt/julia\n",
      "  JULIA_PKGDIR = /opt/julia\n",
      "  JULIA_VERSION = 1.1.0\n",
      "\n",
      "\n",
      "\u001b[0m\u001b[1mThe analysis has finished. Results are saved in the returned \u001b[22m\u001b[0m\u001b[1mvariable and text files. MCMC samples are saved in text files.\u001b[22m\n",
      "\n",
      "\n"
     ]
    },
    {
     "data": {
      "text/plain": [
       "Dict{Any,Any} with 8 entries:\n",
       "  \"marker effects\"          => 1000×5 DataFrame…\n",
       "  \"Pi\"                      => 1×3 DataFrame…\n",
       "  \"heritability\"            => 1×3 DataFrame…\n",
       "  \"EBV_y\"                   => 100×3 DataFrame…\n",
       "  \"location parameters\"     => 1×5 DataFrame…\n",
       "  \"residual variance\"       => 1×3 DataFrame…\n",
       "  \"genetic_variance\"        => 1×3 DataFrame…\n",
       "  \"marker effects variance\" => 1×3 DataFrame…"
      ]
     },
     "execution_count": 7,
     "metadata": {},
     "output_type": "execute_result"
    }
   ],
   "source": [
    "modelEQ = \"y = intercept\"\n",
    "mme = build_model(modelEQ,varRes)\n",
    "add_genotypes(mme,M,varGen,header=false,rowID=rowID)\n",
    "\n",
    "out = runMCMC(mme,df,\n",
    "    methods = \"BayesC\",\n",
    "    Pi = 0.95,\n",
    "    estimatePi = true,\n",
    "    chain_length = 50_000,\n",
    "    burnin = 5000,\n",
    "    output_samples_frequency=100)"
   ]
  },
  {
   "cell_type": "code",
   "execution_count": 8,
   "metadata": {},
   "outputs": [
    {
     "data": {
      "text/html": [
       "<table class=\"data-frame\"><thead><tr><th></th><th>Estimate</th><th>Std_Error</th><th>Model_Frequency</th><th>x1</th></tr><tr><th></th><th>Any</th><th>Any</th><th>Any</th><th>Float64</th></tr></thead><tbody><p>50 rows × 4 columns</p><tr><th>1</th><td>98.8429</td><td>0.985932</td><td>1.0</td><td>100.0</td></tr><tr><th>2</th><td>9.54047</td><td>0.78769</td><td>1.0</td><td>10.0</td></tr><tr><th>3</th><td>5.86846</td><td>0.829012</td><td>1.0</td><td>5.0</td></tr><tr><th>4</th><td>0.00651465</td><td>0.138043</td><td>0.00222222</td><td>1.41845</td></tr><tr><th>5</th><td>0.0</td><td>0.0</td><td>0.0</td><td>0.2227</td></tr><tr><th>6</th><td>0.0</td><td>0.0</td><td>0.0</td><td>-0.561169</td></tr><tr><th>7</th><td>0.0</td><td>0.0</td><td>0.0</td><td>1.16775</td></tr><tr><th>8</th><td>0.0</td><td>0.0</td><td>0.0</td><td>0.824239</td></tr><tr><th>9</th><td>0.0</td><td>0.0</td><td>0.0</td><td>0.0658067</td></tr><tr><th>10</th><td>0.0</td><td>0.0</td><td>0.0</td><td>2.267</td></tr><tr><th>11</th><td>0.0130032</td><td>0.175409</td><td>0.00666667</td><td>0.30287</td></tr><tr><th>12</th><td>0.0</td><td>0.0</td><td>0.0</td><td>0.422163</td></tr><tr><th>13</th><td>0.0</td><td>0.0</td><td>0.0</td><td>-0.0790856</td></tr><tr><th>14</th><td>0.0</td><td>0.0</td><td>0.0</td><td>-1.38776</td></tr><tr><th>15</th><td>0.0018024</td><td>0.0381922</td><td>0.00222222</td><td>-0.875023</td></tr><tr><th>16</th><td>0.0</td><td>0.0</td><td>0.0</td><td>0.527815</td></tr><tr><th>17</th><td>0.0</td><td>0.0</td><td>0.0</td><td>1.883</td></tr><tr><th>18</th><td>0.0</td><td>0.0</td><td>0.0</td><td>-0.710899</td></tr><tr><th>19</th><td>0.0</td><td>0.0</td><td>0.0</td><td>0.698474</td></tr><tr><th>20</th><td>0.0</td><td>0.0</td><td>0.0</td><td>0.942741</td></tr><tr><th>21</th><td>0.0</td><td>0.0</td><td>0.0</td><td>-0.249449</td></tr><tr><th>22</th><td>0.0</td><td>0.0</td><td>0.0</td><td>0.124184</td></tr><tr><th>23</th><td>0.0</td><td>0.0</td><td>0.0</td><td>-0.174369</td></tr><tr><th>24</th><td>0.0</td><td>0.0</td><td>0.0</td><td>-1.80157</td></tr><tr><th>25</th><td>-0.00349183</td><td>0.0739906</td><td>0.00222222</td><td>-0.562428</td></tr><tr><th>26</th><td>0.0</td><td>0.0</td><td>0.0</td><td>-0.612783</td></tr><tr><th>27</th><td>0.0</td><td>0.0</td><td>0.0</td><td>-0.144363</td></tr><tr><th>28</th><td>0.0</td><td>0.0</td><td>0.0</td><td>0.352801</td></tr><tr><th>29</th><td>0.0</td><td>0.0</td><td>0.0</td><td>0.641053</td></tr><tr><th>30</th><td>0.0</td><td>0.0</td><td>0.0</td><td>1.95585</td></tr><tr><th>&vellip;</th><td>&vellip;</td><td>&vellip;</td><td>&vellip;</td><td>&vellip;</td></tr></tbody></table>"
      ],
      "text/latex": [
       "\\begin{tabular}{r|cccc}\n",
       "\t& Estimate & Std\\_Error & Model\\_Frequency & x1\\\\\n",
       "\t\\hline\n",
       "\t& Any & Any & Any & Float64\\\\\n",
       "\t\\hline\n",
       "\t1 & 98.8429 & 0.985932 & 1.0 & 100.0 \\\\\n",
       "\t2 & 9.54047 & 0.78769 & 1.0 & 10.0 \\\\\n",
       "\t3 & 5.86846 & 0.829012 & 1.0 & 5.0 \\\\\n",
       "\t4 & 0.00651465 & 0.138043 & 0.00222222 & 1.41845 \\\\\n",
       "\t5 & 0.0 & 0.0 & 0.0 & 0.2227 \\\\\n",
       "\t6 & 0.0 & 0.0 & 0.0 & -0.561169 \\\\\n",
       "\t7 & 0.0 & 0.0 & 0.0 & 1.16775 \\\\\n",
       "\t8 & 0.0 & 0.0 & 0.0 & 0.824239 \\\\\n",
       "\t9 & 0.0 & 0.0 & 0.0 & 0.0658067 \\\\\n",
       "\t10 & 0.0 & 0.0 & 0.0 & 2.267 \\\\\n",
       "\t11 & 0.0130032 & 0.175409 & 0.00666667 & 0.30287 \\\\\n",
       "\t12 & 0.0 & 0.0 & 0.0 & 0.422163 \\\\\n",
       "\t13 & 0.0 & 0.0 & 0.0 & -0.0790856 \\\\\n",
       "\t14 & 0.0 & 0.0 & 0.0 & -1.38776 \\\\\n",
       "\t15 & 0.0018024 & 0.0381922 & 0.00222222 & -0.875023 \\\\\n",
       "\t16 & 0.0 & 0.0 & 0.0 & 0.527815 \\\\\n",
       "\t17 & 0.0 & 0.0 & 0.0 & 1.883 \\\\\n",
       "\t18 & 0.0 & 0.0 & 0.0 & -0.710899 \\\\\n",
       "\t19 & 0.0 & 0.0 & 0.0 & 0.698474 \\\\\n",
       "\t20 & 0.0 & 0.0 & 0.0 & 0.942741 \\\\\n",
       "\t21 & 0.0 & 0.0 & 0.0 & -0.249449 \\\\\n",
       "\t22 & 0.0 & 0.0 & 0.0 & 0.124184 \\\\\n",
       "\t23 & 0.0 & 0.0 & 0.0 & -0.174369 \\\\\n",
       "\t24 & 0.0 & 0.0 & 0.0 & -1.80157 \\\\\n",
       "\t25 & -0.00349183 & 0.0739906 & 0.00222222 & -0.562428 \\\\\n",
       "\t26 & 0.0 & 0.0 & 0.0 & -0.612783 \\\\\n",
       "\t27 & 0.0 & 0.0 & 0.0 & -0.144363 \\\\\n",
       "\t28 & 0.0 & 0.0 & 0.0 & 0.352801 \\\\\n",
       "\t29 & 0.0 & 0.0 & 0.0 & 0.641053 \\\\\n",
       "\t30 & 0.0 & 0.0 & 0.0 & 1.95585 \\\\\n",
       "\t$\\dots$ & $\\dots$ & $\\dots$ & $\\dots$ & $\\dots$ \\\\\n",
       "\\end{tabular}\n"
      ],
      "text/plain": [
       "50×4 DataFrame\n",
       "│ Row │ Estimate   │ Std_Error │ Model_Frequency │ x1        │\n",
       "│     │ \u001b[90mAny\u001b[39m        │ \u001b[90mAny\u001b[39m       │ \u001b[90mAny\u001b[39m             │ \u001b[90mFloat64\u001b[39m   │\n",
       "├─────┼────────────┼───────────┼─────────────────┼───────────┤\n",
       "│ 1   │ 98.8429    │ 0.985932  │ 1.0             │ 100.0     │\n",
       "│ 2   │ 9.54047    │ 0.78769   │ 1.0             │ 10.0      │\n",
       "│ 3   │ 5.86846    │ 0.829012  │ 1.0             │ 5.0       │\n",
       "│ 4   │ 0.00651465 │ 0.138043  │ 0.00222222      │ 1.41845   │\n",
       "│ 5   │ 0.0        │ 0.0       │ 0.0             │ 0.2227    │\n",
       "│ 6   │ 0.0        │ 0.0       │ 0.0             │ -0.561169 │\n",
       "│ 7   │ 0.0        │ 0.0       │ 0.0             │ 1.16775   │\n",
       "│ 8   │ 0.0        │ 0.0       │ 0.0             │ 0.824239  │\n",
       "│ 9   │ 0.0        │ 0.0       │ 0.0             │ 0.0658067 │\n",
       "│ 10  │ 0.0        │ 0.0       │ 0.0             │ 2.267     │\n",
       "⋮\n",
       "│ 40  │ 0.0        │ 0.0       │ 0.0             │ 1.4503    │\n",
       "│ 41  │ 0.0        │ 0.0       │ 0.0             │ -1.84374  │\n",
       "│ 42  │ 0.0        │ 0.0       │ 0.0             │ 1.11635   │\n",
       "│ 43  │ 0.0        │ 0.0       │ 0.0             │ -1.0308   │\n",
       "│ 44  │ 0.0        │ 0.0       │ 0.0             │ -1.10246  │\n",
       "│ 45  │ 0.00337362 │ 0.0714858 │ 0.00222222      │ 0.955436  │\n",
       "│ 46  │ 0.0        │ 0.0       │ 0.0             │ -0.384055 │\n",
       "│ 47  │ 0.0        │ 0.0       │ 0.0             │ 0.439732  │\n",
       "│ 48  │ 0.0        │ 0.0       │ 0.0             │ 0.42932   │\n",
       "│ 49  │ 0.0        │ 0.0       │ 0.0             │ 1.52361   │\n",
       "│ 50  │ 0.0        │ 0.0       │ 0.0             │ -1.56337  │"
      ]
     },
     "execution_count": 8,
     "metadata": {},
     "output_type": "execute_result"
    }
   ],
   "source": [
    "res = [out[\"marker effects\"][selQTL,[3,4,5]] α]"
   ]
  },
  {
   "cell_type": "code",
   "execution_count": 9,
   "metadata": {},
   "outputs": [
    {
     "data": {
      "text/html": [
       "<table class=\"data-frame\"><thead><tr><th></th><th>Estimate</th><th>Std_Error</th><th>Model_Frequency</th></tr><tr><th></th><th>Any</th><th>Any</th><th>Any</th></tr></thead><tbody><p>950 rows × 3 columns</p><tr><th>1</th><td>0.0</td><td>0.0</td><td>0.0</td></tr><tr><th>2</th><td>0.0</td><td>0.0</td><td>0.0</td></tr><tr><th>3</th><td>0.0</td><td>0.0</td><td>0.0</td></tr><tr><th>4</th><td>0.000607068</td><td>0.0128636</td><td>0.00222222</td></tr><tr><th>5</th><td>0.0</td><td>0.0</td><td>0.0</td></tr><tr><th>6</th><td>0.0</td><td>0.0</td><td>0.0</td></tr><tr><th>7</th><td>0.0</td><td>0.0</td><td>0.0</td></tr><tr><th>8</th><td>0.0</td><td>0.0</td><td>0.0</td></tr><tr><th>9</th><td>0.0</td><td>0.0</td><td>0.0</td></tr><tr><th>10</th><td>0.0</td><td>0.0</td><td>0.0</td></tr><tr><th>11</th><td>0.0</td><td>0.0</td><td>0.0</td></tr><tr><th>12</th><td>0.0</td><td>0.0</td><td>0.0</td></tr><tr><th>13</th><td>0.0</td><td>0.0</td><td>0.0</td></tr><tr><th>14</th><td>0.0</td><td>0.0</td><td>0.0</td></tr><tr><th>15</th><td>0.0</td><td>0.0</td><td>0.0</td></tr><tr><th>16</th><td>0.0</td><td>0.0</td><td>0.0</td></tr><tr><th>17</th><td>0.0</td><td>0.0</td><td>0.0</td></tr><tr><th>18</th><td>0.0</td><td>0.0</td><td>0.0</td></tr><tr><th>19</th><td>0.0</td><td>0.0</td><td>0.0</td></tr><tr><th>20</th><td>0.0</td><td>0.0</td><td>0.0</td></tr><tr><th>21</th><td>0.0</td><td>0.0</td><td>0.0</td></tr><tr><th>22</th><td>0.0</td><td>0.0</td><td>0.0</td></tr><tr><th>23</th><td>0.0</td><td>0.0</td><td>0.0</td></tr><tr><th>24</th><td>0.0</td><td>0.0</td><td>0.0</td></tr><tr><th>25</th><td>0.0</td><td>0.0</td><td>0.0</td></tr><tr><th>26</th><td>0.0</td><td>0.0</td><td>0.0</td></tr><tr><th>27</th><td>0.0</td><td>0.0</td><td>0.0</td></tr><tr><th>28</th><td>0.0</td><td>0.0</td><td>0.0</td></tr><tr><th>29</th><td>0.0</td><td>0.0</td><td>0.0</td></tr><tr><th>30</th><td>0.0</td><td>0.0</td><td>0.0</td></tr><tr><th>&vellip;</th><td>&vellip;</td><td>&vellip;</td><td>&vellip;</td></tr></tbody></table>"
      ],
      "text/latex": [
       "\\begin{tabular}{r|ccc}\n",
       "\t& Estimate & Std\\_Error & Model\\_Frequency\\\\\n",
       "\t\\hline\n",
       "\t& Any & Any & Any\\\\\n",
       "\t\\hline\n",
       "\t1 & 0.0 & 0.0 & 0.0 \\\\\n",
       "\t2 & 0.0 & 0.0 & 0.0 \\\\\n",
       "\t3 & 0.0 & 0.0 & 0.0 \\\\\n",
       "\t4 & 0.000607068 & 0.0128636 & 0.00222222 \\\\\n",
       "\t5 & 0.0 & 0.0 & 0.0 \\\\\n",
       "\t6 & 0.0 & 0.0 & 0.0 \\\\\n",
       "\t7 & 0.0 & 0.0 & 0.0 \\\\\n",
       "\t8 & 0.0 & 0.0 & 0.0 \\\\\n",
       "\t9 & 0.0 & 0.0 & 0.0 \\\\\n",
       "\t10 & 0.0 & 0.0 & 0.0 \\\\\n",
       "\t11 & 0.0 & 0.0 & 0.0 \\\\\n",
       "\t12 & 0.0 & 0.0 & 0.0 \\\\\n",
       "\t13 & 0.0 & 0.0 & 0.0 \\\\\n",
       "\t14 & 0.0 & 0.0 & 0.0 \\\\\n",
       "\t15 & 0.0 & 0.0 & 0.0 \\\\\n",
       "\t16 & 0.0 & 0.0 & 0.0 \\\\\n",
       "\t17 & 0.0 & 0.0 & 0.0 \\\\\n",
       "\t18 & 0.0 & 0.0 & 0.0 \\\\\n",
       "\t19 & 0.0 & 0.0 & 0.0 \\\\\n",
       "\t20 & 0.0 & 0.0 & 0.0 \\\\\n",
       "\t21 & 0.0 & 0.0 & 0.0 \\\\\n",
       "\t22 & 0.0 & 0.0 & 0.0 \\\\\n",
       "\t23 & 0.0 & 0.0 & 0.0 \\\\\n",
       "\t24 & 0.0 & 0.0 & 0.0 \\\\\n",
       "\t25 & 0.0 & 0.0 & 0.0 \\\\\n",
       "\t26 & 0.0 & 0.0 & 0.0 \\\\\n",
       "\t27 & 0.0 & 0.0 & 0.0 \\\\\n",
       "\t28 & 0.0 & 0.0 & 0.0 \\\\\n",
       "\t29 & 0.0 & 0.0 & 0.0 \\\\\n",
       "\t30 & 0.0 & 0.0 & 0.0 \\\\\n",
       "\t$\\dots$ & $\\dots$ & $\\dots$ & $\\dots$ \\\\\n",
       "\\end{tabular}\n"
      ],
      "text/plain": [
       "950×3 DataFrame\n",
       "│ Row │ Estimate    │ Std_Error │ Model_Frequency │\n",
       "│     │ \u001b[90mAny\u001b[39m         │ \u001b[90mAny\u001b[39m       │ \u001b[90mAny\u001b[39m             │\n",
       "├─────┼─────────────┼───────────┼─────────────────┤\n",
       "│ 1   │ 0.0         │ 0.0       │ 0.0             │\n",
       "│ 2   │ 0.0         │ 0.0       │ 0.0             │\n",
       "│ 3   │ 0.0         │ 0.0       │ 0.0             │\n",
       "│ 4   │ 0.000607068 │ 0.0128636 │ 0.00222222      │\n",
       "│ 5   │ 0.0         │ 0.0       │ 0.0             │\n",
       "│ 6   │ 0.0         │ 0.0       │ 0.0             │\n",
       "│ 7   │ 0.0         │ 0.0       │ 0.0             │\n",
       "│ 8   │ 0.0         │ 0.0       │ 0.0             │\n",
       "│ 9   │ 0.0         │ 0.0       │ 0.0             │\n",
       "│ 10  │ 0.0         │ 0.0       │ 0.0             │\n",
       "⋮\n",
       "│ 940 │ 0.0         │ 0.0       │ 0.0             │\n",
       "│ 941 │ 0.0         │ 0.0       │ 0.0             │\n",
       "│ 942 │ 0.0         │ 0.0       │ 0.0             │\n",
       "│ 943 │ 0.0         │ 0.0       │ 0.0             │\n",
       "│ 944 │ 0.0         │ 0.0       │ 0.0             │\n",
       "│ 945 │ 0.0         │ 0.0       │ 0.0             │\n",
       "│ 946 │ 0.0         │ 0.0       │ 0.0             │\n",
       "│ 947 │ 0.0         │ 0.0       │ 0.0             │\n",
       "│ 948 │ 0.0         │ 0.0       │ 0.0             │\n",
       "│ 949 │ 0.000539055 │ 0.0114224 │ 0.00222222      │\n",
       "│ 950 │ 0.0         │ 0.0       │ 0.0             │"
      ]
     },
     "execution_count": 9,
     "metadata": {},
     "output_type": "execute_result"
    }
   ],
   "source": [
    "out[\"marker effects\"][selMrk,[3,4,5]]"
   ]
  },
  {
   "cell_type": "code",
   "execution_count": 11,
   "metadata": {},
   "outputs": [
    {
     "data": {
      "text/plain": [
       "\"phenotypes\""
      ]
     },
     "execution_count": 11,
     "metadata": {},
     "output_type": "execute_result"
    }
   ],
   "source": [
    "CSV.write(\"phenotypes\",df,delim=' ')"
   ]
  },
  {
   "cell_type": "code",
   "execution_count": 23,
   "metadata": {},
   "outputs": [
    {
     "data": {
      "text/plain": [
       "IOStream(<file genotypes>)"
      ]
     },
     "execution_count": 23,
     "metadata": {},
     "output_type": "execute_result"
    }
   ],
   "source": [
    "genFile = open(\"genotypes\",\"w\")"
   ]
  },
  {
   "cell_type": "code",
   "execution_count": 24,
   "metadata": {},
   "outputs": [],
   "source": [
    "# write header for genotype file\n",
    "print(genFile,\"id \")\n",
    "for i=1:p\n",
    "    @printf(genFile,\"%4d \",i)\n",
    "end\n",
    "@printf(genFile,\"\\n\")\n",
    "# genotypes for i=1:n\n",
    "for i=1:n\n",
    "    @printf(genFile,\"%4d \",i) # individual id\n",
    "    for j=1:p\n",
    "        gen = (M[i,j] - 1.0)*10.0 \n",
    "        @printf(genFile,\"%5.1f \",gen)\n",
    "    end\n",
    "    @printf(genFile,\"\\n\")\n",
    "end"
   ]
  },
  {
   "cell_type": "code",
   "execution_count": 25,
   "metadata": {},
   "outputs": [],
   "source": [
    "close(genFile)"
   ]
  },
  {
   "cell_type": "code",
   "execution_count": null,
   "metadata": {},
   "outputs": [],
   "source": []
  }
 ],
 "metadata": {
  "kernelspec": {
   "display_name": "Julia 1.1.0",
   "language": "julia",
   "name": "julia-1.1"
  },
  "language_info": {
   "file_extension": ".jl",
   "mimetype": "application/julia",
   "name": "julia",
   "version": "1.1.0"
  }
 },
 "nbformat": 4,
 "nbformat_minor": 2
}
