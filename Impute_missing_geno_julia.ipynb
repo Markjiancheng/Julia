{
 "cells": [
  {
   "cell_type": "code",
   "execution_count": 1,
   "metadata": {},
   "outputs": [],
   "source": [
    "using CSV\n",
    "using LinearAlgebra,Statistics,Random,DelimitedFiles, DataFrames"
   ]
  },
  {
   "cell_type": "code",
   "execution_count": 2,
   "metadata": {},
   "outputs": [
    {
     "data": {
      "text/plain": [
       "writeMatBin (generic function with 1 method)"
      ]
     },
     "execution_count": 2,
     "metadata": {},
     "output_type": "execute_result"
    }
   ],
   "source": [
    "function writeMatBin(inFileName,outFileName;header=true,dlm=' ',missingStr=\"NA\")\n",
    "    inFile   = open(inFileName, \"r\")\n",
    "    n    = countlines(inFile)\n",
    "    close(inFile)\n",
    "    inFile   = open(inFileName, \"r\")\n",
    "    line = readline(inFile)\n",
    "    res  = split(line,dlm)\n",
    "    p    = size(res,1)\n",
    "    close(inFile)\n",
    " \n",
    "    if header==true\n",
    "        M = Array{Union{Float64,Missings.Missing}}(undef,p-1,n-1)\n",
    "        j = 0\n",
    "    else\n",
    "        M = Array{Union{Float64,Missings.Missing}}(undef,p-1,n)\n",
    "        ids = Array{String}(undef,n)            \n",
    "        j = 1\n",
    "    end\n",
    "    outID = open(outFileName*\".ids.txt\",\"w\")     \n",
    "    for line in eachline(inFileName)\n",
    "        if j > 0 # skip header\n",
    "            if j%100 == 0 \n",
    "                println(j)\n",
    "            end\n",
    "            res  = split(line,dlm)\n",
    "            println(outID,res[1])   \n",
    "            for i in 2:p \n",
    "                x = res[i]\n",
    "                M[i-1,j] = x!=missingStr ? parse(Float64,x) : Missings.missing\n",
    "            end\n",
    "        end\n",
    "        j += 1\n",
    "    end\n",
    "\n",
    "    replaceMissing!(M)\n",
    "    M = convert(Array{Float64}, M)\n",
    "    if header==true\n",
    "        write(outFileName*\".gen.bin\",n-1,p-1,M')\n",
    "    else\n",
    "        write(outFileName*\".gen.bin\",n-1,p-1,M')\n",
    "    end\n",
    "    close(outID)            \n",
    "end"
   ]
  },
  {
   "cell_type": "code",
   "execution_count": 3,
   "metadata": {},
   "outputs": [
    {
     "data": {
      "text/plain": [
       "readMatBin (generic function with 1 method)"
      ]
     },
     "execution_count": 3,
     "metadata": {},
     "output_type": "execute_result"
    }
   ],
   "source": [
    "function readMatBin(fileName)\n",
    "    genStr = open(fileName)\n",
    "    n = read(genStr,Int64)\n",
    "    p = read(genStr,Int64)\n",
    "    M = zeros(n,p)\n",
    "    for j in 1:p\n",
    "        for i in 1:n\n",
    "            M[i,j] = read(genStr,Float64)\n",
    "        end\n",
    "    end\n",
    "    close(genStr)\n",
    "    return M\n",
    "end"
   ]
  },
  {
   "cell_type": "code",
   "execution_count": 4,
   "metadata": {},
   "outputs": [
    {
     "name": "stdout",
     "output_type": "stream",
     "text": [
      "100\n",
      "200\n",
      "300\n",
      "400\n",
      "500\n",
      "600\n",
      "700\n",
      "800\n",
      "900\n",
      "1000\n",
      "1100\n",
      "1200\n",
      "1300\n",
      "1400\n",
      "1500\n",
      "1600\n",
      "1700\n",
      "1800\n",
      "1900\n",
      "2000\n",
      "2100\n",
      "2200\n",
      "2300\n",
      "2400\n",
      "2500\n",
      "2600\n",
      "2700\n",
      "2800\n",
      "2900\n",
      "3000\n",
      "3100\n",
      "3200\n"
     ]
    },
    {
     "ename": "UndefVarError",
     "evalue": "UndefVarError: replaceMissing! not defined",
     "output_type": "error",
     "traceback": [
      "UndefVarError: replaceMissing! not defined",
      "",
      "Stacktrace:",
      " [1] #writeMatBin#3(::Bool, ::Char, ::String, ::Function, ::String, ::String) at ./In[2]:35",
      " [2] (::getfield(Main, Symbol(\"#kw##writeMatBin\")))(::NamedTuple{(:missingStr,),Tuple{String}}, ::typeof(writeMatBin), ::String, ::String) at ./none:0",
      " [3] top-level scope at In[4]:1"
     ]
    }
   ],
   "source": [
    "writeMatBin(\"ALGP2_Cycle_1_7_Geno_Complete_JWAS.txt\",\"ALGP2_Cycle_1_7_Geno_Complete_JWAS.bin\",missingStr=\".\")"
   ]
  },
  {
   "cell_type": "code",
   "execution_count": null,
   "metadata": {},
   "outputs": [],
   "source": [
    "M = readMatBin(\"Geno_JWAS_impute.bin.gen.bin\")"
   ]
  },
  {
   "cell_type": "code",
   "execution_count": 3,
   "metadata": {},
   "outputs": [
    {
     "data": {
      "text/plain": [
       "replaceMissing! (generic function with 1 method)"
      ]
     },
     "execution_count": 3,
     "metadata": {},
     "output_type": "execute_result"
    }
   ],
   "source": [
    "# impute missing snps\n",
    "function replaceMissing!(M)\n",
    "    for j=1:size(M,2)\n",
    "        jMean = mean(skipmissing(M[:,j]))\n",
    "        M[ismissing.(M[:,j]),j] .= jMean\n",
    "    end\n",
    "end"
   ]
  }
 ],
 "metadata": {
  "kernelspec": {
   "display_name": "Julia 1.1.0",
   "language": "julia",
   "name": "julia-1.1"
  },
  "language_info": {
   "file_extension": ".jl",
   "mimetype": "application/julia",
   "name": "julia",
   "version": "1.1.0"
  }
 },
 "nbformat": 4,
 "nbformat_minor": 2
}
