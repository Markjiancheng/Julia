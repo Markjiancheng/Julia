{
 "cells": [
  {
   "cell_type": "code",
   "execution_count": 2,
   "metadata": {},
   "outputs": [],
   "source": [
    "using DataFrames              # package for working with data sets\n",
    "using JWAS                    # package for Bayesian regression analyses, including BayesB and BayesCπ        \n",
    "#using JWAS:misc               # utility functions\n",
    "using JWAS.Datasets                       # package for plotting \n",
    "using CSV\n",
    "using DelimitedFiles\n",
    "using Statistics"
   ]
  },
  {
   "cell_type": "code",
   "execution_count": 4,
   "metadata": {},
   "outputs": [
    {
     "name": "stdout",
     "output_type": "stream",
     "text": [
      " 27.115021 seconds (30.73 k allocations: 10.393 GiB, 0.07% gc time)\n"
     ]
    },
    {
     "data": {
      "text/plain": [
       "3205×435172 Array{Float64,2}:\n",
       " 0.0  2.0  0.0  2.0  2.0  0.0  2.0  2.0  …  0.0  2.0  0.0  2.0  2.0  2.0  2.0\n",
       " 1.0  2.0  0.0  2.0  2.0  0.0  1.0  2.0     0.0  2.0  1.0  2.0  2.0  2.0  2.0\n",
       " 0.0  2.0  0.0  1.0  2.0  0.0  1.0  2.0     0.0  2.0  0.0  2.0  2.0  2.0  2.0\n",
       " 1.0  2.0  0.0  1.0  2.0  0.0  1.0  2.0     0.0  2.0  1.0  2.0  2.0  2.0  2.0\n",
       " 0.0  2.0  0.0  2.0  2.0  0.0  2.0  2.0     0.0  2.0  0.0  2.0  2.0  2.0  2.0\n",
       " 1.0  1.0  1.0  0.0  1.0  1.0  0.0  1.0  …  0.0  2.0  0.0  2.0  2.0  2.0  2.0\n",
       " 0.0  2.0  0.0  1.0  2.0  0.0  1.0  2.0     0.0  2.0  0.0  2.0  2.0  2.0  2.0\n",
       " 0.0  2.0  0.0  0.0  2.0  0.0  0.0  2.0     0.0  2.0  0.0  2.0  2.0  2.0  2.0\n",
       " 1.0  2.0  0.0  0.0  2.0  0.0  0.0  2.0     0.0  2.0  0.0  2.0  2.0  2.0  2.0\n",
       " 0.0  2.0  0.0  2.0  2.0  0.0  2.0  2.0     0.0  2.0  1.0  2.0  2.0  2.0  2.0\n",
       " 1.0  1.0  0.0  1.0  2.0  0.0  0.0  2.0  …  0.0  2.0  0.0  2.0  2.0  2.0  2.0\n",
       " 0.0  2.0  0.0  0.0  2.0  0.0  0.0  2.0     0.0  2.0  0.0  2.0  2.0  2.0  2.0\n",
       " 1.0  1.0  1.0  1.0  1.0  1.0  1.0  1.0     0.0  2.0  1.0  2.0  2.0  2.0  2.0\n",
       " ⋮                        ⋮              ⋱  ⋮                        ⋮       \n",
       " 0.0  2.0  0.0  0.0  2.0  0.0  0.0  2.0     1.0  2.0  0.0  2.0  2.0  2.0  2.0\n",
       " 1.0  2.0  0.0  1.0  2.0  0.0  0.0  2.0     1.0  2.0  0.0  2.0  2.0  2.0  2.0\n",
       " 2.0  2.0  0.0  2.0  2.0  0.0  0.0  2.0  …  1.0  2.0  0.0  2.0  2.0  2.0  2.0\n",
       " 2.0  1.0  1.0  1.0  1.0  1.0  0.0  1.0     1.0  2.0  0.0  2.0  2.0  2.0  2.0\n",
       " 2.0  2.0  0.0  2.0  2.0  0.0  0.0  2.0     0.0  2.0  0.0  2.0  2.0  2.0  2.0\n",
       " 2.0  2.0  0.0  2.0  2.0  0.0  0.0  2.0     1.0  2.0  0.0  2.0  2.0  2.0  2.0\n",
       " 1.0  1.0  1.0  0.0  1.0  1.0  0.0  1.0     0.0  2.0  0.0  2.0  2.0  2.0  2.0\n",
       " 2.0  0.0  2.0  0.0  0.0  2.0  0.0  0.0  …  1.0  2.0  0.0  2.0  2.0  2.0  2.0\n",
       " 0.0  2.0  0.0  1.0  2.0  0.0  1.0  2.0     1.0  2.0  0.0  2.0  2.0  2.0  2.0\n",
       " 1.0  1.0  1.0  1.0  1.0  1.0  1.0  1.0     1.0  2.0  0.0  2.0  2.0  2.0  2.0\n",
       " 0.0  2.0  0.0  1.0  2.0  0.0  1.0  2.0     1.0  2.0  0.0  2.0  2.0  2.0  2.0\n",
       " 1.0  2.0  0.0  1.0  2.0  0.0  0.0  2.0     1.0  2.0  0.0  2.0  2.0  2.0  2.0"
      ]
     },
     "execution_count": 4,
     "metadata": {},
     "output_type": "execute_result"
    }
   ],
   "source": [
    "function readMatBin(fileName)\n",
    "    genStr = open(fileName)\n",
    "    n = read(genStr,Int64)\n",
    "    p = read(genStr,Int64)\n",
    "    M = zeros(n,p)\n",
    "    for j in 1:p\n",
    "        for i in 1:n\n",
    "            M[i,j] = read(genStr,Float64)\n",
    "        end\n",
    "    end\n",
    "    close(genStr)\n",
    "    return M\n",
    "end\n",
    "@time M = readMatBin(\"/home/jovyan/mark/JWAS_CDPQ/CDPQ_all_data/ALGP2_Cycle_1_7_Geno_Complete_Impute_JWAS.bin.gen.bin\")"
   ]
  },
  {
   "cell_type": "markdown",
   "metadata": {},
   "source": [
    "## BV correlation for MHC region from MCMC BayesB samples"
   ]
  },
  {
   "cell_type": "code",
   "execution_count": 116,
   "metadata": {},
   "outputs": [
    {
     "data": {
      "text/html": [
       "<table class=\"data-frame\"><thead><tr><th></th><th>iteration</th><th>corr</th><th>var_AllTRT</th><th>var_ADG</th><th>covar</th></tr><tr><th></th><th>Int64</th><th>Float64</th><th>Float64</th><th>Float64</th><th>Float64</th></tr></thead><tbody><p>450 rows × 5 columns</p><tr><th>1</th><td>1</td><td>0.494528</td><td>0.000256601</td><td>9.24712e-5</td><td>7.61769e-5</td></tr><tr><th>2</th><td>2</td><td>0.309898</td><td>0.000351121</td><td>6.1389e-5</td><td>4.54981e-5</td></tr><tr><th>3</th><td>3</td><td>0.318354</td><td>0.000775818</td><td>0.000148727</td><td>0.00010814</td></tr><tr><th>4</th><td>4</td><td>-0.0868045</td><td>0.00041736</td><td>0.0005468</td><td>-4.14679e-5</td></tr><tr><th>5</th><td>5</td><td>0.0859703</td><td>0.000884745</td><td>1.4398e-5</td><td>9.70306e-6</td></tr><tr><th>6</th><td>6</td><td>0.297302</td><td>0.00205293</td><td>4.52206e-5</td><td>9.05842e-5</td></tr><tr><th>7</th><td>7</td><td>0.435648</td><td>0.00048932</td><td>0.000639306</td><td>0.000243661</td></tr><tr><th>8</th><td>8</td><td>-0.361789</td><td>0.000640996</td><td>9.82729e-5</td><td>-9.08029e-5</td></tr><tr><th>9</th><td>9</td><td>0.332904</td><td>0.00256015</td><td>3.19218e-5</td><td>9.5169e-5</td></tr><tr><th>10</th><td>10</td><td>-0.0117537</td><td>0.00453891</td><td>3.64141e-5</td><td>-4.77844e-6</td></tr><tr><th>11</th><td>11</td><td>-0.308664</td><td>0.000155749</td><td>0.000143732</td><td>-4.61822e-5</td></tr><tr><th>12</th><td>12</td><td>0.202861</td><td>0.000305635</td><td>6.2488e-5</td><td>2.80348e-5</td></tr><tr><th>13</th><td>13</td><td>0.574541</td><td>0.000231839</td><td>3.89902e-5</td><td>5.4625e-5</td></tr><tr><th>14</th><td>14</td><td>0.405118</td><td>0.00109089</td><td>3.87806e-5</td><td>8.33256e-5</td></tr><tr><th>15</th><td>15</td><td>0.259172</td><td>0.000913389</td><td>0.000132776</td><td>9.02562e-5</td></tr><tr><th>16</th><td>16</td><td>-0.590284</td><td>0.00042845</td><td>0.000227174</td><td>-0.000184158</td></tr><tr><th>17</th><td>17</td><td>0.177394</td><td>0.00114862</td><td>0.000680918</td><td>0.000156883</td></tr><tr><th>18</th><td>18</td><td>-0.13021</td><td>0.000605142</td><td>1.63076e-5</td><td>-1.2935e-5</td></tr><tr><th>19</th><td>19</td><td>-0.62875</td><td>0.000310184</td><td>6.80945e-5</td><td>-9.13784e-5</td></tr><tr><th>20</th><td>20</td><td>0.0115685</td><td>0.000925779</td><td>1.38215e-5</td><td>1.3086e-6</td></tr><tr><th>21</th><td>21</td><td>-0.0909594</td><td>0.000664616</td><td>5.5421e-5</td><td>-1.7457e-5</td></tr><tr><th>22</th><td>22</td><td>0.253625</td><td>0.00268409</td><td>0.000111601</td><td>0.000138811</td></tr><tr><th>23</th><td>23</td><td>-0.437221</td><td>0.000691177</td><td>4.98965e-5</td><td>-8.11953e-5</td></tr><tr><th>24</th><td>24</td><td>-0.0824577</td><td>0.00058208</td><td>0.000381134</td><td>-3.88384e-5</td></tr><tr><th>25</th><td>25</td><td>-0.662872</td><td>0.00151286</td><td>2.11763e-5</td><td>-0.000118646</td></tr><tr><th>26</th><td>26</td><td>-0.693859</td><td>0.000174805</td><td>0.000111639</td><td>-9.69297e-5</td></tr><tr><th>27</th><td>27</td><td>-0.828832</td><td>0.00046712</td><td>0.000113383</td><td>-0.000190746</td></tr><tr><th>28</th><td>28</td><td>0.204248</td><td>0.00171173</td><td>4.25133e-5</td><td>5.50983e-5</td></tr><tr><th>29</th><td>29</td><td>0.43618</td><td>0.00117724</td><td>0.000396903</td><td>0.000298153</td></tr><tr><th>30</th><td>30</td><td>-0.631346</td><td>0.000713603</td><td>0.000114155</td><td>-0.000180195</td></tr><tr><th>&vellip;</th><td>&vellip;</td><td>&vellip;</td><td>&vellip;</td><td>&vellip;</td><td>&vellip;</td></tr></tbody></table>"
      ],
      "text/latex": [
       "\\begin{tabular}{r|ccccc}\n",
       "\t& iteration & corr & var\\_AllTRT & var\\_ADG & covar\\\\\n",
       "\t\\hline\n",
       "\t& Int64 & Float64 & Float64 & Float64 & Float64\\\\\n",
       "\t\\hline\n",
       "\t1 & 1 & 0.494528 & 0.000256601 & 9.24712e-5 & 7.61769e-5 \\\\\n",
       "\t2 & 2 & 0.309898 & 0.000351121 & 6.1389e-5 & 4.54981e-5 \\\\\n",
       "\t3 & 3 & 0.318354 & 0.000775818 & 0.000148727 & 0.00010814 \\\\\n",
       "\t4 & 4 & -0.0868045 & 0.00041736 & 0.0005468 & -4.14679e-5 \\\\\n",
       "\t5 & 5 & 0.0859703 & 0.000884745 & 1.4398e-5 & 9.70306e-6 \\\\\n",
       "\t6 & 6 & 0.297302 & 0.00205293 & 4.52206e-5 & 9.05842e-5 \\\\\n",
       "\t7 & 7 & 0.435648 & 0.00048932 & 0.000639306 & 0.000243661 \\\\\n",
       "\t8 & 8 & -0.361789 & 0.000640996 & 9.82729e-5 & -9.08029e-5 \\\\\n",
       "\t9 & 9 & 0.332904 & 0.00256015 & 3.19218e-5 & 9.5169e-5 \\\\\n",
       "\t10 & 10 & -0.0117537 & 0.00453891 & 3.64141e-5 & -4.77844e-6 \\\\\n",
       "\t11 & 11 & -0.308664 & 0.000155749 & 0.000143732 & -4.61822e-5 \\\\\n",
       "\t12 & 12 & 0.202861 & 0.000305635 & 6.2488e-5 & 2.80348e-5 \\\\\n",
       "\t13 & 13 & 0.574541 & 0.000231839 & 3.89902e-5 & 5.4625e-5 \\\\\n",
       "\t14 & 14 & 0.405118 & 0.00109089 & 3.87806e-5 & 8.33256e-5 \\\\\n",
       "\t15 & 15 & 0.259172 & 0.000913389 & 0.000132776 & 9.02562e-5 \\\\\n",
       "\t16 & 16 & -0.590284 & 0.00042845 & 0.000227174 & -0.000184158 \\\\\n",
       "\t17 & 17 & 0.177394 & 0.00114862 & 0.000680918 & 0.000156883 \\\\\n",
       "\t18 & 18 & -0.13021 & 0.000605142 & 1.63076e-5 & -1.2935e-5 \\\\\n",
       "\t19 & 19 & -0.62875 & 0.000310184 & 6.80945e-5 & -9.13784e-5 \\\\\n",
       "\t20 & 20 & 0.0115685 & 0.000925779 & 1.38215e-5 & 1.3086e-6 \\\\\n",
       "\t21 & 21 & -0.0909594 & 0.000664616 & 5.5421e-5 & -1.7457e-5 \\\\\n",
       "\t22 & 22 & 0.253625 & 0.00268409 & 0.000111601 & 0.000138811 \\\\\n",
       "\t23 & 23 & -0.437221 & 0.000691177 & 4.98965e-5 & -8.11953e-5 \\\\\n",
       "\t24 & 24 & -0.0824577 & 0.00058208 & 0.000381134 & -3.88384e-5 \\\\\n",
       "\t25 & 25 & -0.662872 & 0.00151286 & 2.11763e-5 & -0.000118646 \\\\\n",
       "\t26 & 26 & -0.693859 & 0.000174805 & 0.000111639 & -9.69297e-5 \\\\\n",
       "\t27 & 27 & -0.828832 & 0.00046712 & 0.000113383 & -0.000190746 \\\\\n",
       "\t28 & 28 & 0.204248 & 0.00171173 & 4.25133e-5 & 5.50983e-5 \\\\\n",
       "\t29 & 29 & 0.43618 & 0.00117724 & 0.000396903 & 0.000298153 \\\\\n",
       "\t30 & 30 & -0.631346 & 0.000713603 & 0.000114155 & -0.000180195 \\\\\n",
       "\t$\\dots$ & $\\dots$ & $\\dots$ & $\\dots$ & $\\dots$ & $\\dots$ \\\\\n",
       "\\end{tabular}\n"
      ],
      "text/plain": [
       "450×5 DataFrame\n",
       "│ Row │ iteration │ corr       │ var_AllTRT  │ var_ADG     │ covar        │\n",
       "│     │ \u001b[90mInt64\u001b[39m     │ \u001b[90mFloat64\u001b[39m    │ \u001b[90mFloat64\u001b[39m     │ \u001b[90mFloat64\u001b[39m     │ \u001b[90mFloat64\u001b[39m      │\n",
       "├─────┼───────────┼────────────┼─────────────┼─────────────┼──────────────┤\n",
       "│ 1   │ 1         │ 0.494528   │ 0.000256601 │ 9.24712e-5  │ 7.61769e-5   │\n",
       "│ 2   │ 2         │ 0.309898   │ 0.000351121 │ 6.1389e-5   │ 4.54981e-5   │\n",
       "│ 3   │ 3         │ 0.318354   │ 0.000775818 │ 0.000148727 │ 0.00010814   │\n",
       "│ 4   │ 4         │ -0.0868045 │ 0.00041736  │ 0.0005468   │ -4.14679e-5  │\n",
       "│ 5   │ 5         │ 0.0859703  │ 0.000884745 │ 1.4398e-5   │ 9.70306e-6   │\n",
       "│ 6   │ 6         │ 0.297302   │ 0.00205293  │ 4.52206e-5  │ 9.05842e-5   │\n",
       "│ 7   │ 7         │ 0.435648   │ 0.00048932  │ 0.000639306 │ 0.000243661  │\n",
       "│ 8   │ 8         │ -0.361789  │ 0.000640996 │ 9.82729e-5  │ -9.08029e-5  │\n",
       "│ 9   │ 9         │ 0.332904   │ 0.00256015  │ 3.19218e-5  │ 9.5169e-5    │\n",
       "│ 10  │ 10        │ -0.0117537 │ 0.00453891  │ 3.64141e-5  │ -4.77844e-6  │\n",
       "⋮\n",
       "│ 440 │ 440       │ 0.528692   │ 0.000352182 │ 0.000176945 │ 0.000131979  │\n",
       "│ 441 │ 441       │ -0.944801  │ 0.00133168  │ 0.000142875 │ -0.000412115 │\n",
       "│ 442 │ 442       │ -0.676497  │ 5.9251e-5   │ 2.64921e-5  │ -2.68023e-5  │\n",
       "│ 443 │ 443       │ -0.263585  │ 0.00169512  │ 0.000242031 │ -0.000168832 │\n",
       "│ 444 │ 444       │ -0.259528  │ 0.00668949  │ 9.35168e-5  │ -0.00020527  │\n",
       "│ 445 │ 445       │ 0.415785   │ 0.000545416 │ 3.65458e-5  │ 5.87018e-5   │\n",
       "│ 446 │ 446       │ 0.501261   │ 0.000716542 │ 0.000211363 │ 0.000195074  │\n",
       "│ 447 │ 447       │ -0.28065   │ 0.000190442 │ 1.92321e-5  │ -1.69848e-5  │\n",
       "│ 448 │ 448       │ 0.242487   │ 0.000169306 │ 1.15588e-5  │ 1.07271e-5   │\n",
       "│ 449 │ 449       │ 0.732788   │ 0.00130994  │ 0.000104832 │ 0.000271551  │\n",
       "│ 450 │ 450       │ 0.105563   │ 0.000731229 │ 7.94366e-6  │ 8.04542e-6   │"
      ]
     },
     "execution_count": 116,
     "metadata": {},
     "output_type": "execute_result"
    }
   ],
   "source": [
    "SNP_Effect_ADG= readdlm(\"CMIR_Score4/BayesB/MCMC_samples_marker_effects_geno_CMIR.txt\", ',',header=false)\n",
    "SNP_Effect_ADG= SNP_Effect_ADG[2:451,:]\n",
    "# Get marker effects for MHC region 20 to 30mb\n",
    "Effect_ADG_MHC= SNP_Effect_ADG[:, 185212:187459]  # obtained from Map info\n",
    "# Get genotypes for MHC region\n",
    "M_MHC= M[:, 185212:187459]\n",
    "M_MHC'\n",
    "BV_ADG_MHC= Effect_ADG_MHC * M_MHC'\n",
    "var_ADG= vec(var(BV_ADG_MHC, dims=2))  # Get var for each iteration\n",
    "\n",
    "# Get var for AllTRT\n",
    "SNP_Effect_AllTRT= readdlm(\"CMIR_Score4/BayesB/MCMC_samples_marker_effects_geno_Health_Score4.txt\", ',',header=false)\n",
    "SNP_Effect_AllTRT= SNP_Effect_AllTRT[2:451,:]\n",
    "# Get marker effects for MHC region 20 to 30mb\n",
    "Effect_AllTRT_MHC= SNP_Effect_AllTRT[:, 185212:187459]\n",
    "BV_AllTRT_MHC= Effect_AllTRT_MHC * M_MHC'\n",
    "var_AllTRT= vec(var(BV_AllTRT_MHC, dims=2)) # Get var for each iteration\n",
    "\n",
    "coVar = Array{Float64,1}()\n",
    "for i=1:450\n",
    "    adg= BV_ADG_MHC[i,:]\n",
    "    AllTRT= BV_AllTRT_MHC[i,:]\n",
    "    covi=cov(adg, AllTRT)\n",
    "    push!(coVar,covi)\n",
    "end\n",
    "\n",
    "out=DataFrame(covar=coVar)\n",
    "insertcols!(out, 1, :var_ADG => var_ADG)\n",
    "insertcols!(out, 1, :var_AllTRT => var_AllTRT)\n",
    "insertcols!(out, 1, :iteration => 1:450) # Add a column called iteration\n",
    "\n",
    "\n",
    "# genetic correlation\n",
    "Product= out[!,:var_AllTRT] .* out[!,:var_ADG]  # product of vars\n",
    "sqVar=[sqrt(i) for i in Product]  # get sqrt for whole vector\n",
    "rg= out[!,:covar] ./ sqVar[:,]  # Genetic correlations\n",
    "insertcols!(out, 2, :corr => rg)"
   ]
  },
  {
   "cell_type": "code",
   "execution_count": 117,
   "metadata": {},
   "outputs": [
    {
     "name": "stderr",
     "output_type": "stream",
     "text": [
      "┌ Warning: `getindex(df::DataFrame, col_ind::ColumnIndex)` is deprecated, use `df[!, col_ind]` instead.\n",
      "│   caller = top-level scope at In[117]:2\n",
      "└ @ Core In[117]:2\n"
     ]
    },
    {
     "data": {
      "text/plain": [
       "-0.04385263282834168"
      ]
     },
     "execution_count": 117,
     "metadata": {},
     "output_type": "execute_result"
    }
   ],
   "source": [
    "out= filter(row -> ! isnan(row.corr), out)\n",
    "mean(out[:corr])"
   ]
  },
  {
   "cell_type": "code",
   "execution_count": 118,
   "metadata": {},
   "outputs": [
    {
     "name": "stderr",
     "output_type": "stream",
     "text": [
      "┌ Warning: `getindex(df::DataFrame, col_ind::ColumnIndex)` is deprecated, use `df[!, col_ind]` instead.\n",
      "│   caller = top-level scope at In[118]:1\n",
      "└ @ Core In[118]:1\n"
     ]
    },
    {
     "data": {
      "text/plain": [
       "0.4359736233063462"
      ]
     },
     "execution_count": 118,
     "metadata": {},
     "output_type": "execute_result"
    }
   ],
   "source": [
    "std(out[:corr])"
   ]
  },
  {
   "cell_type": "markdown",
   "metadata": {},
   "source": [
    "## BV correlation for Chr17 region from MCMC BayesB samples"
   ]
  },
  {
   "cell_type": "code",
   "execution_count": 119,
   "metadata": {},
   "outputs": [
    {
     "data": {
      "text/html": [
       "<table class=\"data-frame\"><thead><tr><th></th><th>iteration</th><th>corr</th><th>var_AllTRT</th><th>var_ADG</th><th>covar</th></tr><tr><th></th><th>Int64</th><th>Float64</th><th>Float64</th><th>Float64</th><th>Float64</th></tr></thead><tbody><p>450 rows × 5 columns</p><tr><th>1</th><td>1</td><td>0.622604</td><td>0.00048608</td><td>0.000126887</td><td>0.000154623</td></tr><tr><th>2</th><td>2</td><td>0.452872</td><td>0.00123679</td><td>0.000594941</td><td>0.000388472</td></tr><tr><th>3</th><td>3</td><td>-0.745094</td><td>0.000205631</td><td>7.48104e-5</td><td>-9.24136e-5</td></tr><tr><th>4</th><td>4</td><td>0.298934</td><td>0.00281896</td><td>0.000209966</td><td>0.000229983</td></tr><tr><th>5</th><td>5</td><td>0.463564</td><td>0.000973386</td><td>4.74799e-5</td><td>9.96568e-5</td></tr><tr><th>6</th><td>6</td><td>-0.677217</td><td>0.00158079</td><td>0.000143249</td><td>-0.000322263</td></tr><tr><th>7</th><td>7</td><td>-0.638254</td><td>0.00329075</td><td>9.19746e-5</td><td>-0.000351136</td></tr><tr><th>8</th><td>8</td><td>0.0195385</td><td>0.00169517</td><td>3.78754e-6</td><td>1.56558e-6</td></tr><tr><th>9</th><td>9</td><td>-0.109984</td><td>0.000141715</td><td>0.000241299</td><td>-2.03383e-5</td></tr><tr><th>10</th><td>10</td><td>-0.174871</td><td>0.000450063</td><td>0.000205477</td><td>-5.31784e-5</td></tr><tr><th>11</th><td>11</td><td>0.315495</td><td>0.00133119</td><td>0.000150155</td><td>0.000141053</td></tr><tr><th>12</th><td>12</td><td>0.249954</td><td>4.50314e-5</td><td>5.84996e-5</td><td>1.2829e-5</td></tr><tr><th>13</th><td>13</td><td>0.407968</td><td>0.00652697</td><td>2.28597e-5</td><td>0.000157586</td></tr><tr><th>14</th><td>14</td><td>-0.0410942</td><td>0.00221277</td><td>0.000116498</td><td>-2.08645e-5</td></tr><tr><th>15</th><td>15</td><td>-0.144045</td><td>0.00167097</td><td>0.000478333</td><td>-0.00012878</td></tr><tr><th>16</th><td>16</td><td>-0.0608823</td><td>0.000668584</td><td>0.000640195</td><td>-3.98314e-5</td></tr><tr><th>17</th><td>17</td><td>-0.452788</td><td>0.00211699</td><td>4.60684e-5</td><td>-0.000141402</td></tr><tr><th>18</th><td>18</td><td>0.0263827</td><td>0.00136892</td><td>6.23523e-5</td><td>7.70788e-6</td></tr><tr><th>19</th><td>19</td><td>0.303538</td><td>0.00136872</td><td>0.000212948</td><td>0.000163873</td></tr><tr><th>20</th><td>20</td><td>-0.0297135</td><td>0.000787341</td><td>0.000102974</td><td>-8.46054e-6</td></tr><tr><th>21</th><td>21</td><td>-0.631101</td><td>0.00337265</td><td>0.000197666</td><td>-0.000515289</td></tr><tr><th>22</th><td>22</td><td>0.192767</td><td>0.00133548</td><td>1.29933e-5</td><td>2.53927e-5</td></tr><tr><th>23</th><td>23</td><td>-0.15319</td><td>0.000793537</td><td>4.09747e-5</td><td>-2.76231e-5</td></tr><tr><th>24</th><td>24</td><td>0.0972794</td><td>0.000247003</td><td>4.48733e-5</td><td>1.02416e-5</td></tr><tr><th>25</th><td>25</td><td>-0.412987</td><td>0.00102398</td><td>4.18942e-5</td><td>-8.5538e-5</td></tr><tr><th>26</th><td>26</td><td>-0.0376815</td><td>0.000277721</td><td>0.000192413</td><td>-8.71063e-6</td></tr><tr><th>27</th><td>27</td><td>0.0796253</td><td>0.00069248</td><td>2.16758e-5</td><td>9.75533e-6</td></tr><tr><th>28</th><td>28</td><td>-0.987168</td><td>0.00203051</td><td>0.000109615</td><td>-0.000465724</td></tr><tr><th>29</th><td>29</td><td>0.199202</td><td>0.000444108</td><td>0.000643692</td><td>0.000106507</td></tr><tr><th>30</th><td>30</td><td>0.118576</td><td>0.000130835</td><td>4.90297e-5</td><td>9.497e-6</td></tr><tr><th>&vellip;</th><td>&vellip;</td><td>&vellip;</td><td>&vellip;</td><td>&vellip;</td><td>&vellip;</td></tr></tbody></table>"
      ],
      "text/latex": [
       "\\begin{tabular}{r|ccccc}\n",
       "\t& iteration & corr & var\\_AllTRT & var\\_ADG & covar\\\\\n",
       "\t\\hline\n",
       "\t& Int64 & Float64 & Float64 & Float64 & Float64\\\\\n",
       "\t\\hline\n",
       "\t1 & 1 & 0.622604 & 0.00048608 & 0.000126887 & 0.000154623 \\\\\n",
       "\t2 & 2 & 0.452872 & 0.00123679 & 0.000594941 & 0.000388472 \\\\\n",
       "\t3 & 3 & -0.745094 & 0.000205631 & 7.48104e-5 & -9.24136e-5 \\\\\n",
       "\t4 & 4 & 0.298934 & 0.00281896 & 0.000209966 & 0.000229983 \\\\\n",
       "\t5 & 5 & 0.463564 & 0.000973386 & 4.74799e-5 & 9.96568e-5 \\\\\n",
       "\t6 & 6 & -0.677217 & 0.00158079 & 0.000143249 & -0.000322263 \\\\\n",
       "\t7 & 7 & -0.638254 & 0.00329075 & 9.19746e-5 & -0.000351136 \\\\\n",
       "\t8 & 8 & 0.0195385 & 0.00169517 & 3.78754e-6 & 1.56558e-6 \\\\\n",
       "\t9 & 9 & -0.109984 & 0.000141715 & 0.000241299 & -2.03383e-5 \\\\\n",
       "\t10 & 10 & -0.174871 & 0.000450063 & 0.000205477 & -5.31784e-5 \\\\\n",
       "\t11 & 11 & 0.315495 & 0.00133119 & 0.000150155 & 0.000141053 \\\\\n",
       "\t12 & 12 & 0.249954 & 4.50314e-5 & 5.84996e-5 & 1.2829e-5 \\\\\n",
       "\t13 & 13 & 0.407968 & 0.00652697 & 2.28597e-5 & 0.000157586 \\\\\n",
       "\t14 & 14 & -0.0410942 & 0.00221277 & 0.000116498 & -2.08645e-5 \\\\\n",
       "\t15 & 15 & -0.144045 & 0.00167097 & 0.000478333 & -0.00012878 \\\\\n",
       "\t16 & 16 & -0.0608823 & 0.000668584 & 0.000640195 & -3.98314e-5 \\\\\n",
       "\t17 & 17 & -0.452788 & 0.00211699 & 4.60684e-5 & -0.000141402 \\\\\n",
       "\t18 & 18 & 0.0263827 & 0.00136892 & 6.23523e-5 & 7.70788e-6 \\\\\n",
       "\t19 & 19 & 0.303538 & 0.00136872 & 0.000212948 & 0.000163873 \\\\\n",
       "\t20 & 20 & -0.0297135 & 0.000787341 & 0.000102974 & -8.46054e-6 \\\\\n",
       "\t21 & 21 & -0.631101 & 0.00337265 & 0.000197666 & -0.000515289 \\\\\n",
       "\t22 & 22 & 0.192767 & 0.00133548 & 1.29933e-5 & 2.53927e-5 \\\\\n",
       "\t23 & 23 & -0.15319 & 0.000793537 & 4.09747e-5 & -2.76231e-5 \\\\\n",
       "\t24 & 24 & 0.0972794 & 0.000247003 & 4.48733e-5 & 1.02416e-5 \\\\\n",
       "\t25 & 25 & -0.412987 & 0.00102398 & 4.18942e-5 & -8.5538e-5 \\\\\n",
       "\t26 & 26 & -0.0376815 & 0.000277721 & 0.000192413 & -8.71063e-6 \\\\\n",
       "\t27 & 27 & 0.0796253 & 0.00069248 & 2.16758e-5 & 9.75533e-6 \\\\\n",
       "\t28 & 28 & -0.987168 & 0.00203051 & 0.000109615 & -0.000465724 \\\\\n",
       "\t29 & 29 & 0.199202 & 0.000444108 & 0.000643692 & 0.000106507 \\\\\n",
       "\t30 & 30 & 0.118576 & 0.000130835 & 4.90297e-5 & 9.497e-6 \\\\\n",
       "\t$\\dots$ & $\\dots$ & $\\dots$ & $\\dots$ & $\\dots$ & $\\dots$ \\\\\n",
       "\\end{tabular}\n"
      ],
      "text/plain": [
       "450×5 DataFrame\n",
       "│ Row │ iteration │ corr      │ var_AllTRT  │ var_ADG     │ covar        │\n",
       "│     │ \u001b[90mInt64\u001b[39m     │ \u001b[90mFloat64\u001b[39m   │ \u001b[90mFloat64\u001b[39m     │ \u001b[90mFloat64\u001b[39m     │ \u001b[90mFloat64\u001b[39m      │\n",
       "├─────┼───────────┼───────────┼─────────────┼─────────────┼──────────────┤\n",
       "│ 1   │ 1         │ 0.622604  │ 0.00048608  │ 0.000126887 │ 0.000154623  │\n",
       "│ 2   │ 2         │ 0.452872  │ 0.00123679  │ 0.000594941 │ 0.000388472  │\n",
       "│ 3   │ 3         │ -0.745094 │ 0.000205631 │ 7.48104e-5  │ -9.24136e-5  │\n",
       "│ 4   │ 4         │ 0.298934  │ 0.00281896  │ 0.000209966 │ 0.000229983  │\n",
       "│ 5   │ 5         │ 0.463564  │ 0.000973386 │ 4.74799e-5  │ 9.96568e-5   │\n",
       "│ 6   │ 6         │ -0.677217 │ 0.00158079  │ 0.000143249 │ -0.000322263 │\n",
       "│ 7   │ 7         │ -0.638254 │ 0.00329075  │ 9.19746e-5  │ -0.000351136 │\n",
       "│ 8   │ 8         │ 0.0195385 │ 0.00169517  │ 3.78754e-6  │ 1.56558e-6   │\n",
       "│ 9   │ 9         │ -0.109984 │ 0.000141715 │ 0.000241299 │ -2.03383e-5  │\n",
       "│ 10  │ 10        │ -0.174871 │ 0.000450063 │ 0.000205477 │ -5.31784e-5  │\n",
       "⋮\n",
       "│ 440 │ 440       │ 0.183266  │ 0.000400936 │ 0.000192299 │ 5.08871e-5   │\n",
       "│ 441 │ 441       │ -0.590976 │ 0.00103849  │ 5.08497e-5  │ -0.000135805 │\n",
       "│ 442 │ 442       │ 0.104273  │ 0.00055363  │ 0.00496563  │ 0.00017289   │\n",
       "│ 443 │ 443       │ -0.342729 │ 0.000488815 │ 0.000108417 │ -7.88992e-5  │\n",
       "│ 444 │ 444       │ -0.408459 │ 0.000584748 │ 0.000161472 │ -0.000125511 │\n",
       "│ 445 │ 445       │ 0.0318812 │ 0.000377074 │ 0.000177821 │ 8.25543e-6   │\n",
       "│ 446 │ 446       │ -0.181662 │ 0.000968583 │ 0.000219022 │ -8.36711e-5  │\n",
       "│ 447 │ 447       │ -0.111161 │ 0.000658197 │ 0.000120204 │ -3.12674e-5  │\n",
       "│ 448 │ 448       │ 0.10903   │ 7.50334e-5  │ 2.71826e-5  │ 4.92402e-6   │\n",
       "│ 449 │ 449       │ -0.304003 │ 0.000683585 │ 4.3857e-5   │ -5.26372e-5  │\n",
       "│ 450 │ 450       │ -0.373816 │ 0.000641833 │ 0.000374063 │ -0.000183164 │"
      ]
     },
     "execution_count": 119,
     "metadata": {},
     "output_type": "execute_result"
    }
   ],
   "source": [
    "SNP_Effect_ADG= readdlm(\"CMIR_Score4/BayesB/MCMC_samples_marker_effects_geno_CMIR.txt\", ',',header=false)\n",
    "SNP_Effect_ADG= SNP_Effect_ADG[2:451,:]\n",
    "# Get marker effects for MHC region 45 to 55mb\n",
    "Effect_ADG_MHC= SNP_Effect_ADG[:, 419276:421982]  # obtained from Map info\n",
    "# Get genotypes for MHC region\n",
    "M_MHC= M[:, 419276:421982]\n",
    "M_MHC'\n",
    "BV_ADG_MHC= Effect_ADG_MHC * M_MHC'\n",
    "var_ADG= vec(var(BV_ADG_MHC, dims=2))  # Get var for each iteration\n",
    "\n",
    "# Get var for AllTRT\n",
    "SNP_Effect_AllTRT= readdlm(\"CMIR_Score4/BayesB/MCMC_samples_marker_effects_geno_Health_Score4.txt\", ',',header=false)\n",
    "SNP_Effect_AllTRT= SNP_Effect_AllTRT[2:451,:]\n",
    "# Get marker effects for MHC region 45 to 55 mb\n",
    "Effect_AllTRT_MHC= SNP_Effect_AllTRT[:, 419276:421982]\n",
    "BV_AllTRT_MHC= Effect_AllTRT_MHC * M_MHC'\n",
    "var_AllTRT= vec(var(BV_AllTRT_MHC, dims=2)) # Get var for each iteration\n",
    "\n",
    "coVar = Array{Float64,1}()\n",
    "for i=1:450\n",
    "    adg= BV_ADG_MHC[i,:]\n",
    "    AllTRT= BV_AllTRT_MHC[i,:]\n",
    "    covi=cov(adg, AllTRT)\n",
    "    push!(coVar,covi)\n",
    "end\n",
    "\n",
    "out=DataFrame(covar=coVar)\n",
    "insertcols!(out, 1, :var_ADG => var_ADG)\n",
    "insertcols!(out, 1, :var_AllTRT => var_AllTRT)\n",
    "insertcols!(out, 1, :iteration => 1:450) # Add a column called iteration\n",
    "\n",
    "# genetic correlation\n",
    "Product= out[!,:var_AllTRT] .* out[!,:var_ADG]  # product of vars\n",
    "sqVar=[sqrt(i) for i in Product]  # get sqrt for whole vector\n",
    "rg= out[!,:covar] ./ sqVar[:,]  # Genetic correlations\n",
    "insertcols!(out, 2, :corr => rg)"
   ]
  },
  {
   "cell_type": "code",
   "execution_count": 120,
   "metadata": {},
   "outputs": [
    {
     "name": "stderr",
     "output_type": "stream",
     "text": [
      "┌ Warning: `getindex(df::DataFrame, col_ind::ColumnIndex)` is deprecated, use `df[!, col_ind]` instead.\n",
      "│   caller = top-level scope at In[120]:3\n",
      "└ @ Core In[120]:3\n"
     ]
    },
    {
     "data": {
      "text/plain": [
       "-0.0959254805553512"
      ]
     },
     "execution_count": 120,
     "metadata": {},
     "output_type": "execute_result"
    }
   ],
   "source": [
    "# filter out missing rows\n",
    "out= filter(row -> ! isnan(row.corr), out)\n",
    "mean(out[:corr])"
   ]
  },
  {
   "cell_type": "code",
   "execution_count": 121,
   "metadata": {},
   "outputs": [
    {
     "name": "stderr",
     "output_type": "stream",
     "text": [
      "┌ Warning: `getindex(df::DataFrame, col_ind::ColumnIndex)` is deprecated, use `df[!, col_ind]` instead.\n",
      "│   caller = top-level scope at In[121]:1\n",
      "└ @ Core In[121]:1\n"
     ]
    },
    {
     "data": {
      "text/plain": [
       "0.35430038762048827"
      ]
     },
     "execution_count": 121,
     "metadata": {},
     "output_type": "execute_result"
    }
   ],
   "source": [
    "std(out[:corr])"
   ]
  },
  {
   "cell_type": "markdown",
   "metadata": {},
   "source": [
    "## Whole genome genetic correlation"
   ]
  },
  {
   "cell_type": "code",
   "execution_count": 41,
   "metadata": {},
   "outputs": [
    {
     "data": {
      "text/html": [
       "<table class=\"data-frame\"><thead><tr><th></th><th>CMIR_CMIR</th><th>CMIR_Health_Score4</th><th>Health_Score4_CMIR</th><th>Health_Score4_Health_Score4</th></tr><tr><th></th><th>Float64</th><th>Float64</th><th>Float64</th><th>Float64</th></tr></thead><tbody><p>450 rows × 4 columns</p><tr><th>1</th><td>0.0346081</td><td>-0.0085265</td><td>-0.0085265</td><td>0.162982</td></tr><tr><th>2</th><td>0.0222501</td><td>-0.00146169</td><td>-0.00146169</td><td>0.142672</td></tr><tr><th>3</th><td>0.0264888</td><td>-0.00898466</td><td>-0.00898466</td><td>0.153198</td></tr><tr><th>4</th><td>0.0235468</td><td>-0.0032415</td><td>-0.0032415</td><td>0.149368</td></tr><tr><th>5</th><td>0.0187684</td><td>-0.0051792</td><td>-0.0051792</td><td>0.154327</td></tr><tr><th>6</th><td>0.0250464</td><td>-0.00894477</td><td>-0.00894477</td><td>0.146076</td></tr><tr><th>7</th><td>0.026118</td><td>-0.00837829</td><td>-0.00837829</td><td>0.155179</td></tr><tr><th>8</th><td>0.0227775</td><td>-0.004783</td><td>-0.004783</td><td>0.213058</td></tr><tr><th>9</th><td>0.0215038</td><td>-0.00775024</td><td>-0.00775024</td><td>0.167683</td></tr><tr><th>10</th><td>0.0268035</td><td>-0.00569032</td><td>-0.00569032</td><td>0.142962</td></tr><tr><th>11</th><td>0.0227785</td><td>-0.00728809</td><td>-0.00728809</td><td>0.142044</td></tr><tr><th>12</th><td>0.0277584</td><td>-0.012321</td><td>-0.012321</td><td>0.17202</td></tr><tr><th>13</th><td>0.0212654</td><td>-0.00772052</td><td>-0.00772052</td><td>0.153999</td></tr><tr><th>14</th><td>0.0246346</td><td>-0.00017205</td><td>-0.00017205</td><td>0.15793</td></tr><tr><th>15</th><td>0.0241331</td><td>-0.00494153</td><td>-0.00494153</td><td>0.146216</td></tr><tr><th>16</th><td>0.0289292</td><td>-0.0127129</td><td>-0.0127129</td><td>0.149765</td></tr><tr><th>17</th><td>0.0226757</td><td>-0.0115541</td><td>-0.0115541</td><td>0.148421</td></tr><tr><th>18</th><td>0.0223133</td><td>-0.000855297</td><td>-0.000855297</td><td>0.153836</td></tr><tr><th>19</th><td>0.0215386</td><td>-0.00742254</td><td>-0.00742254</td><td>0.152374</td></tr><tr><th>20</th><td>0.0237726</td><td>-0.00545635</td><td>-0.00545635</td><td>0.139581</td></tr><tr><th>21</th><td>0.0203055</td><td>-0.0100949</td><td>-0.0100949</td><td>0.151794</td></tr><tr><th>22</th><td>0.0256946</td><td>-0.00452502</td><td>-0.00452502</td><td>0.160968</td></tr><tr><th>23</th><td>0.0273052</td><td>0.00850221</td><td>0.00850221</td><td>0.161075</td></tr><tr><th>24</th><td>0.0216833</td><td>-0.00581865</td><td>-0.00581865</td><td>0.134076</td></tr><tr><th>25</th><td>0.0231657</td><td>-0.00564534</td><td>-0.00564534</td><td>0.132728</td></tr><tr><th>26</th><td>0.0253445</td><td>-0.0127277</td><td>-0.0127277</td><td>0.144134</td></tr><tr><th>27</th><td>0.0226865</td><td>-0.00580503</td><td>-0.00580503</td><td>0.138704</td></tr><tr><th>28</th><td>0.0294959</td><td>-0.00553336</td><td>-0.00553336</td><td>0.150318</td></tr><tr><th>29</th><td>0.0297766</td><td>-0.00800419</td><td>-0.00800419</td><td>0.150132</td></tr><tr><th>30</th><td>0.0242556</td><td>-0.00382291</td><td>-0.00382291</td><td>0.134634</td></tr><tr><th>&vellip;</th><td>&vellip;</td><td>&vellip;</td><td>&vellip;</td><td>&vellip;</td></tr></tbody></table>"
      ],
      "text/latex": [
       "\\begin{tabular}{r|cccc}\n",
       "\t& CMIR\\_CMIR & CMIR\\_Health\\_Score4 & Health\\_Score4\\_CMIR & Health\\_Score4\\_Health\\_Score4\\\\\n",
       "\t\\hline\n",
       "\t& Float64 & Float64 & Float64 & Float64\\\\\n",
       "\t\\hline\n",
       "\t1 & 0.0346081 & -0.0085265 & -0.0085265 & 0.162982 \\\\\n",
       "\t2 & 0.0222501 & -0.00146169 & -0.00146169 & 0.142672 \\\\\n",
       "\t3 & 0.0264888 & -0.00898466 & -0.00898466 & 0.153198 \\\\\n",
       "\t4 & 0.0235468 & -0.0032415 & -0.0032415 & 0.149368 \\\\\n",
       "\t5 & 0.0187684 & -0.0051792 & -0.0051792 & 0.154327 \\\\\n",
       "\t6 & 0.0250464 & -0.00894477 & -0.00894477 & 0.146076 \\\\\n",
       "\t7 & 0.026118 & -0.00837829 & -0.00837829 & 0.155179 \\\\\n",
       "\t8 & 0.0227775 & -0.004783 & -0.004783 & 0.213058 \\\\\n",
       "\t9 & 0.0215038 & -0.00775024 & -0.00775024 & 0.167683 \\\\\n",
       "\t10 & 0.0268035 & -0.00569032 & -0.00569032 & 0.142962 \\\\\n",
       "\t11 & 0.0227785 & -0.00728809 & -0.00728809 & 0.142044 \\\\\n",
       "\t12 & 0.0277584 & -0.012321 & -0.012321 & 0.17202 \\\\\n",
       "\t13 & 0.0212654 & -0.00772052 & -0.00772052 & 0.153999 \\\\\n",
       "\t14 & 0.0246346 & -0.00017205 & -0.00017205 & 0.15793 \\\\\n",
       "\t15 & 0.0241331 & -0.00494153 & -0.00494153 & 0.146216 \\\\\n",
       "\t16 & 0.0289292 & -0.0127129 & -0.0127129 & 0.149765 \\\\\n",
       "\t17 & 0.0226757 & -0.0115541 & -0.0115541 & 0.148421 \\\\\n",
       "\t18 & 0.0223133 & -0.000855297 & -0.000855297 & 0.153836 \\\\\n",
       "\t19 & 0.0215386 & -0.00742254 & -0.00742254 & 0.152374 \\\\\n",
       "\t20 & 0.0237726 & -0.00545635 & -0.00545635 & 0.139581 \\\\\n",
       "\t21 & 0.0203055 & -0.0100949 & -0.0100949 & 0.151794 \\\\\n",
       "\t22 & 0.0256946 & -0.00452502 & -0.00452502 & 0.160968 \\\\\n",
       "\t23 & 0.0273052 & 0.00850221 & 0.00850221 & 0.161075 \\\\\n",
       "\t24 & 0.0216833 & -0.00581865 & -0.00581865 & 0.134076 \\\\\n",
       "\t25 & 0.0231657 & -0.00564534 & -0.00564534 & 0.132728 \\\\\n",
       "\t26 & 0.0253445 & -0.0127277 & -0.0127277 & 0.144134 \\\\\n",
       "\t27 & 0.0226865 & -0.00580503 & -0.00580503 & 0.138704 \\\\\n",
       "\t28 & 0.0294959 & -0.00553336 & -0.00553336 & 0.150318 \\\\\n",
       "\t29 & 0.0297766 & -0.00800419 & -0.00800419 & 0.150132 \\\\\n",
       "\t30 & 0.0242556 & -0.00382291 & -0.00382291 & 0.134634 \\\\\n",
       "\t$\\dots$ & $\\dots$ & $\\dots$ & $\\dots$ & $\\dots$ \\\\\n",
       "\\end{tabular}\n"
      ],
      "text/plain": [
       "450×4 DataFrame. Omitted printing of 1 columns\n",
       "│ Row │ CMIR_CMIR │ CMIR_Health_Score4 │ Health_Score4_CMIR │\n",
       "│     │ \u001b[90mFloat64\u001b[39m   │ \u001b[90mFloat64\u001b[39m            │ \u001b[90mFloat64\u001b[39m            │\n",
       "├─────┼───────────┼────────────────────┼────────────────────┤\n",
       "│ 1   │ 0.0346081 │ -0.0085265         │ -0.0085265         │\n",
       "│ 2   │ 0.0222501 │ -0.00146169        │ -0.00146169        │\n",
       "│ 3   │ 0.0264888 │ -0.00898466        │ -0.00898466        │\n",
       "│ 4   │ 0.0235468 │ -0.0032415         │ -0.0032415         │\n",
       "│ 5   │ 0.0187684 │ -0.0051792         │ -0.0051792         │\n",
       "│ 6   │ 0.0250464 │ -0.00894477        │ -0.00894477        │\n",
       "│ 7   │ 0.026118  │ -0.00837829        │ -0.00837829        │\n",
       "│ 8   │ 0.0227775 │ -0.004783          │ -0.004783          │\n",
       "│ 9   │ 0.0215038 │ -0.00775024        │ -0.00775024        │\n",
       "│ 10  │ 0.0268035 │ -0.00569032        │ -0.00569032        │\n",
       "⋮\n",
       "│ 440 │ 0.0215919 │ -0.0127708         │ -0.0127708         │\n",
       "│ 441 │ 0.0203732 │ -0.00787062        │ -0.00787062        │\n",
       "│ 442 │ 0.0300607 │ -0.0074093         │ -0.0074093         │\n",
       "│ 443 │ 0.0232994 │ -0.0064512         │ -0.0064512         │\n",
       "│ 444 │ 0.021267  │ -0.00219839        │ -0.00219839        │\n",
       "│ 445 │ 0.0206827 │ -0.0104104         │ -0.0104104         │\n",
       "│ 446 │ 0.0228542 │ -0.00852854        │ -0.00852854        │\n",
       "│ 447 │ 0.0214793 │ -0.00413378        │ -0.00413378        │\n",
       "│ 448 │ 0.0239029 │ -0.00838784        │ -0.00838784        │\n",
       "│ 449 │ 0.0236426 │ -0.00736927        │ -0.00736927        │\n",
       "│ 450 │ 0.0228349 │ -0.00868785        │ -0.00868785        │"
      ]
     },
     "execution_count": 41,
     "metadata": {},
     "output_type": "execute_result"
    }
   ],
   "source": [
    "gVar= CSV.read(\"CMIR_Score4/BayesB/MCMC_samples_genetic_variance.txt\")"
   ]
  },
  {
   "cell_type": "code",
   "execution_count": 42,
   "metadata": {},
   "outputs": [
    {
     "data": {
      "text/html": [
       "<table class=\"data-frame\"><thead><tr><th></th><th>CMIR_CMIR</th><th>corr</th><th>CMIR_Health_Score4</th><th>Health_Score4_CMIR</th><th>Health_Score4_Health_Score4</th></tr><tr><th></th><th>Float64</th><th>Float64</th><th>Float64</th><th>Float64</th><th>Float64</th></tr></thead><tbody><p>450 rows × 5 columns</p><tr><th>1</th><td>0.0346081</td><td>-0.11353</td><td>-0.0085265</td><td>-0.0085265</td><td>0.162982</td></tr><tr><th>2</th><td>0.0222501</td><td>-0.025943</td><td>-0.00146169</td><td>-0.00146169</td><td>0.142672</td></tr><tr><th>3</th><td>0.0264888</td><td>-0.14104</td><td>-0.00898466</td><td>-0.00898466</td><td>0.153198</td></tr><tr><th>4</th><td>0.0235468</td><td>-0.0546579</td><td>-0.0032415</td><td>-0.0032415</td><td>0.149368</td></tr><tr><th>5</th><td>0.0187684</td><td>-0.0962338</td><td>-0.0051792</td><td>-0.0051792</td><td>0.154327</td></tr><tr><th>6</th><td>0.0250464</td><td>-0.147879</td><td>-0.00894477</td><td>-0.00894477</td><td>0.146076</td></tr><tr><th>7</th><td>0.026118</td><td>-0.131604</td><td>-0.00837829</td><td>-0.00837829</td><td>0.155179</td></tr><tr><th>8</th><td>0.0227775</td><td>-0.068659</td><td>-0.004783</td><td>-0.004783</td><td>0.213058</td></tr><tr><th>9</th><td>0.0215038</td><td>-0.129067</td><td>-0.00775024</td><td>-0.00775024</td><td>0.167683</td></tr><tr><th>10</th><td>0.0268035</td><td>-0.0919244</td><td>-0.00569032</td><td>-0.00569032</td><td>0.142962</td></tr><tr><th>11</th><td>0.0227785</td><td>-0.128127</td><td>-0.00728809</td><td>-0.00728809</td><td>0.142044</td></tr><tr><th>12</th><td>0.0277584</td><td>-0.178303</td><td>-0.012321</td><td>-0.012321</td><td>0.17202</td></tr><tr><th>13</th><td>0.0212654</td><td>-0.134912</td><td>-0.00772052</td><td>-0.00772052</td><td>0.153999</td></tr><tr><th>14</th><td>0.0246346</td><td>-0.00275835</td><td>-0.00017205</td><td>-0.00017205</td><td>0.15793</td></tr><tr><th>15</th><td>0.0241331</td><td>-0.0831874</td><td>-0.00494153</td><td>-0.00494153</td><td>0.146216</td></tr><tr><th>16</th><td>0.0289292</td><td>-0.193139</td><td>-0.0127129</td><td>-0.0127129</td><td>0.149765</td></tr><tr><th>17</th><td>0.0226757</td><td>-0.199162</td><td>-0.0115541</td><td>-0.0115541</td><td>0.148421</td></tr><tr><th>18</th><td>0.0223133</td><td>-0.0145984</td><td>-0.000855297</td><td>-0.000855297</td><td>0.153836</td></tr><tr><th>19</th><td>0.0215386</td><td>-0.129565</td><td>-0.00742254</td><td>-0.00742254</td><td>0.152374</td></tr><tr><th>20</th><td>0.0237726</td><td>-0.094722</td><td>-0.00545635</td><td>-0.00545635</td><td>0.139581</td></tr><tr><th>21</th><td>0.0203055</td><td>-0.18183</td><td>-0.0100949</td><td>-0.0100949</td><td>0.151794</td></tr><tr><th>22</th><td>0.0256946</td><td>-0.0703606</td><td>-0.00452502</td><td>-0.00452502</td><td>0.160968</td></tr><tr><th>23</th><td>0.0273052</td><td>0.128202</td><td>0.00850221</td><td>0.00850221</td><td>0.161075</td></tr><tr><th>24</th><td>0.0216833</td><td>-0.107916</td><td>-0.00581865</td><td>-0.00581865</td><td>0.134076</td></tr><tr><th>25</th><td>0.0231657</td><td>-0.101809</td><td>-0.00564534</td><td>-0.00564534</td><td>0.132728</td></tr><tr><th>26</th><td>0.0253445</td><td>-0.210584</td><td>-0.0127277</td><td>-0.0127277</td><td>0.144134</td></tr><tr><th>27</th><td>0.0226865</td><td>-0.103485</td><td>-0.00580503</td><td>-0.00580503</td><td>0.138704</td></tr><tr><th>28</th><td>0.0294959</td><td>-0.0831003</td><td>-0.00553336</td><td>-0.00553336</td><td>0.150318</td></tr><tr><th>29</th><td>0.0297766</td><td>-0.119714</td><td>-0.00800419</td><td>-0.00800419</td><td>0.150132</td></tr><tr><th>30</th><td>0.0242556</td><td>-0.0668975</td><td>-0.00382291</td><td>-0.00382291</td><td>0.134634</td></tr><tr><th>&vellip;</th><td>&vellip;</td><td>&vellip;</td><td>&vellip;</td><td>&vellip;</td><td>&vellip;</td></tr></tbody></table>"
      ],
      "text/latex": [
       "\\begin{tabular}{r|ccccc}\n",
       "\t& CMIR\\_CMIR & corr & CMIR\\_Health\\_Score4 & Health\\_Score4\\_CMIR & Health\\_Score4\\_Health\\_Score4\\\\\n",
       "\t\\hline\n",
       "\t& Float64 & Float64 & Float64 & Float64 & Float64\\\\\n",
       "\t\\hline\n",
       "\t1 & 0.0346081 & -0.11353 & -0.0085265 & -0.0085265 & 0.162982 \\\\\n",
       "\t2 & 0.0222501 & -0.025943 & -0.00146169 & -0.00146169 & 0.142672 \\\\\n",
       "\t3 & 0.0264888 & -0.14104 & -0.00898466 & -0.00898466 & 0.153198 \\\\\n",
       "\t4 & 0.0235468 & -0.0546579 & -0.0032415 & -0.0032415 & 0.149368 \\\\\n",
       "\t5 & 0.0187684 & -0.0962338 & -0.0051792 & -0.0051792 & 0.154327 \\\\\n",
       "\t6 & 0.0250464 & -0.147879 & -0.00894477 & -0.00894477 & 0.146076 \\\\\n",
       "\t7 & 0.026118 & -0.131604 & -0.00837829 & -0.00837829 & 0.155179 \\\\\n",
       "\t8 & 0.0227775 & -0.068659 & -0.004783 & -0.004783 & 0.213058 \\\\\n",
       "\t9 & 0.0215038 & -0.129067 & -0.00775024 & -0.00775024 & 0.167683 \\\\\n",
       "\t10 & 0.0268035 & -0.0919244 & -0.00569032 & -0.00569032 & 0.142962 \\\\\n",
       "\t11 & 0.0227785 & -0.128127 & -0.00728809 & -0.00728809 & 0.142044 \\\\\n",
       "\t12 & 0.0277584 & -0.178303 & -0.012321 & -0.012321 & 0.17202 \\\\\n",
       "\t13 & 0.0212654 & -0.134912 & -0.00772052 & -0.00772052 & 0.153999 \\\\\n",
       "\t14 & 0.0246346 & -0.00275835 & -0.00017205 & -0.00017205 & 0.15793 \\\\\n",
       "\t15 & 0.0241331 & -0.0831874 & -0.00494153 & -0.00494153 & 0.146216 \\\\\n",
       "\t16 & 0.0289292 & -0.193139 & -0.0127129 & -0.0127129 & 0.149765 \\\\\n",
       "\t17 & 0.0226757 & -0.199162 & -0.0115541 & -0.0115541 & 0.148421 \\\\\n",
       "\t18 & 0.0223133 & -0.0145984 & -0.000855297 & -0.000855297 & 0.153836 \\\\\n",
       "\t19 & 0.0215386 & -0.129565 & -0.00742254 & -0.00742254 & 0.152374 \\\\\n",
       "\t20 & 0.0237726 & -0.094722 & -0.00545635 & -0.00545635 & 0.139581 \\\\\n",
       "\t21 & 0.0203055 & -0.18183 & -0.0100949 & -0.0100949 & 0.151794 \\\\\n",
       "\t22 & 0.0256946 & -0.0703606 & -0.00452502 & -0.00452502 & 0.160968 \\\\\n",
       "\t23 & 0.0273052 & 0.128202 & 0.00850221 & 0.00850221 & 0.161075 \\\\\n",
       "\t24 & 0.0216833 & -0.107916 & -0.00581865 & -0.00581865 & 0.134076 \\\\\n",
       "\t25 & 0.0231657 & -0.101809 & -0.00564534 & -0.00564534 & 0.132728 \\\\\n",
       "\t26 & 0.0253445 & -0.210584 & -0.0127277 & -0.0127277 & 0.144134 \\\\\n",
       "\t27 & 0.0226865 & -0.103485 & -0.00580503 & -0.00580503 & 0.138704 \\\\\n",
       "\t28 & 0.0294959 & -0.0831003 & -0.00553336 & -0.00553336 & 0.150318 \\\\\n",
       "\t29 & 0.0297766 & -0.119714 & -0.00800419 & -0.00800419 & 0.150132 \\\\\n",
       "\t30 & 0.0242556 & -0.0668975 & -0.00382291 & -0.00382291 & 0.134634 \\\\\n",
       "\t$\\dots$ & $\\dots$ & $\\dots$ & $\\dots$ & $\\dots$ & $\\dots$ \\\\\n",
       "\\end{tabular}\n"
      ],
      "text/plain": [
       "450×5 DataFrame. Omitted printing of 1 columns\n",
       "│ Row │ CMIR_CMIR │ corr       │ CMIR_Health_Score4 │ Health_Score4_CMIR │\n",
       "│     │ \u001b[90mFloat64\u001b[39m   │ \u001b[90mFloat64\u001b[39m    │ \u001b[90mFloat64\u001b[39m            │ \u001b[90mFloat64\u001b[39m            │\n",
       "├─────┼───────────┼────────────┼────────────────────┼────────────────────┤\n",
       "│ 1   │ 0.0346081 │ -0.11353   │ -0.0085265         │ -0.0085265         │\n",
       "│ 2   │ 0.0222501 │ -0.025943  │ -0.00146169        │ -0.00146169        │\n",
       "│ 3   │ 0.0264888 │ -0.14104   │ -0.00898466        │ -0.00898466        │\n",
       "│ 4   │ 0.0235468 │ -0.0546579 │ -0.0032415         │ -0.0032415         │\n",
       "│ 5   │ 0.0187684 │ -0.0962338 │ -0.0051792         │ -0.0051792         │\n",
       "│ 6   │ 0.0250464 │ -0.147879  │ -0.00894477        │ -0.00894477        │\n",
       "│ 7   │ 0.026118  │ -0.131604  │ -0.00837829        │ -0.00837829        │\n",
       "│ 8   │ 0.0227775 │ -0.068659  │ -0.004783          │ -0.004783          │\n",
       "│ 9   │ 0.0215038 │ -0.129067  │ -0.00775024        │ -0.00775024        │\n",
       "│ 10  │ 0.0268035 │ -0.0919244 │ -0.00569032        │ -0.00569032        │\n",
       "⋮\n",
       "│ 440 │ 0.0215919 │ -0.222776  │ -0.0127708         │ -0.0127708         │\n",
       "│ 441 │ 0.0203732 │ -0.133545  │ -0.00787062        │ -0.00787062        │\n",
       "│ 442 │ 0.0300607 │ -0.10769   │ -0.0074093         │ -0.0074093         │\n",
       "│ 443 │ 0.0232994 │ -0.117441  │ -0.0064512         │ -0.0064512         │\n",
       "│ 444 │ 0.021267  │ -0.0431101 │ -0.00219839        │ -0.00219839        │\n",
       "│ 445 │ 0.0206827 │ -0.201115  │ -0.0104104         │ -0.0104104         │\n",
       "│ 446 │ 0.0228542 │ -0.146487  │ -0.00852854        │ -0.00852854        │\n",
       "│ 447 │ 0.0214793 │ -0.0789728 │ -0.00413378        │ -0.00413378        │\n",
       "│ 448 │ 0.0239029 │ -0.136862  │ -0.00838784        │ -0.00838784        │\n",
       "│ 449 │ 0.0236426 │ -0.130819  │ -0.00736927        │ -0.00736927        │\n",
       "│ 450 │ 0.0228349 │ -0.155669  │ -0.00868785        │ -0.00868785        │"
      ]
     },
     "execution_count": 42,
     "metadata": {},
     "output_type": "execute_result"
    }
   ],
   "source": [
    "sqVar1=[sqrt(i) for i in gVar[!,:Health_Score4_Health_Score4]] \n",
    "sqVar2=[sqrt(i) for i in gVar[!,:CMIR_CMIR]] \n",
    "Product= sqVar1 .* sqVar2\n",
    "rg= gVar[!,:Health_Score4_CMIR] ./ Product  # Genetic correlations\n",
    "insertcols!(gVar, 2, :corr => rg)"
   ]
  },
  {
   "cell_type": "code",
   "execution_count": 43,
   "metadata": {},
   "outputs": [
    {
     "data": {
      "image/svg+xml": [
       "<?xml version=\"1.0\" encoding=\"utf-8\"?>\n",
       "<svg xmlns=\"http://www.w3.org/2000/svg\" xmlns:xlink=\"http://www.w3.org/1999/xlink\" width=\"600\" height=\"400\" viewBox=\"0 0 2400 1600\">\n",
       "<defs>\n",
       "  <clipPath id=\"clip420\">\n",
       "    <rect x=\"0\" y=\"0\" width=\"2400\" height=\"1600\"/>\n",
       "  </clipPath>\n",
       "</defs>\n",
       "<path clip-path=\"url(#clip420)\" d=\"\n",
       "M0 1600 L2400 1600 L2400 0 L0 0  Z\n",
       "  \" fill=\"#ffffff\" fill-rule=\"evenodd\" fill-opacity=\"1\"/>\n",
       "<defs>\n",
       "  <clipPath id=\"clip421\">\n",
       "    <rect x=\"480\" y=\"0\" width=\"1681\" height=\"1600\"/>\n",
       "  </clipPath>\n",
       "</defs>\n",
       "<path clip-path=\"url(#clip420)\" d=\"\n",
       "M226.07 1423.18 L2352.76 1423.18 L2352.76 123.472 L226.07 123.472  Z\n",
       "  \" fill=\"#ffffff\" fill-rule=\"evenodd\" fill-opacity=\"1\"/>\n",
       "<defs>\n",
       "  <clipPath id=\"clip422\">\n",
       "    <rect x=\"226\" y=\"123\" width=\"2128\" height=\"1301\"/>\n",
       "  </clipPath>\n",
       "</defs>\n",
       "<polyline clip-path=\"url(#clip422)\" style=\"stroke:#000000; stroke-width:2; stroke-opacity:0.1; fill:none\" points=\"\n",
       "  281.791,1423.18 281.791,123.472 \n",
       "  \"/>\n",
       "<polyline clip-path=\"url(#clip422)\" style=\"stroke:#000000; stroke-width:2; stroke-opacity:0.1; fill:none\" points=\"\n",
       "  728.63,1423.18 728.63,123.472 \n",
       "  \"/>\n",
       "<polyline clip-path=\"url(#clip422)\" style=\"stroke:#000000; stroke-width:2; stroke-opacity:0.1; fill:none\" points=\"\n",
       "  1175.47,1423.18 1175.47,123.472 \n",
       "  \"/>\n",
       "<polyline clip-path=\"url(#clip422)\" style=\"stroke:#000000; stroke-width:2; stroke-opacity:0.1; fill:none\" points=\"\n",
       "  1622.31,1423.18 1622.31,123.472 \n",
       "  \"/>\n",
       "<polyline clip-path=\"url(#clip422)\" style=\"stroke:#000000; stroke-width:2; stroke-opacity:0.1; fill:none\" points=\"\n",
       "  2069.15,1423.18 2069.15,123.472 \n",
       "  \"/>\n",
       "<polyline clip-path=\"url(#clip422)\" style=\"stroke:#000000; stroke-width:2; stroke-opacity:0.1; fill:none\" points=\"\n",
       "  226.07,1392.63 2352.76,1392.63 \n",
       "  \"/>\n",
       "<polyline clip-path=\"url(#clip422)\" style=\"stroke:#000000; stroke-width:2; stroke-opacity:0.1; fill:none\" points=\"\n",
       "  226.07,1104.83 2352.76,1104.83 \n",
       "  \"/>\n",
       "<polyline clip-path=\"url(#clip422)\" style=\"stroke:#000000; stroke-width:2; stroke-opacity:0.1; fill:none\" points=\"\n",
       "  226.07,817.025 2352.76,817.025 \n",
       "  \"/>\n",
       "<polyline clip-path=\"url(#clip422)\" style=\"stroke:#000000; stroke-width:2; stroke-opacity:0.1; fill:none\" points=\"\n",
       "  226.07,529.224 2352.76,529.224 \n",
       "  \"/>\n",
       "<polyline clip-path=\"url(#clip422)\" style=\"stroke:#000000; stroke-width:2; stroke-opacity:0.1; fill:none\" points=\"\n",
       "  226.07,241.422 2352.76,241.422 \n",
       "  \"/>\n",
       "<polyline clip-path=\"url(#clip420)\" style=\"stroke:#000000; stroke-width:4; stroke-opacity:1; fill:none\" points=\"\n",
       "  226.07,1423.18 2352.76,1423.18 \n",
       "  \"/>\n",
       "<polyline clip-path=\"url(#clip420)\" style=\"stroke:#000000; stroke-width:4; stroke-opacity:1; fill:none\" points=\"\n",
       "  226.07,1423.18 226.07,123.472 \n",
       "  \"/>\n",
       "<polyline clip-path=\"url(#clip420)\" style=\"stroke:#000000; stroke-width:4; stroke-opacity:1; fill:none\" points=\"\n",
       "  281.791,1423.18 281.791,1407.58 \n",
       "  \"/>\n",
       "<polyline clip-path=\"url(#clip420)\" style=\"stroke:#000000; stroke-width:4; stroke-opacity:1; fill:none\" points=\"\n",
       "  728.63,1423.18 728.63,1407.58 \n",
       "  \"/>\n",
       "<polyline clip-path=\"url(#clip420)\" style=\"stroke:#000000; stroke-width:4; stroke-opacity:1; fill:none\" points=\"\n",
       "  1175.47,1423.18 1175.47,1407.58 \n",
       "  \"/>\n",
       "<polyline clip-path=\"url(#clip420)\" style=\"stroke:#000000; stroke-width:4; stroke-opacity:1; fill:none\" points=\"\n",
       "  1622.31,1423.18 1622.31,1407.58 \n",
       "  \"/>\n",
       "<polyline clip-path=\"url(#clip420)\" style=\"stroke:#000000; stroke-width:4; stroke-opacity:1; fill:none\" points=\"\n",
       "  2069.15,1423.18 2069.15,1407.58 \n",
       "  \"/>\n",
       "<polyline clip-path=\"url(#clip420)\" style=\"stroke:#000000; stroke-width:4; stroke-opacity:1; fill:none\" points=\"\n",
       "  226.07,1392.63 251.59,1392.63 \n",
       "  \"/>\n",
       "<polyline clip-path=\"url(#clip420)\" style=\"stroke:#000000; stroke-width:4; stroke-opacity:1; fill:none\" points=\"\n",
       "  226.07,1104.83 251.59,1104.83 \n",
       "  \"/>\n",
       "<polyline clip-path=\"url(#clip420)\" style=\"stroke:#000000; stroke-width:4; stroke-opacity:1; fill:none\" points=\"\n",
       "  226.07,817.025 251.59,817.025 \n",
       "  \"/>\n",
       "<polyline clip-path=\"url(#clip420)\" style=\"stroke:#000000; stroke-width:4; stroke-opacity:1; fill:none\" points=\"\n",
       "  226.07,529.224 251.59,529.224 \n",
       "  \"/>\n",
       "<polyline clip-path=\"url(#clip420)\" style=\"stroke:#000000; stroke-width:4; stroke-opacity:1; fill:none\" points=\"\n",
       "  226.07,241.422 251.59,241.422 \n",
       "  \"/>\n",
       "<path clip-path=\"url(#clip420)\" d=\"M 0 0 M281.791 1445.17 Q278.18 1445.17 276.351 1448.74 Q274.545 1452.28 274.545 1459.41 Q274.545 1466.51 276.351 1470.08 Q278.18 1473.62 281.791 1473.62 Q285.425 1473.62 287.231 1470.08 Q289.059 1466.51 289.059 1459.41 Q289.059 1452.28 287.231 1448.74 Q285.425 1445.17 281.791 1445.17 M281.791 1441.47 Q287.601 1441.47 290.656 1446.07 Q293.735 1450.66 293.735 1459.41 Q293.735 1468.13 290.656 1472.74 Q287.601 1477.32 281.791 1477.32 Q275.981 1477.32 272.902 1472.74 Q269.846 1468.13 269.846 1459.41 Q269.846 1450.66 272.902 1446.07 Q275.981 1441.47 281.791 1441.47 Z\" fill=\"#000000\" fill-rule=\"evenodd\" fill-opacity=\"1\" /><path clip-path=\"url(#clip420)\" d=\"M 0 0 M691.998 1472.72 L699.637 1472.72 L699.637 1446.35 L691.327 1448.02 L691.327 1443.76 L699.591 1442.09 L704.267 1442.09 L704.267 1472.72 L711.905 1472.72 L711.905 1476.65 L691.998 1476.65 L691.998 1472.72 Z\" fill=\"#000000\" fill-rule=\"evenodd\" fill-opacity=\"1\" /><path clip-path=\"url(#clip420)\" d=\"M 0 0 M726.975 1445.17 Q723.364 1445.17 721.535 1448.74 Q719.729 1452.28 719.729 1459.41 Q719.729 1466.51 721.535 1470.08 Q723.364 1473.62 726.975 1473.62 Q730.609 1473.62 732.415 1470.08 Q734.243 1466.51 734.243 1459.41 Q734.243 1452.28 732.415 1448.74 Q730.609 1445.17 726.975 1445.17 M726.975 1441.47 Q732.785 1441.47 735.84 1446.07 Q738.919 1450.66 738.919 1459.41 Q738.919 1468.13 735.84 1472.74 Q732.785 1477.32 726.975 1477.32 Q721.165 1477.32 718.086 1472.74 Q715.03 1468.13 715.03 1459.41 Q715.03 1450.66 718.086 1446.07 Q721.165 1441.47 726.975 1441.47 Z\" fill=\"#000000\" fill-rule=\"evenodd\" fill-opacity=\"1\" /><path clip-path=\"url(#clip420)\" d=\"M 0 0 M753.989 1445.17 Q750.377 1445.17 748.549 1448.74 Q746.743 1452.28 746.743 1459.41 Q746.743 1466.51 748.549 1470.08 Q750.377 1473.62 753.989 1473.62 Q757.623 1473.62 759.428 1470.08 Q761.257 1466.51 761.257 1459.41 Q761.257 1452.28 759.428 1448.74 Q757.623 1445.17 753.989 1445.17 M753.989 1441.47 Q759.799 1441.47 762.854 1446.07 Q765.933 1450.66 765.933 1459.41 Q765.933 1468.13 762.854 1472.74 Q759.799 1477.32 753.989 1477.32 Q748.178 1477.32 745.1 1472.74 Q742.044 1468.13 742.044 1459.41 Q742.044 1450.66 745.1 1446.07 Q748.178 1441.47 753.989 1441.47 Z\" fill=\"#000000\" fill-rule=\"evenodd\" fill-opacity=\"1\" /><path clip-path=\"url(#clip420)\" d=\"M 0 0 M1143.11 1472.72 L1159.43 1472.72 L1159.43 1476.65 L1137.48 1476.65 L1137.48 1472.72 Q1140.15 1469.96 1144.73 1465.33 Q1149.33 1460.68 1150.52 1459.34 Q1152.76 1456.81 1153.64 1455.08 Q1154.54 1453.32 1154.54 1451.63 Q1154.54 1448.87 1152.6 1447.14 Q1150.68 1445.4 1147.58 1445.4 Q1145.38 1445.4 1142.92 1446.17 Q1140.49 1446.93 1137.71 1448.48 L1137.71 1443.76 Q1140.54 1442.62 1142.99 1442.05 Q1145.45 1441.47 1147.48 1441.47 Q1152.85 1441.47 1156.05 1444.15 Q1159.24 1446.84 1159.24 1451.33 Q1159.24 1453.46 1158.43 1455.38 Q1157.64 1457.28 1155.54 1459.87 Q1154.96 1460.54 1151.86 1463.76 Q1148.76 1466.95 1143.11 1472.72 Z\" fill=\"#000000\" fill-rule=\"evenodd\" fill-opacity=\"1\" /><path clip-path=\"url(#clip420)\" d=\"M 0 0 M1174.5 1445.17 Q1170.89 1445.17 1169.06 1448.74 Q1167.25 1452.28 1167.25 1459.41 Q1167.25 1466.51 1169.06 1470.08 Q1170.89 1473.62 1174.5 1473.62 Q1178.13 1473.62 1179.94 1470.08 Q1181.77 1466.51 1181.77 1459.41 Q1181.77 1452.28 1179.94 1448.74 Q1178.13 1445.17 1174.5 1445.17 M1174.5 1441.47 Q1180.31 1441.47 1183.36 1446.07 Q1186.44 1450.66 1186.44 1459.41 Q1186.44 1468.13 1183.36 1472.74 Q1180.31 1477.32 1174.5 1477.32 Q1168.69 1477.32 1165.61 1472.74 Q1162.55 1468.13 1162.55 1459.41 Q1162.55 1450.66 1165.61 1446.07 Q1168.69 1441.47 1174.5 1441.47 Z\" fill=\"#000000\" fill-rule=\"evenodd\" fill-opacity=\"1\" /><path clip-path=\"url(#clip420)\" d=\"M 0 0 M1201.51 1445.17 Q1197.9 1445.17 1196.07 1448.74 Q1194.27 1452.28 1194.27 1459.41 Q1194.27 1466.51 1196.07 1470.08 Q1197.9 1473.62 1201.51 1473.62 Q1205.14 1473.62 1206.95 1470.08 Q1208.78 1466.51 1208.78 1459.41 Q1208.78 1452.28 1206.95 1448.74 Q1205.14 1445.17 1201.51 1445.17 M1201.51 1441.47 Q1207.32 1441.47 1210.38 1446.07 Q1213.45 1450.66 1213.45 1459.41 Q1213.45 1468.13 1210.38 1472.74 Q1207.32 1477.32 1201.51 1477.32 Q1195.7 1477.32 1192.62 1472.74 Q1189.57 1468.13 1189.57 1459.41 Q1189.57 1450.66 1192.62 1446.07 Q1195.7 1441.47 1201.51 1441.47 Z\" fill=\"#000000\" fill-rule=\"evenodd\" fill-opacity=\"1\" /><path clip-path=\"url(#clip420)\" d=\"M 0 0 M1599.54 1458.02 Q1602.9 1458.74 1604.77 1461 Q1606.67 1463.27 1606.67 1466.61 Q1606.67 1471.72 1603.15 1474.52 Q1599.63 1477.32 1593.15 1477.32 Q1590.98 1477.32 1588.66 1476.88 Q1586.37 1476.47 1583.92 1475.61 L1583.92 1471.1 Q1585.86 1472.23 1588.18 1472.81 Q1590.49 1473.39 1593.01 1473.39 Q1597.41 1473.39 1599.7 1471.65 Q1602.02 1469.92 1602.02 1466.61 Q1602.02 1463.55 1599.87 1461.84 Q1597.74 1460.1 1593.92 1460.1 L1589.89 1460.1 L1589.89 1456.26 L1594.1 1456.26 Q1597.55 1456.26 1599.38 1454.89 Q1601.21 1453.5 1601.21 1450.91 Q1601.21 1448.25 1599.31 1446.84 Q1597.44 1445.4 1593.92 1445.4 Q1592 1445.4 1589.8 1445.82 Q1587.6 1446.24 1584.96 1447.11 L1584.96 1442.95 Q1587.62 1442.21 1589.94 1441.84 Q1592.27 1441.47 1594.33 1441.47 Q1599.66 1441.47 1602.76 1443.9 Q1605.86 1446.3 1605.86 1450.43 Q1605.86 1453.3 1604.22 1455.29 Q1602.57 1457.25 1599.54 1458.02 Z\" fill=\"#000000\" fill-rule=\"evenodd\" fill-opacity=\"1\" /><path clip-path=\"url(#clip420)\" d=\"M 0 0 M1621.74 1445.17 Q1618.13 1445.17 1616.3 1448.74 Q1614.5 1452.28 1614.5 1459.41 Q1614.5 1466.51 1616.3 1470.08 Q1618.13 1473.62 1621.74 1473.62 Q1625.38 1473.62 1627.18 1470.08 Q1629.01 1466.51 1629.01 1459.41 Q1629.01 1452.28 1627.18 1448.74 Q1625.38 1445.17 1621.74 1445.17 M1621.74 1441.47 Q1627.55 1441.47 1630.61 1446.07 Q1633.69 1450.66 1633.69 1459.41 Q1633.69 1468.13 1630.61 1472.74 Q1627.55 1477.32 1621.74 1477.32 Q1615.93 1477.32 1612.85 1472.74 Q1609.8 1468.13 1609.8 1459.41 Q1609.8 1450.66 1612.85 1446.07 Q1615.93 1441.47 1621.74 1441.47 Z\" fill=\"#000000\" fill-rule=\"evenodd\" fill-opacity=\"1\" /><path clip-path=\"url(#clip420)\" d=\"M 0 0 M1648.75 1445.17 Q1645.14 1445.17 1643.31 1448.74 Q1641.51 1452.28 1641.51 1459.41 Q1641.51 1466.51 1643.31 1470.08 Q1645.14 1473.62 1648.75 1473.62 Q1652.39 1473.62 1654.19 1470.08 Q1656.02 1466.51 1656.02 1459.41 Q1656.02 1452.28 1654.19 1448.74 Q1652.39 1445.17 1648.75 1445.17 M1648.75 1441.47 Q1654.56 1441.47 1657.62 1446.07 Q1660.7 1450.66 1660.7 1459.41 Q1660.7 1468.13 1657.62 1472.74 Q1654.56 1477.32 1648.75 1477.32 Q1642.94 1477.32 1639.87 1472.74 Q1636.81 1468.13 1636.81 1459.41 Q1636.81 1450.66 1639.87 1446.07 Q1642.94 1441.47 1648.75 1441.47 Z\" fill=\"#000000\" fill-rule=\"evenodd\" fill-opacity=\"1\" /><path clip-path=\"url(#clip420)\" d=\"M 0 0 M2045.14 1446.17 L2033.34 1464.61 L2045.14 1464.61 L2045.14 1446.17 M2043.92 1442.09 L2049.8 1442.09 L2049.8 1464.61 L2054.73 1464.61 L2054.73 1468.5 L2049.8 1468.5 L2049.8 1476.65 L2045.14 1476.65 L2045.14 1468.5 L2029.54 1468.5 L2029.54 1463.99 L2043.92 1442.09 Z\" fill=\"#000000\" fill-rule=\"evenodd\" fill-opacity=\"1\" /><path clip-path=\"url(#clip420)\" d=\"M 0 0 M2069.8 1445.17 Q2066.18 1445.17 2064.36 1448.74 Q2062.55 1452.28 2062.55 1459.41 Q2062.55 1466.51 2064.36 1470.08 Q2066.18 1473.62 2069.8 1473.62 Q2073.43 1473.62 2075.24 1470.08 Q2077.06 1466.51 2077.06 1459.41 Q2077.06 1452.28 2075.24 1448.74 Q2073.43 1445.17 2069.8 1445.17 M2069.8 1441.47 Q2075.61 1441.47 2078.66 1446.07 Q2081.74 1450.66 2081.74 1459.41 Q2081.74 1468.13 2078.66 1472.74 Q2075.61 1477.32 2069.8 1477.32 Q2063.99 1477.32 2060.91 1472.74 Q2057.85 1468.13 2057.85 1459.41 Q2057.85 1450.66 2060.91 1446.07 Q2063.99 1441.47 2069.8 1441.47 Z\" fill=\"#000000\" fill-rule=\"evenodd\" fill-opacity=\"1\" /><path clip-path=\"url(#clip420)\" d=\"M 0 0 M2096.81 1445.17 Q2093.2 1445.17 2091.37 1448.74 Q2089.56 1452.28 2089.56 1459.41 Q2089.56 1466.51 2091.37 1470.08 Q2093.2 1473.62 2096.81 1473.62 Q2100.44 1473.62 2102.25 1470.08 Q2104.08 1466.51 2104.08 1459.41 Q2104.08 1452.28 2102.25 1448.74 Q2100.44 1445.17 2096.81 1445.17 M2096.81 1441.47 Q2102.62 1441.47 2105.67 1446.07 Q2108.75 1450.66 2108.75 1459.41 Q2108.75 1468.13 2105.67 1472.74 Q2102.62 1477.32 2096.81 1477.32 Q2091 1477.32 2087.92 1472.74 Q2084.86 1468.13 2084.86 1459.41 Q2084.86 1450.66 2087.92 1446.07 Q2091 1441.47 2096.81 1441.47 Z\" fill=\"#000000\" fill-rule=\"evenodd\" fill-opacity=\"1\" /><path clip-path=\"url(#clip420)\" d=\"M 0 0 M126.26 1395.02 L138.737 1395.02 L138.737 1398.82 L126.26 1398.82 L126.26 1395.02 Z\" fill=\"#000000\" fill-rule=\"evenodd\" fill-opacity=\"1\" /><path clip-path=\"url(#clip420)\" d=\"M 0 0 M153.806 1378.43 Q150.195 1378.43 148.367 1381.99 Q146.561 1385.53 146.561 1392.66 Q146.561 1399.77 148.367 1403.33 Q150.195 1406.87 153.806 1406.87 Q157.441 1406.87 159.246 1403.33 Q161.075 1399.77 161.075 1392.66 Q161.075 1385.53 159.246 1381.99 Q157.441 1378.43 153.806 1378.43 M153.806 1374.72 Q159.616 1374.72 162.672 1379.33 Q165.751 1383.91 165.751 1392.66 Q165.751 1401.39 162.672 1406 Q159.616 1410.58 153.806 1410.58 Q147.996 1410.58 144.917 1406 Q141.862 1401.39 141.862 1392.66 Q141.862 1383.91 144.917 1379.33 Q147.996 1374.72 153.806 1374.72 Z\" fill=\"#000000\" fill-rule=\"evenodd\" fill-opacity=\"1\" /><path clip-path=\"url(#clip420)\" d=\"M 0 0 M170.82 1404.03 L175.704 1404.03 L175.704 1409.91 L170.82 1409.91 L170.82 1404.03 Z\" fill=\"#000000\" fill-rule=\"evenodd\" fill-opacity=\"1\" /><path clip-path=\"url(#clip420)\" d=\"M 0 0 M194.94 1391.27 Q198.297 1391.99 200.172 1394.26 Q202.07 1396.53 202.07 1399.86 Q202.07 1404.98 198.551 1407.78 Q195.033 1410.58 188.551 1410.58 Q186.376 1410.58 184.061 1410.14 Q181.769 1409.72 179.315 1408.87 L179.315 1404.35 Q181.26 1405.49 183.575 1406.06 Q185.889 1406.64 188.413 1406.64 Q192.811 1406.64 195.102 1404.91 Q197.417 1403.17 197.417 1399.86 Q197.417 1396.81 195.264 1395.09 Q193.135 1393.36 189.315 1393.36 L185.288 1393.36 L185.288 1389.51 L189.501 1389.51 Q192.95 1389.51 194.778 1388.15 Q196.607 1386.76 196.607 1384.17 Q196.607 1381.5 194.709 1380.09 Q192.834 1378.66 189.315 1378.66 Q187.394 1378.66 185.195 1379.07 Q182.996 1379.49 180.357 1380.37 L180.357 1376.2 Q183.019 1375.46 185.334 1375.09 Q187.672 1374.72 189.732 1374.72 Q195.056 1374.72 198.158 1377.15 Q201.26 1379.56 201.26 1383.68 Q201.26 1386.55 199.616 1388.54 Q197.973 1390.51 194.94 1391.27 Z\" fill=\"#000000\" fill-rule=\"evenodd\" fill-opacity=\"1\" /><path clip-path=\"url(#clip420)\" d=\"M 0 0 M127.209 1107.22 L139.686 1107.22 L139.686 1111.02 L127.209 1111.02 L127.209 1107.22 Z\" fill=\"#000000\" fill-rule=\"evenodd\" fill-opacity=\"1\" /><path clip-path=\"url(#clip420)\" d=\"M 0 0 M154.755 1090.62 Q151.144 1090.62 149.316 1094.19 Q147.51 1097.73 147.51 1104.86 Q147.51 1111.97 149.316 1115.53 Q151.144 1119.07 154.755 1119.07 Q158.39 1119.07 160.195 1115.53 Q162.024 1111.97 162.024 1104.86 Q162.024 1097.73 160.195 1094.19 Q158.39 1090.62 154.755 1090.62 M154.755 1086.92 Q160.566 1086.92 163.621 1091.53 Q166.7 1096.11 166.7 1104.86 Q166.7 1113.59 163.621 1118.19 Q160.566 1122.78 154.755 1122.78 Q148.945 1122.78 145.867 1118.19 Q142.811 1113.59 142.811 1104.86 Q142.811 1096.11 145.867 1091.53 Q148.945 1086.92 154.755 1086.92 Z\" fill=\"#000000\" fill-rule=\"evenodd\" fill-opacity=\"1\" /><path clip-path=\"url(#clip420)\" d=\"M 0 0 M171.769 1116.23 L176.653 1116.23 L176.653 1122.11 L171.769 1122.11 L171.769 1116.23 Z\" fill=\"#000000\" fill-rule=\"evenodd\" fill-opacity=\"1\" /><path clip-path=\"url(#clip420)\" d=\"M 0 0 M185.751 1118.17 L202.07 1118.17 L202.07 1122.11 L180.126 1122.11 L180.126 1118.17 Q182.788 1115.42 187.371 1110.79 Q191.977 1106.13 193.158 1104.79 Q195.403 1102.27 196.283 1100.53 Q197.186 1098.77 197.186 1097.08 Q197.186 1094.33 195.241 1092.59 Q193.32 1090.86 190.218 1090.86 Q188.019 1090.86 185.565 1091.62 Q183.135 1092.38 180.357 1093.93 L180.357 1089.21 Q183.181 1088.08 185.635 1087.5 Q188.089 1086.92 190.126 1086.92 Q195.496 1086.92 198.69 1089.61 Q201.885 1092.29 201.885 1096.78 Q201.885 1098.91 201.075 1100.83 Q200.288 1102.73 198.181 1105.32 Q197.602 1105.99 194.501 1109.21 Q191.399 1112.41 185.751 1118.17 Z\" fill=\"#000000\" fill-rule=\"evenodd\" fill-opacity=\"1\" /><path clip-path=\"url(#clip420)\" d=\"M 0 0 M126.839 819.421 L139.316 819.421 L139.316 823.217 L126.839 823.217 L126.839 819.421 Z\" fill=\"#000000\" fill-rule=\"evenodd\" fill-opacity=\"1\" /><path clip-path=\"url(#clip420)\" d=\"M 0 0 M154.385 802.823 Q150.774 802.823 148.945 806.388 Q147.14 809.93 147.14 817.059 Q147.14 824.166 148.945 827.731 Q150.774 831.272 154.385 831.272 Q158.019 831.272 159.825 827.731 Q161.653 824.166 161.653 817.059 Q161.653 809.93 159.825 806.388 Q158.019 802.823 154.385 802.823 M154.385 799.12 Q160.195 799.12 163.251 803.726 Q166.329 808.31 166.329 817.059 Q166.329 825.786 163.251 830.393 Q160.195 834.976 154.385 834.976 Q148.575 834.976 145.496 830.393 Q142.441 825.786 142.441 817.059 Q142.441 808.31 145.496 803.726 Q148.575 799.12 154.385 799.12 Z\" fill=\"#000000\" fill-rule=\"evenodd\" fill-opacity=\"1\" /><path clip-path=\"url(#clip420)\" d=\"M 0 0 M171.399 828.425 L176.283 828.425 L176.283 834.305 L171.399 834.305 L171.399 828.425 Z\" fill=\"#000000\" fill-rule=\"evenodd\" fill-opacity=\"1\" /><path clip-path=\"url(#clip420)\" d=\"M 0 0 M182.163 830.37 L189.801 830.37 L189.801 804.004 L181.491 805.671 L181.491 801.411 L189.755 799.745 L194.431 799.745 L194.431 830.37 L202.07 830.37 L202.07 834.305 L182.163 834.305 L182.163 830.37 Z\" fill=\"#000000\" fill-rule=\"evenodd\" fill-opacity=\"1\" /><path clip-path=\"url(#clip420)\" d=\"M 0 0 M153.158 515.022 Q149.547 515.022 147.718 518.587 Q145.913 522.129 145.913 529.258 Q145.913 536.365 147.718 539.93 Q149.547 543.471 153.158 543.471 Q156.792 543.471 158.598 539.93 Q160.427 536.365 160.427 529.258 Q160.427 522.129 158.598 518.587 Q156.792 515.022 153.158 515.022 M153.158 511.319 Q158.968 511.319 162.024 515.925 Q165.103 520.508 165.103 529.258 Q165.103 537.985 162.024 542.592 Q158.968 547.175 153.158 547.175 Q147.348 547.175 144.269 542.592 Q141.214 537.985 141.214 529.258 Q141.214 520.508 144.269 515.925 Q147.348 511.319 153.158 511.319 Z\" fill=\"#000000\" fill-rule=\"evenodd\" fill-opacity=\"1\" /><path clip-path=\"url(#clip420)\" d=\"M 0 0 M170.172 540.624 L175.056 540.624 L175.056 546.504 L170.172 546.504 L170.172 540.624 Z\" fill=\"#000000\" fill-rule=\"evenodd\" fill-opacity=\"1\" /><path clip-path=\"url(#clip420)\" d=\"M 0 0 M190.126 515.022 Q186.514 515.022 184.686 518.587 Q182.88 522.129 182.88 529.258 Q182.88 536.365 184.686 539.93 Q186.514 543.471 190.126 543.471 Q193.76 543.471 195.565 539.93 Q197.394 536.365 197.394 529.258 Q197.394 522.129 195.565 518.587 Q193.76 515.022 190.126 515.022 M190.126 511.319 Q195.936 511.319 198.991 515.925 Q202.07 520.508 202.07 529.258 Q202.07 537.985 198.991 542.592 Q195.936 547.175 190.126 547.175 Q184.315 547.175 181.237 542.592 Q178.181 537.985 178.181 529.258 Q178.181 520.508 181.237 515.925 Q184.315 511.319 190.126 511.319 Z\" fill=\"#000000\" fill-rule=\"evenodd\" fill-opacity=\"1\" /><path clip-path=\"url(#clip420)\" d=\"M 0 0 M154.385 227.221 Q150.774 227.221 148.945 230.786 Q147.14 234.328 147.14 241.457 Q147.14 248.564 148.945 252.128 Q150.774 255.67 154.385 255.67 Q158.019 255.67 159.825 252.128 Q161.653 248.564 161.653 241.457 Q161.653 234.328 159.825 230.786 Q158.019 227.221 154.385 227.221 M154.385 223.517 Q160.195 223.517 163.251 228.124 Q166.329 232.707 166.329 241.457 Q166.329 250.184 163.251 254.79 Q160.195 259.374 154.385 259.374 Q148.575 259.374 145.496 254.79 Q142.441 250.184 142.441 241.457 Q142.441 232.707 145.496 228.124 Q148.575 223.517 154.385 223.517 Z\" fill=\"#000000\" fill-rule=\"evenodd\" fill-opacity=\"1\" /><path clip-path=\"url(#clip420)\" d=\"M 0 0 M171.399 252.823 L176.283 252.823 L176.283 258.702 L171.399 258.702 L171.399 252.823 Z\" fill=\"#000000\" fill-rule=\"evenodd\" fill-opacity=\"1\" /><path clip-path=\"url(#clip420)\" d=\"M 0 0 M182.163 254.767 L189.801 254.767 L189.801 228.402 L181.491 230.068 L181.491 225.809 L189.755 224.142 L194.431 224.142 L194.431 254.767 L202.07 254.767 L202.07 258.702 L182.163 258.702 L182.163 254.767 Z\" fill=\"#000000\" fill-rule=\"evenodd\" fill-opacity=\"1\" /><path clip-path=\"url(#clip420)\" d=\"M 0 0 M1034.65 27.2059 L1042.55 27.2059 L1056.73 65.2844 L1070.91 27.2059 L1078.81 27.2059 L1061.79 72.576 L1051.67 72.576 L1034.65 27.2059 Z\" fill=\"#000000\" fill-rule=\"evenodd\" fill-opacity=\"1\" /><path clip-path=\"url(#clip420)\" d=\"M 0 0 M1107.24 49.7694 Q1098.21 49.7694 1094.73 51.8354 Q1091.24 53.9013 1091.24 58.8839 Q1091.24 62.8538 1093.84 65.2034 Q1096.47 67.5124 1100.96 67.5124 Q1107.16 67.5124 1110.89 63.1374 Q1114.66 58.7219 1114.66 51.4303 L1114.66 49.7694 L1107.24 49.7694 M1122.11 46.6907 L1122.11 72.576 L1114.66 72.576 L1114.66 65.6895 Q1112.1 69.8214 1108.3 71.8063 Q1104.49 73.7508 1098.98 73.7508 Q1092.01 73.7508 1087.88 69.8619 Q1083.79 65.9325 1083.79 59.3701 Q1083.79 51.7138 1088.89 47.825 Q1094.04 43.9361 1104.21 43.9361 L1114.66 43.9361 L1114.66 43.2069 Q1114.66 38.0623 1111.25 35.2672 Q1107.89 32.4315 1101.78 32.4315 Q1097.89 32.4315 1094.2 33.3632 Q1090.51 34.295 1087.11 36.1584 L1087.11 29.2718 Q1091.2 27.692 1095.05 26.9223 Q1098.9 26.1121 1102.54 26.1121 Q1112.39 26.1121 1117.25 31.2163 Q1122.11 36.3204 1122.11 46.6907 Z\" fill=\"#000000\" fill-rule=\"evenodd\" fill-opacity=\"1\" /><path clip-path=\"url(#clip420)\" d=\"M 0 0 M1156.22 34.1734 Q1154.96 33.4443 1153.46 33.1202 Q1152.01 32.7556 1150.22 32.7556 Q1143.9 32.7556 1140.5 36.8875 Q1137.14 40.9789 1137.14 48.6757 L1137.14 72.576 L1129.65 72.576 L1129.65 27.2059 L1137.14 27.2059 L1137.14 34.2544 Q1139.49 30.1225 1143.26 28.1376 Q1147.02 26.1121 1152.41 26.1121 Q1153.18 26.1121 1154.11 26.2337 Q1155.04 26.3147 1156.18 26.5172 L1156.22 34.1734 Z\" fill=\"#000000\" fill-rule=\"evenodd\" fill-opacity=\"1\" /><path clip-path=\"url(#clip420)\" d=\"M 0 0 M1197.78 14.324 L1197.78 27.2059 L1213.13 27.2059 L1213.13 32.9987 L1197.78 32.9987 L1197.78 57.6282 Q1197.78 63.1779 1199.28 64.7578 Q1200.82 66.3376 1205.48 66.3376 L1213.13 66.3376 L1213.13 72.576 L1205.48 72.576 Q1196.85 72.576 1193.57 69.3758 Q1190.29 66.1351 1190.29 57.6282 L1190.29 32.9987 L1184.82 32.9987 L1184.82 27.2059 L1190.29 27.2059 L1190.29 14.324 L1197.78 14.324 Z\" fill=\"#000000\" fill-rule=\"evenodd\" fill-opacity=\"1\" /><path clip-path=\"url(#clip420)\" d=\"M 0 0 M1247.24 34.1734 Q1245.99 33.4443 1244.49 33.1202 Q1243.03 32.7556 1241.25 32.7556 Q1234.93 32.7556 1231.53 36.8875 Q1228.16 40.9789 1228.16 48.6757 L1228.16 72.576 L1220.67 72.576 L1220.67 27.2059 L1228.16 27.2059 L1228.16 34.2544 Q1230.51 30.1225 1234.28 28.1376 Q1238.05 26.1121 1243.44 26.1121 Q1244.2 26.1121 1245.14 26.2337 Q1246.07 26.3147 1247.2 26.5172 L1247.24 34.1734 Z\" fill=\"#000000\" fill-rule=\"evenodd\" fill-opacity=\"1\" /><path clip-path=\"url(#clip420)\" d=\"M 0 0 M1275.68 49.7694 Q1266.65 49.7694 1263.16 51.8354 Q1259.68 53.9013 1259.68 58.8839 Q1259.68 62.8538 1262.27 65.2034 Q1264.9 67.5124 1269.4 67.5124 Q1275.6 67.5124 1279.33 63.1374 Q1283.09 58.7219 1283.09 51.4303 L1283.09 49.7694 L1275.68 49.7694 M1290.55 46.6907 L1290.55 72.576 L1283.09 72.576 L1283.09 65.6895 Q1280.54 69.8214 1276.73 71.8063 Q1272.93 73.7508 1267.42 73.7508 Q1260.45 73.7508 1256.32 69.8619 Q1252.23 65.9325 1252.23 59.3701 Q1252.23 51.7138 1257.33 47.825 Q1262.47 43.9361 1272.64 43.9361 L1283.09 43.9361 L1283.09 43.2069 Q1283.09 38.0623 1279.69 35.2672 Q1276.33 32.4315 1270.21 32.4315 Q1266.32 32.4315 1262.64 33.3632 Q1258.95 34.295 1255.55 36.1584 L1255.55 29.2718 Q1259.64 27.692 1263.49 26.9223 Q1267.34 26.1121 1270.98 26.1121 Q1280.83 26.1121 1285.69 31.2163 Q1290.55 36.3204 1290.55 46.6907 Z\" fill=\"#000000\" fill-rule=\"evenodd\" fill-opacity=\"1\" /><path clip-path=\"url(#clip420)\" d=\"M 0 0 M1331.02 28.9478 L1331.02 35.9153 Q1327.86 34.1734 1324.66 33.3227 Q1321.5 32.4315 1318.26 32.4315 Q1311 32.4315 1306.99 37.0496 Q1302.98 41.6271 1302.98 49.9314 Q1302.98 58.2358 1306.99 62.8538 Q1311 67.4314 1318.26 67.4314 Q1321.5 67.4314 1324.66 66.5807 Q1327.86 65.6895 1331.02 63.9476 L1331.02 70.8341 Q1327.9 72.2924 1324.53 73.0216 Q1321.21 73.7508 1317.45 73.7508 Q1307.2 73.7508 1301.16 67.3098 Q1295.12 60.8689 1295.12 49.9314 Q1295.12 38.832 1301.2 32.472 Q1307.32 26.1121 1317.93 26.1121 Q1321.37 26.1121 1324.66 26.8413 Q1327.94 27.5299 1331.02 28.9478 Z\" fill=\"#000000\" fill-rule=\"evenodd\" fill-opacity=\"1\" /><path clip-path=\"url(#clip420)\" d=\"M 0 0 M1377.64 48.0275 L1377.64 51.6733 L1343.37 51.6733 Q1343.86 59.3701 1347.99 63.421 Q1352.16 67.4314 1359.57 67.4314 Q1363.87 67.4314 1367.88 66.3781 Q1371.93 65.3249 1375.9 63.2184 L1375.9 70.267 Q1371.89 71.9684 1367.68 72.8596 Q1363.46 73.7508 1359.13 73.7508 Q1348.27 73.7508 1341.91 67.4314 Q1335.59 61.1119 1335.59 50.3365 Q1335.59 39.1965 1341.59 32.6746 Q1347.62 26.1121 1357.83 26.1121 Q1366.99 26.1121 1372.29 32.0264 Q1377.64 37.9003 1377.64 48.0275 M1370.19 45.84 Q1370.11 39.7232 1366.74 36.0774 Q1363.42 32.4315 1357.91 32.4315 Q1351.68 32.4315 1347.91 35.9558 Q1344.18 39.4801 1343.61 45.8805 L1370.19 45.84 Z\" fill=\"#000000\" fill-rule=\"evenodd\" fill-opacity=\"1\" /><path clip-path=\"url(#clip420)\" d=\"M 0 0 M1419.04 65.7705 L1419.04 89.8329 L1411.55 89.8329 L1411.55 27.2059 L1419.04 27.2059 L1419.04 34.0924 Q1421.39 30.0415 1424.96 28.0971 Q1428.56 26.1121 1433.54 26.1121 Q1441.81 26.1121 1446.95 32.6746 Q1452.14 39.2371 1452.14 49.9314 Q1452.14 60.6258 1446.95 67.1883 Q1441.81 73.7508 1433.54 73.7508 Q1428.56 73.7508 1424.96 71.8063 Q1421.39 69.8214 1419.04 65.7705 M1444.4 49.9314 Q1444.4 41.7081 1441 37.0496 Q1437.64 32.3505 1431.72 32.3505 Q1425.81 32.3505 1422.4 37.0496 Q1419.04 41.7081 1419.04 49.9314 Q1419.04 58.1548 1422.4 62.8538 Q1425.81 67.5124 1431.72 67.5124 Q1437.64 67.5124 1441 62.8538 Q1444.4 58.1548 1444.4 49.9314 Z\" fill=\"#000000\" fill-rule=\"evenodd\" fill-opacity=\"1\" /><path clip-path=\"url(#clip420)\" d=\"M 0 0 M1459.96 9.54393 L1467.41 9.54393 L1467.41 72.576 L1459.96 72.576 L1459.96 9.54393 Z\" fill=\"#000000\" fill-rule=\"evenodd\" fill-opacity=\"1\" /><path clip-path=\"url(#clip420)\" d=\"M 0 0 M1492.81 32.4315 Q1486.81 32.4315 1483.33 37.1306 Q1479.85 41.7891 1479.85 49.9314 Q1479.85 58.0738 1483.29 62.7728 Q1486.77 67.4314 1492.81 67.4314 Q1498.76 67.4314 1502.25 62.7323 Q1505.73 58.0333 1505.73 49.9314 Q1505.73 41.8701 1502.25 37.1711 Q1498.76 32.4315 1492.81 32.4315 M1492.81 26.1121 Q1502.53 26.1121 1508.08 32.4315 Q1513.63 38.7509 1513.63 49.9314 Q1513.63 61.0714 1508.08 67.4314 Q1502.53 73.7508 1492.81 73.7508 Q1483.05 73.7508 1477.5 67.4314 Q1471.99 61.0714 1471.99 49.9314 Q1471.99 38.7509 1477.5 32.4315 Q1483.05 26.1121 1492.81 26.1121 Z\" fill=\"#000000\" fill-rule=\"evenodd\" fill-opacity=\"1\" /><path clip-path=\"url(#clip420)\" d=\"M 0 0 M1528.82 14.324 L1528.82 27.2059 L1544.17 27.2059 L1544.17 32.9987 L1528.82 32.9987 L1528.82 57.6282 Q1528.82 63.1779 1530.32 64.7578 Q1531.86 66.3376 1536.52 66.3376 L1544.17 66.3376 L1544.17 72.576 L1536.52 72.576 Q1527.89 72.576 1524.61 69.3758 Q1521.33 66.1351 1521.33 57.6282 L1521.33 32.9987 L1515.86 32.9987 L1515.86 27.2059 L1521.33 27.2059 L1521.33 14.324 L1528.82 14.324 Z\" fill=\"#000000\" fill-rule=\"evenodd\" fill-opacity=\"1\" /><path clip-path=\"url(#clip420)\" d=\"M 0 0 M1171.71 1520.4 L1177.57 1520.4 L1177.57 1556.04 L1171.71 1556.04 L1171.71 1520.4 M1171.71 1506.52 L1177.57 1506.52 L1177.57 1513.93 L1171.71 1513.93 L1171.71 1506.52 Z\" fill=\"#000000\" fill-rule=\"evenodd\" fill-opacity=\"1\" /><path clip-path=\"url(#clip420)\" d=\"M 0 0 M1189.5 1510.27 L1189.5 1520.4 L1201.57 1520.4 L1201.57 1524.95 L1189.5 1524.95 L1189.5 1544.3 Q1189.5 1548.66 1190.68 1549.9 Q1191.89 1551.14 1195.55 1551.14 L1201.57 1551.14 L1201.57 1556.04 L1195.55 1556.04 Q1188.77 1556.04 1186.19 1553.53 Q1183.61 1550.98 1183.61 1544.3 L1183.61 1524.95 L1179.32 1524.95 L1179.32 1520.4 L1183.61 1520.4 L1183.61 1510.27 L1189.5 1510.27 Z\" fill=\"#000000\" fill-rule=\"evenodd\" fill-opacity=\"1\" /><path clip-path=\"url(#clip420)\" d=\"M 0 0 M1238.2 1536.76 L1238.2 1539.62 L1211.27 1539.62 Q1211.66 1545.67 1214.9 1548.85 Q1218.18 1552 1224.01 1552 Q1227.38 1552 1230.53 1551.17 Q1233.71 1550.35 1236.83 1548.69 L1236.83 1554.23 Q1233.68 1555.57 1230.37 1556.27 Q1227.06 1556.97 1223.66 1556.97 Q1215.13 1556.97 1210.13 1552 Q1205.16 1547.04 1205.16 1538.57 Q1205.16 1529.82 1209.87 1524.69 Q1214.62 1519.54 1222.64 1519.54 Q1229.83 1519.54 1234 1524.18 Q1238.2 1528.8 1238.2 1536.76 M1232.34 1535.04 Q1232.28 1530.23 1229.64 1527.37 Q1227.03 1524.5 1222.7 1524.5 Q1217.8 1524.5 1214.84 1527.27 Q1211.91 1530.04 1211.46 1535.07 L1232.34 1535.04 Z\" fill=\"#000000\" fill-rule=\"evenodd\" fill-opacity=\"1\" /><path clip-path=\"url(#clip420)\" d=\"M 0 0 M1265 1525.87 Q1264.01 1525.3 1262.84 1525.04 Q1261.69 1524.76 1260.29 1524.76 Q1255.32 1524.76 1252.65 1528 Q1250.01 1531.22 1250.01 1537.27 L1250.01 1556.04 L1244.12 1556.04 L1244.12 1520.4 L1250.01 1520.4 L1250.01 1525.93 Q1251.86 1522.69 1254.82 1521.13 Q1257.78 1519.54 1262.01 1519.54 Q1262.61 1519.54 1263.35 1519.63 Q1264.08 1519.7 1264.97 1519.85 L1265 1525.87 Z\" fill=\"#000000\" fill-rule=\"evenodd\" fill-opacity=\"1\" /><path clip-path=\"url(#clip420)\" d=\"M 0 0 M1287.34 1538.12 Q1280.25 1538.12 1277.51 1539.75 Q1274.77 1541.37 1274.77 1545.29 Q1274.77 1548.4 1276.81 1550.25 Q1278.88 1552.07 1282.41 1552.07 Q1287.28 1552.07 1290.21 1548.63 Q1293.17 1545.16 1293.17 1539.43 L1293.17 1538.12 L1287.34 1538.12 M1299.03 1535.71 L1299.03 1556.04 L1293.17 1556.04 L1293.17 1550.63 Q1291.16 1553.88 1288.17 1555.44 Q1285.18 1556.97 1280.85 1556.97 Q1275.38 1556.97 1272.13 1553.91 Q1268.92 1550.82 1268.92 1545.67 Q1268.92 1539.65 1272.93 1536.6 Q1276.97 1533.54 1284.96 1533.54 L1293.17 1533.54 L1293.17 1532.97 Q1293.17 1528.93 1290.5 1526.73 Q1287.85 1524.5 1283.05 1524.5 Q1279.99 1524.5 1277.1 1525.23 Q1274.2 1525.97 1271.53 1527.43 L1271.53 1522.02 Q1274.74 1520.78 1277.76 1520.17 Q1280.79 1519.54 1283.65 1519.54 Q1291.39 1519.54 1295.21 1523.55 Q1299.03 1527.56 1299.03 1535.71 Z\" fill=\"#000000\" fill-rule=\"evenodd\" fill-opacity=\"1\" /><path clip-path=\"url(#clip420)\" d=\"M 0 0 M1310.96 1510.27 L1310.96 1520.4 L1323.02 1520.4 L1323.02 1524.95 L1310.96 1524.95 L1310.96 1544.3 Q1310.96 1548.66 1312.14 1549.9 Q1313.35 1551.14 1317.01 1551.14 L1323.02 1551.14 L1323.02 1556.04 L1317.01 1556.04 Q1310.23 1556.04 1307.65 1553.53 Q1305.07 1550.98 1305.07 1544.3 L1305.07 1524.95 L1300.78 1524.95 L1300.78 1520.4 L1305.07 1520.4 L1305.07 1510.27 L1310.96 1510.27 Z\" fill=\"#000000\" fill-rule=\"evenodd\" fill-opacity=\"1\" /><path clip-path=\"url(#clip420)\" d=\"M 0 0 M1329.17 1520.4 L1335.02 1520.4 L1335.02 1556.04 L1329.17 1556.04 L1329.17 1520.4 M1329.17 1506.52 L1335.02 1506.52 L1335.02 1513.93 L1329.17 1513.93 L1329.17 1506.52 Z\" fill=\"#000000\" fill-rule=\"evenodd\" fill-opacity=\"1\" /><path clip-path=\"url(#clip420)\" d=\"M 0 0 M1354.98 1524.5 Q1350.27 1524.5 1347.53 1528.19 Q1344.79 1531.85 1344.79 1538.25 Q1344.79 1544.65 1347.5 1548.34 Q1350.24 1552 1354.98 1552 Q1359.66 1552 1362.4 1548.31 Q1365.13 1544.62 1365.13 1538.25 Q1365.13 1531.92 1362.4 1528.23 Q1359.66 1524.5 1354.98 1524.5 M1354.98 1519.54 Q1362.62 1519.54 1366.98 1524.5 Q1371.34 1529.47 1371.34 1538.25 Q1371.34 1547 1366.98 1552 Q1362.62 1556.97 1354.98 1556.97 Q1347.31 1556.97 1342.95 1552 Q1338.62 1547 1338.62 1538.25 Q1338.62 1529.47 1342.95 1524.5 Q1347.31 1519.54 1354.98 1519.54 Z\" fill=\"#000000\" fill-rule=\"evenodd\" fill-opacity=\"1\" /><path clip-path=\"url(#clip420)\" d=\"M 0 0 M1407.11 1534.53 L1407.11 1556.04 L1401.26 1556.04 L1401.26 1534.72 Q1401.26 1529.66 1399.29 1527.14 Q1397.31 1524.63 1393.36 1524.63 Q1388.62 1524.63 1385.89 1527.65 Q1383.15 1530.68 1383.15 1535.9 L1383.15 1556.04 L1377.26 1556.04 L1377.26 1520.4 L1383.15 1520.4 L1383.15 1525.93 Q1385.25 1522.72 1388.08 1521.13 Q1390.95 1519.54 1394.67 1519.54 Q1400.81 1519.54 1403.96 1523.36 Q1407.11 1527.14 1407.11 1534.53 Z\" fill=\"#000000\" fill-rule=\"evenodd\" fill-opacity=\"1\" /><path clip-path=\"url(#clip420)\" d=\"M 0 0 M52.3562 821.085 L52.3562 814.878 L82.275 803.738 L52.3562 792.598 L52.3562 786.392 L88.0042 799.76 L88.0042 807.717 L52.3562 821.085 Z\" fill=\"#000000\" fill-rule=\"evenodd\" fill-opacity=\"1\" /><path clip-path=\"url(#clip420)\" d=\"M 0 0 M70.0847 764.048 Q70.0847 771.146 71.7079 773.883 Q73.3312 776.62 77.2461 776.62 Q80.3653 776.62 82.2114 774.583 Q84.0256 772.514 84.0256 768.981 Q84.0256 764.112 80.5881 761.183 Q77.1188 758.223 71.3897 758.223 L70.0847 758.223 L70.0847 764.048 M67.6657 752.367 L88.0042 752.367 L88.0042 758.223 L82.5933 758.223 Q85.8398 760.229 87.3994 763.22 Q88.9272 766.212 88.9272 770.541 Q88.9272 776.015 85.8716 779.262 Q82.7843 782.477 77.6281 782.477 Q71.6125 782.477 68.5569 778.466 Q65.5014 774.424 65.5014 766.435 L65.5014 758.223 L64.9285 758.223 Q60.8862 758.223 58.6901 760.897 Q56.4621 763.539 56.4621 768.345 Q56.4621 771.4 57.1941 774.297 Q57.9262 777.193 59.3903 779.867 L53.9795 779.867 Q52.7381 776.652 52.1334 773.628 Q51.4968 770.605 51.4968 767.74 Q51.4968 760.006 55.5072 756.186 Q59.5176 752.367 67.6657 752.367 Z\" fill=\"#000000\" fill-rule=\"evenodd\" fill-opacity=\"1\" /><path clip-path=\"url(#clip420)\" d=\"M 0 0 M57.8307 725.567 Q57.2578 726.554 57.0032 727.732 Q56.7167 728.877 56.7167 730.278 Q56.7167 735.243 59.9632 737.917 Q63.1779 740.559 69.2253 740.559 L88.0042 740.559 L88.0042 746.447 L52.3562 746.447 L52.3562 740.559 L57.8944 740.559 Q54.6479 738.712 53.0883 735.752 Q51.4968 732.792 51.4968 728.559 Q51.4968 727.954 51.5923 727.222 Q51.656 726.49 51.8151 725.599 L57.8307 725.567 Z\" fill=\"#000000\" fill-rule=\"evenodd\" fill-opacity=\"1\" /><polyline clip-path=\"url(#clip422)\" style=\"stroke:#009af9; stroke-width:4; stroke-opacity:1; fill:none\" points=\"\n",
       "  286.259,855.965 290.728,603.888 295.196,935.139 299.664,686.53 304.133,806.186 308.601,954.821 313.07,907.981 317.538,726.825 322.006,900.679 326.475,793.783 \n",
       "  330.943,897.974 335.411,1042.38 339.88,917.501 344.348,537.162 348.817,768.638 353.285,1085.08 357.753,1102.42 362.222,571.238 366.69,902.114 371.159,801.835 \n",
       "  375.627,1052.53 380.095,731.722 384.564,160.256 389.032,839.806 393.501,822.232 397.969,1135.29 402.437,827.054 406.906,768.387 411.374,873.761 415.842,721.755 \n",
       "  420.311,888.399 424.779,994.627 429.248,954.91 433.716,883.084 438.184,824.703 442.653,812.78 447.121,826.292 451.59,984.081 456.058,929.941 460.526,652.128 \n",
       "  464.995,869.138 469.463,902.241 473.932,662.511 478.4,902.515 482.868,1139.51 487.337,726.454 491.805,801.801 496.274,748.305 500.742,976.183 505.21,840.299 \n",
       "  509.679,819.047 514.147,968.161 518.615,1029.1 523.084,451.126 527.552,1039.71 532.021,988.014 536.489,832.215 540.957,746.711 545.426,778.412 549.894,799.798 \n",
       "  554.363,1263.79 558.831,866.118 563.299,1034.53 567.768,1142.18 572.236,900.62 576.705,1057.55 581.173,985.025 585.641,938.549 590.11,1055 594.578,538.633 \n",
       "  599.047,698.124 603.515,655.902 607.983,970.554 612.452,803.249 616.92,562.898 621.388,1031.15 625.857,794.196 630.325,860.493 634.794,938.683 639.262,743.25 \n",
       "  643.73,918.786 648.199,1193.56 652.667,990.345 657.136,562.433 661.604,873.373 666.072,506.031 670.541,995.941 675.009,624.454 679.478,851.629 683.946,914.384 \n",
       "  688.414,931.22 692.883,1003.08 697.351,741.146 701.82,899.395 706.288,999.734 710.756,494.338 715.225,900.556 719.693,1048.2 724.161,693.071 728.63,729.115 \n",
       "  733.098,947.626 737.567,522.004 742.035,856.936 746.503,770.457 750.972,945.599 755.44,911.773 759.909,874.727 764.377,820.33 768.845,979.303 773.314,925.818 \n",
       "  777.782,842.265 782.251,710.995 786.719,735.929 791.187,869.1 795.656,927.715 800.124,694.516 804.593,727.65 809.061,681.092 813.529,975.769 817.998,561.106 \n",
       "  822.466,792.935 826.934,941.698 831.403,833.609 835.871,684.456 840.34,851.583 844.808,1051.33 849.276,598.091 853.745,1063.67 858.213,1097.07 862.682,1009.18 \n",
       "  867.15,938.488 871.618,1128.21 876.087,930.333 880.555,951.784 885.024,660.336 889.492,1052.94 893.96,735.797 898.429,831.341 902.897,766.488 907.365,1036.35 \n",
       "  911.834,895.189 916.302,1087.94 920.771,1006.46 925.239,810.021 929.707,554.164 934.176,358.696 938.644,956.93 943.113,1021.16 947.581,943.146 952.049,1046.51 \n",
       "  956.518,715.141 960.986,835.095 965.455,522.057 969.923,876.711 974.391,1144.9 978.86,1028.37 983.328,793.538 987.797,835.363 992.265,944.908 996.733,702.953 \n",
       "  1001.2,724.194 1005.67,1163.37 1010.14,672.566 1014.61,792.421 1019.08,795.409 1023.54,878.651 1028.01,725.306 1032.48,820.076 1036.95,615.175 1041.42,1003.85 \n",
       "  1045.89,1034.29 1050.35,777.512 1054.82,884.65 1059.29,985.295 1063.76,675.031 1068.23,830.666 1072.7,991.218 1077.16,1052.4 1081.63,731.497 1086.1,928.541 \n",
       "  1090.57,843.377 1095.04,1184.64 1099.51,584.363 1103.97,858.284 1108.44,1044.58 1112.91,729.462 1117.38,1028.11 1121.85,1010.28 1126.32,845.015 1130.79,1240.41 \n",
       "  1135.25,956.553 1139.72,758.77 1144.19,904.782 1148.66,1075.24 1153.13,737.826 1157.6,913.182 1162.06,974.191 1166.53,917.426 1171,411.051 1175.47,476.358 \n",
       "  1179.94,1084.7 1184.41,822.685 1188.87,913.56 1193.34,918.674 1197.81,1047.6 1202.28,935.129 1206.75,777.421 1211.22,957.79 1215.68,1106.3 1220.15,793.551 \n",
       "  1224.62,1386.4 1229.09,854.026 1233.56,740.196 1238.03,767.228 1242.49,980.444 1246.96,736.785 1251.43,755.57 1255.9,773.54 1260.37,897.932 1264.84,774.586 \n",
       "  1269.31,1153.84 1273.77,902.333 1278.24,782.82 1282.71,624.014 1287.18,692.828 1291.65,1020.35 1296.12,890.698 1300.58,572.414 1305.05,1042.83 1309.52,781.539 \n",
       "  1313.99,785.769 1318.46,854.005 1322.93,661.935 1327.39,754.77 1331.86,825.425 1336.33,813.659 1340.8,616.265 1345.27,635.536 1349.74,772.088 1354.2,919.782 \n",
       "  1358.67,789.875 1363.14,1081.67 1367.61,903.472 1372.08,729.314 1376.55,1064.91 1381.01,1075.9 1385.48,768.425 1389.95,1089 1394.42,412.443 1398.89,741.052 \n",
       "  1403.36,767.999 1407.83,1050.26 1412.29,626.465 1416.76,1124.82 1421.23,866.582 1425.7,1002.13 1430.17,774.02 1434.64,479.976 1439.1,761.889 1443.57,1038.81 \n",
       "  1448.04,840.576 1452.51,576.511 1456.98,827.289 1461.45,768.859 1465.91,1030.39 1470.38,840.264 1474.85,675.106 1479.32,674.59 1483.79,1092.95 1488.26,1128.57 \n",
       "  1492.72,556.127 1497.19,616.903 1501.66,624.403 1506.13,923.491 1510.6,1151.71 1515.07,455.391 1519.54,284.978 1524,826.161 1528.47,648.502 1532.94,993.189 \n",
       "  1537.41,940.669 1541.88,867.623 1546.35,1026.78 1550.81,978.336 1555.28,1062.22 1559.75,936.356 1564.22,845.482 1568.69,771.44 1573.16,977.434 1577.62,901.9 \n",
       "  1582.09,719.887 1586.56,826.474 1591.03,548.099 1595.5,731.947 1599.97,935.747 1604.43,869.616 1608.9,1282.51 1613.37,838.168 1617.84,792.972 1622.31,799.18 \n",
       "  1626.78,628.982 1631.24,816.35 1635.71,956.921 1640.18,939.499 1644.65,856.972 1649.12,706.452 1653.59,616.159 1658.06,1008.58 1662.52,746.525 1666.99,757.262 \n",
       "  1671.46,559.695 1675.93,744.6 1680.4,958.958 1684.87,998.698 1689.33,1208.05 1693.8,921.333 1698.27,959.45 1702.74,1283.88 1707.21,901.781 1711.68,689.914 \n",
       "  1716.14,1007.78 1720.61,696.045 1725.08,863.995 1729.55,989.026 1734.02,954.785 1738.49,635.014 1742.95,767.791 1747.42,960.781 1751.89,854.674 1756.36,882.199 \n",
       "  1760.83,898.707 1765.3,934.236 1769.76,718.782 1774.23,1026.76 1778.7,825.455 1783.17,694.341 1787.64,1007.64 1792.11,1059.39 1796.58,924.017 1801.04,696.618 \n",
       "  1805.51,1061.2 1809.98,664.992 1814.45,921.146 1818.92,918.399 1823.39,553.397 1827.85,988.876 1832.32,938.726 1836.79,1190.15 1841.26,1014 1845.73,699.22 \n",
       "  1850.2,705.566 1854.66,804.853 1859.13,1032.35 1863.6,883.458 1868.07,1182.93 1872.54,884.494 1877.01,641.524 1881.47,682.652 1885.94,728.341 1890.41,1162.92 \n",
       "  1894.88,826.445 1899.35,905.961 1903.82,704.452 1908.29,824.304 1912.75,773.37 1917.22,800.603 1921.69,932.742 1926.16,1077.26 1930.63,888.775 1935.1,742.78 \n",
       "  1939.56,629.591 1944.03,779.578 1948.5,866.511 1952.97,777.482 1957.44,892.499 1961.91,959.71 1966.37,412.326 1970.84,329.789 1975.31,770.807 1979.78,873.823 \n",
       "  1984.25,739.428 1988.72,705.23 1993.18,922.876 1997.65,813.729 2002.12,874.955 2006.59,934.701 2011.06,886.288 2015.53,682.103 2019.99,925.503 2024.46,760.927 \n",
       "  2028.93,462.423 2033.4,775.066 2037.87,1016.58 2042.34,739.531 2046.81,829.082 2051.27,766.571 2055.74,836.371 2060.21,644.107 2064.68,1068.13 2069.15,804.79 \n",
       "  2073.62,654.267 2078.08,1161.98 2082.55,925.202 2087.02,761.189 2091.49,765.388 2095.96,804.872 2100.43,886.418 2104.89,763.015 2109.36,1170.96 2113.83,953.499 \n",
       "  2118.3,1034.66 2122.77,949.444 2127.24,482.474 2131.7,860.782 2136.17,1237.06 2140.64,720.432 2145.11,692.971 2149.58,1049.94 2154.05,1027.14 2158.51,655.622 \n",
       "  2162.98,948.938 2167.45,840.511 2171.92,993.297 2176.39,1067.96 2180.86,730.058 2185.33,891.534 2189.79,819.243 2194.26,1270.15 2198.73,570.313 2203.2,656.113 \n",
       "  2207.67,844.072 2212.14,750.426 2216.6,1042.84 2221.07,1050.01 2225.54,911.126 2230.01,913.851 2234.48,885.125 2238.95,1135.67 2243.41,775.129 2247.88,1170.38 \n",
       "  2252.35,913.566 2256.82,839.157 2261.29,867.219 2265.76,653.295 2270.22,1108.03 2274.69,950.814 2279.16,756.508 2283.63,923.113 2288.1,905.722 2292.57,977.24 \n",
       "  \n",
       "  \"/>\n",
       "<path clip-path=\"url(#clip420)\" d=\"\n",
       "M1989.74 327.952 L2280.76 327.952 L2280.76 206.992 L1989.74 206.992  Z\n",
       "  \" fill=\"#ffffff\" fill-rule=\"evenodd\" fill-opacity=\"1\"/>\n",
       "<polyline clip-path=\"url(#clip420)\" style=\"stroke:#000000; stroke-width:4; stroke-opacity:1; fill:none\" points=\"\n",
       "  1989.74,327.952 2280.76,327.952 2280.76,206.992 1989.74,206.992 1989.74,327.952 \n",
       "  \"/>\n",
       "<polyline clip-path=\"url(#clip420)\" style=\"stroke:#009af9; stroke-width:4; stroke-opacity:1; fill:none\" points=\"\n",
       "  2013.74,267.472 2157.74,267.472 \n",
       "  \"/>\n",
       "<path clip-path=\"url(#clip420)\" d=\"M 0 0 M2195.58 287.16 Q2193.77 291.789 2192.06 293.201 Q2190.35 294.613 2187.48 294.613 L2184.08 294.613 L2184.08 291.048 L2186.58 291.048 Q2188.33 291.048 2189.31 290.215 Q2190.28 289.382 2191.46 286.28 L2192.22 284.335 L2181.74 258.826 L2186.25 258.826 L2194.35 279.104 L2202.46 258.826 L2206.97 258.826 L2195.58 287.16 Z\" fill=\"#000000\" fill-rule=\"evenodd\" fill-opacity=\"1\" /><path clip-path=\"url(#clip420)\" d=\"M 0 0 M2212.85 280.817 L2220.49 280.817 L2220.49 254.451 L2212.18 256.118 L2212.18 251.859 L2220.44 250.192 L2225.12 250.192 L2225.12 280.817 L2232.76 280.817 L2232.76 284.752 L2212.85 284.752 L2212.85 280.817 Z\" fill=\"#000000\" fill-rule=\"evenodd\" fill-opacity=\"1\" /></svg>\n"
      ]
     },
     "execution_count": 43,
     "metadata": {},
     "output_type": "execute_result"
    }
   ],
   "source": [
    "insertcols!(gVar, 1, :iteration => 1:450)\n",
    "using Plots\n",
    "x = gVar[!,1]; y = gVar[!,3]; # These are the plotting data\n",
    "plot(x,y, title = \"var trace plot\",\n",
    "        xlabel = \"iteration\", ylabel = \"var\")"
   ]
  },
  {
   "cell_type": "code",
   "execution_count": 44,
   "metadata": {},
   "outputs": [
    {
     "data": {
      "text/plain": [
       "-0.11305145586037554"
      ]
     },
     "execution_count": 44,
     "metadata": {},
     "output_type": "execute_result"
    }
   ],
   "source": [
    "#using Pkg\n",
    "#Pkg.add(\"StatsBase\")\n",
    "using(StatsBase)\n",
    "mean(gVar[!,3])"
   ]
  },
  {
   "cell_type": "code",
   "execution_count": 45,
   "metadata": {},
   "outputs": [
    {
     "data": {
      "text/plain": [
       "0.061004528889224655"
      ]
     },
     "execution_count": 45,
     "metadata": {},
     "output_type": "execute_result"
    }
   ],
   "source": [
    "std(gVar[!,3])"
   ]
  },
  {
   "cell_type": "code",
   "execution_count": 21,
   "metadata": {},
   "outputs": [
    {
     "data": {
      "image/svg+xml": [
       "<?xml version=\"1.0\" encoding=\"utf-8\"?>\n",
       "<svg xmlns=\"http://www.w3.org/2000/svg\" xmlns:xlink=\"http://www.w3.org/1999/xlink\" width=\"600\" height=\"400\" viewBox=\"0 0 2400 1600\">\n",
       "<defs>\n",
       "  <clipPath id=\"clip640\">\n",
       "    <rect x=\"0\" y=\"0\" width=\"2400\" height=\"1600\"/>\n",
       "  </clipPath>\n",
       "</defs>\n",
       "<path clip-path=\"url(#clip640)\" d=\"\n",
       "M0 1600 L2400 1600 L2400 0 L0 0  Z\n",
       "  \" fill=\"#ffffff\" fill-rule=\"evenodd\" fill-opacity=\"1\"/>\n",
       "<defs>\n",
       "  <clipPath id=\"clip641\">\n",
       "    <rect x=\"480\" y=\"0\" width=\"1681\" height=\"1600\"/>\n",
       "  </clipPath>\n",
       "</defs>\n",
       "<path clip-path=\"url(#clip640)\" d=\"\n",
       "M139.191 1486.45 L2352.76 1486.45 L2352.76 47.2441 L139.191 47.2441  Z\n",
       "  \" fill=\"#ffffff\" fill-rule=\"evenodd\" fill-opacity=\"1\"/>\n",
       "<defs>\n",
       "  <clipPath id=\"clip642\">\n",
       "    <rect x=\"139\" y=\"47\" width=\"2215\" height=\"1440\"/>\n",
       "  </clipPath>\n",
       "</defs>\n",
       "<polyline clip-path=\"url(#clip642)\" style=\"stroke:#000000; stroke-width:2; stroke-opacity:0.1; fill:none\" points=\"\n",
       "  507.199,1486.45 507.199,47.2441 \n",
       "  \"/>\n",
       "<polyline clip-path=\"url(#clip642)\" style=\"stroke:#000000; stroke-width:2; stroke-opacity:0.1; fill:none\" points=\"\n",
       "  999.715,1486.45 999.715,47.2441 \n",
       "  \"/>\n",
       "<polyline clip-path=\"url(#clip642)\" style=\"stroke:#000000; stroke-width:2; stroke-opacity:0.1; fill:none\" points=\"\n",
       "  1492.23,1486.45 1492.23,47.2441 \n",
       "  \"/>\n",
       "<polyline clip-path=\"url(#clip642)\" style=\"stroke:#000000; stroke-width:2; stroke-opacity:0.1; fill:none\" points=\"\n",
       "  1984.75,1486.45 1984.75,47.2441 \n",
       "  \"/>\n",
       "<polyline clip-path=\"url(#clip642)\" style=\"stroke:#000000; stroke-width:2; stroke-opacity:0.1; fill:none\" points=\"\n",
       "  139.191,1445.72 2352.76,1445.72 \n",
       "  \"/>\n",
       "<polyline clip-path=\"url(#clip642)\" style=\"stroke:#000000; stroke-width:2; stroke-opacity:0.1; fill:none\" points=\"\n",
       "  139.191,1137.14 2352.76,1137.14 \n",
       "  \"/>\n",
       "<polyline clip-path=\"url(#clip642)\" style=\"stroke:#000000; stroke-width:2; stroke-opacity:0.1; fill:none\" points=\"\n",
       "  139.191,828.561 2352.76,828.561 \n",
       "  \"/>\n",
       "<polyline clip-path=\"url(#clip642)\" style=\"stroke:#000000; stroke-width:2; stroke-opacity:0.1; fill:none\" points=\"\n",
       "  139.191,519.984 2352.76,519.984 \n",
       "  \"/>\n",
       "<polyline clip-path=\"url(#clip642)\" style=\"stroke:#000000; stroke-width:2; stroke-opacity:0.1; fill:none\" points=\"\n",
       "  139.191,211.407 2352.76,211.407 \n",
       "  \"/>\n",
       "<polyline clip-path=\"url(#clip640)\" style=\"stroke:#000000; stroke-width:4; stroke-opacity:1; fill:none\" points=\"\n",
       "  139.191,1486.45 2352.76,1486.45 \n",
       "  \"/>\n",
       "<polyline clip-path=\"url(#clip640)\" style=\"stroke:#000000; stroke-width:4; stroke-opacity:1; fill:none\" points=\"\n",
       "  139.191,1486.45 139.191,47.2441 \n",
       "  \"/>\n",
       "<polyline clip-path=\"url(#clip640)\" style=\"stroke:#000000; stroke-width:4; stroke-opacity:1; fill:none\" points=\"\n",
       "  507.199,1486.45 507.199,1469.18 \n",
       "  \"/>\n",
       "<polyline clip-path=\"url(#clip640)\" style=\"stroke:#000000; stroke-width:4; stroke-opacity:1; fill:none\" points=\"\n",
       "  999.715,1486.45 999.715,1469.18 \n",
       "  \"/>\n",
       "<polyline clip-path=\"url(#clip640)\" style=\"stroke:#000000; stroke-width:4; stroke-opacity:1; fill:none\" points=\"\n",
       "  1492.23,1486.45 1492.23,1469.18 \n",
       "  \"/>\n",
       "<polyline clip-path=\"url(#clip640)\" style=\"stroke:#000000; stroke-width:4; stroke-opacity:1; fill:none\" points=\"\n",
       "  1984.75,1486.45 1984.75,1469.18 \n",
       "  \"/>\n",
       "<polyline clip-path=\"url(#clip640)\" style=\"stroke:#000000; stroke-width:4; stroke-opacity:1; fill:none\" points=\"\n",
       "  139.191,1445.72 165.754,1445.72 \n",
       "  \"/>\n",
       "<polyline clip-path=\"url(#clip640)\" style=\"stroke:#000000; stroke-width:4; stroke-opacity:1; fill:none\" points=\"\n",
       "  139.191,1137.14 165.754,1137.14 \n",
       "  \"/>\n",
       "<polyline clip-path=\"url(#clip640)\" style=\"stroke:#000000; stroke-width:4; stroke-opacity:1; fill:none\" points=\"\n",
       "  139.191,828.561 165.754,828.561 \n",
       "  \"/>\n",
       "<polyline clip-path=\"url(#clip640)\" style=\"stroke:#000000; stroke-width:4; stroke-opacity:1; fill:none\" points=\"\n",
       "  139.191,519.984 165.754,519.984 \n",
       "  \"/>\n",
       "<polyline clip-path=\"url(#clip640)\" style=\"stroke:#000000; stroke-width:4; stroke-opacity:1; fill:none\" points=\"\n",
       "  139.191,211.407 165.754,211.407 \n",
       "  \"/>\n",
       "<path clip-path=\"url(#clip640)\" d=\"M 0 0 M488.472 1508.44 Q484.861 1508.44 483.033 1512 Q481.227 1515.55 481.227 1522.67 Q481.227 1529.78 483.033 1533.35 Q484.861 1536.89 488.472 1536.89 Q492.107 1536.89 493.912 1533.35 Q495.741 1529.78 495.741 1522.67 Q495.741 1515.55 493.912 1512 Q492.107 1508.44 488.472 1508.44 M488.472 1504.73 Q494.282 1504.73 497.338 1509.34 Q500.417 1513.92 500.417 1522.67 Q500.417 1531.4 497.338 1536.01 Q494.282 1540.59 488.472 1540.59 Q482.662 1540.59 479.583 1536.01 Q476.528 1531.4 476.528 1522.67 Q476.528 1513.92 479.583 1509.34 Q482.662 1504.73 488.472 1504.73 Z\" fill=\"#000000\" fill-rule=\"evenodd\" fill-opacity=\"1\" /><path clip-path=\"url(#clip640)\" d=\"M 0 0 M505.486 1534.04 L510.37 1534.04 L510.37 1539.92 L505.486 1539.92 L505.486 1534.04 Z\" fill=\"#000000\" fill-rule=\"evenodd\" fill-opacity=\"1\" /><path clip-path=\"url(#clip640)\" d=\"M 0 0 M528.287 1509.43 L516.481 1527.88 L528.287 1527.88 L528.287 1509.43 M527.06 1505.36 L532.94 1505.36 L532.94 1527.88 L537.87 1527.88 L537.87 1531.77 L532.94 1531.77 L532.94 1539.92 L528.287 1539.92 L528.287 1531.77 L512.685 1531.77 L512.685 1527.26 L527.06 1505.36 Z\" fill=\"#000000\" fill-rule=\"evenodd\" fill-opacity=\"1\" /><path clip-path=\"url(#clip640)\" d=\"M 0 0 M981.729 1508.44 Q978.118 1508.44 976.289 1512 Q974.484 1515.55 974.484 1522.67 Q974.484 1529.78 976.289 1533.35 Q978.118 1536.89 981.729 1536.89 Q985.364 1536.89 987.169 1533.35 Q988.998 1529.78 988.998 1522.67 Q988.998 1515.55 987.169 1512 Q985.364 1508.44 981.729 1508.44 M981.729 1504.73 Q987.539 1504.73 990.595 1509.34 Q993.674 1513.92 993.674 1522.67 Q993.674 1531.4 990.595 1536.01 Q987.539 1540.59 981.729 1540.59 Q975.919 1540.59 972.84 1536.01 Q969.785 1531.4 969.785 1522.67 Q969.785 1513.92 972.84 1509.34 Q975.919 1504.73 981.729 1504.73 Z\" fill=\"#000000\" fill-rule=\"evenodd\" fill-opacity=\"1\" /><path clip-path=\"url(#clip640)\" d=\"M 0 0 M998.743 1534.04 L1003.63 1534.04 L1003.63 1539.92 L998.743 1539.92 L998.743 1534.04 Z\" fill=\"#000000\" fill-rule=\"evenodd\" fill-opacity=\"1\" /><path clip-path=\"url(#clip640)\" d=\"M 0 0 M1008.74 1505.36 L1027.1 1505.36 L1027.1 1509.3 L1013.03 1509.3 L1013.03 1517.77 Q1014.04 1517.42 1015.06 1517.26 Q1016.08 1517.07 1017.1 1517.07 Q1022.89 1517.07 1026.27 1520.24 Q1029.65 1523.42 1029.65 1528.83 Q1029.65 1534.41 1026.17 1537.51 Q1022.7 1540.59 1016.38 1540.59 Q1014.21 1540.59 1011.94 1540.22 Q1009.69 1539.85 1007.28 1539.11 L1007.28 1534.41 Q1009.37 1535.54 1011.59 1536.1 Q1013.81 1536.66 1016.29 1536.66 Q1020.29 1536.66 1022.63 1534.55 Q1024.97 1532.44 1024.97 1528.83 Q1024.97 1525.22 1022.63 1523.11 Q1020.29 1521.01 1016.29 1521.01 Q1014.41 1521.01 1012.54 1521.42 Q1010.69 1521.84 1008.74 1522.72 L1008.74 1505.36 Z\" fill=\"#000000\" fill-rule=\"evenodd\" fill-opacity=\"1\" /><path clip-path=\"url(#clip640)\" d=\"M 0 0 M1473.67 1508.44 Q1470.06 1508.44 1468.23 1512 Q1466.42 1515.55 1466.42 1522.67 Q1466.42 1529.78 1468.23 1533.35 Q1470.06 1536.89 1473.67 1536.89 Q1477.3 1536.89 1479.11 1533.35 Q1480.94 1529.78 1480.94 1522.67 Q1480.94 1515.55 1479.11 1512 Q1477.3 1508.44 1473.67 1508.44 M1473.67 1504.73 Q1479.48 1504.73 1482.53 1509.34 Q1485.61 1513.92 1485.61 1522.67 Q1485.61 1531.4 1482.53 1536.01 Q1479.48 1540.59 1473.67 1540.59 Q1467.86 1540.59 1464.78 1536.01 Q1461.72 1531.4 1461.72 1522.67 Q1461.72 1513.92 1464.78 1509.34 Q1467.86 1504.73 1473.67 1504.73 Z\" fill=\"#000000\" fill-rule=\"evenodd\" fill-opacity=\"1\" /><path clip-path=\"url(#clip640)\" d=\"M 0 0 M1490.68 1534.04 L1495.56 1534.04 L1495.56 1539.92 L1490.68 1539.92 L1490.68 1534.04 Z\" fill=\"#000000\" fill-rule=\"evenodd\" fill-opacity=\"1\" /><path clip-path=\"url(#clip640)\" d=\"M 0 0 M1511.21 1520.78 Q1508.06 1520.78 1506.21 1522.93 Q1504.38 1525.08 1504.38 1528.83 Q1504.38 1532.56 1506.21 1534.73 Q1508.06 1536.89 1511.21 1536.89 Q1514.36 1536.89 1516.19 1534.73 Q1518.04 1532.56 1518.04 1528.83 Q1518.04 1525.08 1516.19 1522.93 Q1514.36 1520.78 1511.21 1520.78 M1520.5 1506.12 L1520.5 1510.38 Q1518.74 1509.55 1516.93 1509.11 Q1515.15 1508.67 1513.39 1508.67 Q1508.76 1508.67 1506.31 1511.8 Q1503.87 1514.92 1503.53 1521.24 Q1504.89 1519.23 1506.95 1518.16 Q1509.01 1517.07 1511.49 1517.07 Q1516.7 1517.07 1519.71 1520.24 Q1522.74 1523.39 1522.74 1528.83 Q1522.74 1534.16 1519.59 1537.37 Q1516.44 1540.59 1511.21 1540.59 Q1505.22 1540.59 1502.05 1536.01 Q1498.88 1531.4 1498.88 1522.67 Q1498.88 1514.48 1502.76 1509.62 Q1506.65 1504.73 1513.2 1504.73 Q1514.96 1504.73 1516.75 1505.08 Q1518.55 1505.43 1520.5 1506.12 Z\" fill=\"#000000\" fill-rule=\"evenodd\" fill-opacity=\"1\" /><path clip-path=\"url(#clip640)\" d=\"M 0 0 M1966.72 1508.44 Q1963.1 1508.44 1961.28 1512 Q1959.47 1515.55 1959.47 1522.67 Q1959.47 1529.78 1961.28 1533.35 Q1963.1 1536.89 1966.72 1536.89 Q1970.35 1536.89 1972.16 1533.35 Q1973.98 1529.78 1973.98 1522.67 Q1973.98 1515.55 1972.16 1512 Q1970.35 1508.44 1966.72 1508.44 M1966.72 1504.73 Q1972.53 1504.73 1975.58 1509.34 Q1978.66 1513.92 1978.66 1522.67 Q1978.66 1531.4 1975.58 1536.01 Q1972.53 1540.59 1966.72 1540.59 Q1960.91 1540.59 1957.83 1536.01 Q1954.77 1531.4 1954.77 1522.67 Q1954.77 1513.92 1957.83 1509.34 Q1960.91 1504.73 1966.72 1504.73 Z\" fill=\"#000000\" fill-rule=\"evenodd\" fill-opacity=\"1\" /><path clip-path=\"url(#clip640)\" d=\"M 0 0 M1983.73 1534.04 L1988.61 1534.04 L1988.61 1539.92 L1983.73 1539.92 L1983.73 1534.04 Z\" fill=\"#000000\" fill-rule=\"evenodd\" fill-opacity=\"1\" /><path clip-path=\"url(#clip640)\" d=\"M 0 0 M1992.5 1505.36 L2014.72 1505.36 L2014.72 1507.35 L2002.18 1539.92 L1997.29 1539.92 L2009.1 1509.3 L1992.5 1509.3 L1992.5 1505.36 Z\" fill=\"#000000\" fill-rule=\"evenodd\" fill-opacity=\"1\" /><path clip-path=\"url(#clip640)\" d=\"M 0 0 M103.247 1431.51 Q99.6354 1431.51 97.8068 1435.08 Q96.0012 1438.62 96.0012 1445.75 Q96.0012 1452.86 97.8068 1456.42 Q99.6354 1459.96 103.247 1459.96 Q106.881 1459.96 108.686 1456.42 Q110.515 1452.86 110.515 1445.75 Q110.515 1438.62 108.686 1435.08 Q106.881 1431.51 103.247 1431.51 M103.247 1427.81 Q109.057 1427.81 112.112 1432.42 Q115.191 1437 115.191 1445.75 Q115.191 1454.48 112.112 1459.08 Q109.057 1463.67 103.247 1463.67 Q97.4364 1463.67 94.3577 1459.08 Q91.3022 1454.48 91.3022 1445.75 Q91.3022 1437 94.3577 1432.42 Q97.4364 1427.81 103.247 1427.81 Z\" fill=\"#000000\" fill-rule=\"evenodd\" fill-opacity=\"1\" /><path clip-path=\"url(#clip640)\" d=\"M 0 0 M71.8578 1150.48 L88.1772 1150.48 L88.1772 1154.42 L66.2328 1154.42 L66.2328 1150.48 Q68.8949 1147.73 73.4782 1143.1 Q78.0846 1138.45 79.2652 1137.1 Q81.5105 1134.58 82.3902 1132.84 Q83.2929 1131.09 83.2929 1129.4 Q83.2929 1126.64 81.3485 1124.9 Q79.4272 1123.17 76.3254 1123.17 Q74.1263 1123.17 71.6726 1123.93 Q69.2421 1124.7 66.4643 1126.25 L66.4643 1121.53 Q69.2884 1120.39 71.7421 1119.81 Q74.1958 1119.23 76.2328 1119.23 Q81.6031 1119.23 84.7976 1121.92 Q87.992 1124.6 87.992 1129.09 Q87.992 1131.22 87.1818 1133.15 Q86.3948 1135.04 84.2883 1137.64 Q83.7096 1138.31 80.6078 1141.53 Q77.5059 1144.72 71.8578 1150.48 Z\" fill=\"#000000\" fill-rule=\"evenodd\" fill-opacity=\"1\" /><path clip-path=\"url(#clip640)\" d=\"M 0 0 M103.247 1122.94 Q99.6354 1122.94 97.8068 1126.5 Q96.0012 1130.04 96.0012 1137.17 Q96.0012 1144.28 97.8068 1147.84 Q99.6354 1151.39 103.247 1151.39 Q106.881 1151.39 108.686 1147.84 Q110.515 1144.28 110.515 1137.17 Q110.515 1130.04 108.686 1126.5 Q106.881 1122.94 103.247 1122.94 M103.247 1119.23 Q109.057 1119.23 112.112 1123.84 Q115.191 1128.42 115.191 1137.17 Q115.191 1145.9 112.112 1150.51 Q109.057 1155.09 103.247 1155.09 Q97.4364 1155.09 94.3577 1150.51 Q91.3022 1145.9 91.3022 1137.17 Q91.3022 1128.42 94.3577 1123.84 Q97.4364 1119.23 103.247 1119.23 Z\" fill=\"#000000\" fill-rule=\"evenodd\" fill-opacity=\"1\" /><path clip-path=\"url(#clip640)\" d=\"M 0 0 M78.5939 815.355 L66.7884 833.804 L78.5939 833.804 L78.5939 815.355 M77.367 811.281 L83.2466 811.281 L83.2466 833.804 L88.1772 833.804 L88.1772 837.693 L83.2466 837.693 L83.2466 845.841 L78.5939 845.841 L78.5939 837.693 L62.9921 837.693 L62.9921 833.179 L77.367 811.281 Z\" fill=\"#000000\" fill-rule=\"evenodd\" fill-opacity=\"1\" /><path clip-path=\"url(#clip640)\" d=\"M 0 0 M103.247 814.36 Q99.6354 814.36 97.8068 817.925 Q96.0012 821.467 96.0012 828.596 Q96.0012 835.703 97.8068 839.267 Q99.6354 842.809 103.247 842.809 Q106.881 842.809 108.686 839.267 Q110.515 835.703 110.515 828.596 Q110.515 821.467 108.686 817.925 Q106.881 814.36 103.247 814.36 M103.247 810.656 Q109.057 810.656 112.112 815.263 Q115.191 819.846 115.191 828.596 Q115.191 837.323 112.112 841.929 Q109.057 846.513 103.247 846.513 Q97.4364 846.513 94.3577 841.929 Q91.3022 837.323 91.3022 828.596 Q91.3022 819.846 94.3577 815.263 Q97.4364 810.656 103.247 810.656 Z\" fill=\"#000000\" fill-rule=\"evenodd\" fill-opacity=\"1\" /><path clip-path=\"url(#clip640)\" d=\"M 0 0 M76.6495 518.121 Q73.5013 518.121 71.6495 520.274 Q69.8208 522.426 69.8208 526.176 Q69.8208 529.903 71.6495 532.079 Q73.5013 534.232 76.6495 534.232 Q79.7976 534.232 81.6263 532.079 Q83.4781 529.903 83.4781 526.176 Q83.4781 522.426 81.6263 520.274 Q79.7976 518.121 76.6495 518.121 M85.9318 503.468 L85.9318 507.727 Q84.1726 506.894 82.367 506.454 Q80.5846 506.014 78.8254 506.014 Q74.1958 506.014 71.7421 509.139 Q69.3115 512.264 68.9643 518.584 Q70.33 516.57 72.3902 515.505 Q74.4504 514.417 76.9272 514.417 Q82.1355 514.417 85.1448 517.588 Q88.1772 520.737 88.1772 526.176 Q88.1772 531.5 85.029 534.718 Q81.8809 537.936 76.6495 537.936 Q70.6541 537.936 67.4828 533.352 Q64.3116 528.746 64.3116 520.019 Q64.3116 511.825 68.2004 506.964 Q72.0893 502.079 78.6402 502.079 Q80.3994 502.079 82.1818 502.426 Q83.9874 502.774 85.9318 503.468 Z\" fill=\"#000000\" fill-rule=\"evenodd\" fill-opacity=\"1\" /><path clip-path=\"url(#clip640)\" d=\"M 0 0 M103.247 505.783 Q99.6354 505.783 97.8068 509.348 Q96.0012 512.889 96.0012 520.019 Q96.0012 527.125 97.8068 530.69 Q99.6354 534.232 103.247 534.232 Q106.881 534.232 108.686 530.69 Q110.515 527.125 110.515 520.019 Q110.515 512.889 108.686 509.348 Q106.881 505.783 103.247 505.783 M103.247 502.079 Q109.057 502.079 112.112 506.686 Q115.191 511.269 115.191 520.019 Q115.191 528.746 112.112 533.352 Q109.057 537.936 103.247 537.936 Q97.4364 537.936 94.3577 533.352 Q91.3022 528.746 91.3022 520.019 Q91.3022 511.269 94.3577 506.686 Q97.4364 502.079 103.247 502.079 Z\" fill=\"#000000\" fill-rule=\"evenodd\" fill-opacity=\"1\" /><path clip-path=\"url(#clip640)\" d=\"M 0 0 M76.3254 212.275 Q72.9921 212.275 71.0708 214.058 Q69.1726 215.84 69.1726 218.965 Q69.1726 222.09 71.0708 223.872 Q72.9921 225.655 76.3254 225.655 Q79.6587 225.655 81.58 223.872 Q83.5013 222.067 83.5013 218.965 Q83.5013 215.84 81.58 214.058 Q79.6819 212.275 76.3254 212.275 M71.6495 210.284 Q68.6402 209.544 66.9504 207.484 Q65.2838 205.423 65.2838 202.46 Q65.2838 198.317 68.2236 195.91 Q71.1865 193.502 76.3254 193.502 Q81.4874 193.502 84.4272 195.91 Q87.367 198.317 87.367 202.46 Q87.367 205.423 85.6772 207.484 Q84.0105 209.544 81.0244 210.284 Q84.404 211.071 86.279 213.363 Q88.1772 215.655 88.1772 218.965 Q88.1772 223.988 85.0985 226.673 Q82.0429 229.358 76.3254 229.358 Q70.6078 229.358 67.5291 226.673 Q64.4736 223.988 64.4736 218.965 Q64.4736 215.655 66.3717 213.363 Q68.2699 211.071 71.6495 210.284 M69.9365 202.9 Q69.9365 205.585 71.6032 207.09 Q73.293 208.595 76.3254 208.595 Q79.3346 208.595 81.0244 207.09 Q82.7374 205.585 82.7374 202.9 Q82.7374 200.215 81.0244 198.71 Q79.3346 197.206 76.3254 197.206 Q73.293 197.206 71.6032 198.71 Q69.9365 200.215 69.9365 202.9 Z\" fill=\"#000000\" fill-rule=\"evenodd\" fill-opacity=\"1\" /><path clip-path=\"url(#clip640)\" d=\"M 0 0 M103.247 197.206 Q99.6354 197.206 97.8068 200.771 Q96.0012 204.312 96.0012 211.442 Q96.0012 218.548 97.8068 222.113 Q99.6354 225.655 103.247 225.655 Q106.881 225.655 108.686 222.113 Q110.515 218.548 110.515 211.442 Q110.515 204.312 108.686 200.771 Q106.881 197.206 103.247 197.206 M103.247 193.502 Q109.057 193.502 112.112 198.109 Q115.191 202.692 115.191 211.442 Q115.191 220.169 112.112 224.775 Q109.057 229.358 103.247 229.358 Q97.4364 229.358 94.3577 224.775 Q91.3022 220.169 91.3022 211.442 Q91.3022 202.692 94.3577 198.109 Q97.4364 193.502 103.247 193.502 Z\" fill=\"#000000\" fill-rule=\"evenodd\" fill-opacity=\"1\" /><path clip-path=\"url(#clip642)\" d=\"\n",
       "M260.941 1399.43 L260.941 1445.72 L507.199 1445.72 L507.199 1399.43 L260.941 1399.43 L260.941 1399.43  Z\n",
       "  \" fill=\"#009af9\" fill-rule=\"evenodd\" fill-opacity=\"1\"/>\n",
       "<polyline clip-path=\"url(#clip642)\" style=\"stroke:#000000; stroke-width:4; stroke-opacity:1; fill:none\" points=\"\n",
       "  260.941,1399.43 260.941,1445.72 507.199,1445.72 507.199,1399.43 260.941,1399.43 \n",
       "  \"/>\n",
       "<path clip-path=\"url(#clip642)\" d=\"\n",
       "M507.199 1245.14 L507.199 1445.72 L753.457 1445.72 L753.457 1245.14 L507.199 1245.14 L507.199 1245.14  Z\n",
       "  \" fill=\"#009af9\" fill-rule=\"evenodd\" fill-opacity=\"1\"/>\n",
       "<polyline clip-path=\"url(#clip642)\" style=\"stroke:#000000; stroke-width:4; stroke-opacity:1; fill:none\" points=\"\n",
       "  507.199,1245.14 507.199,1445.72 753.457,1445.72 753.457,1245.14 507.199,1245.14 \n",
       "  \"/>\n",
       "<path clip-path=\"url(#clip642)\" d=\"\n",
       "M753.457 689.702 L753.457 1445.72 L999.715 1445.72 L999.715 689.702 L753.457 689.702 L753.457 689.702  Z\n",
       "  \" fill=\"#009af9\" fill-rule=\"evenodd\" fill-opacity=\"1\"/>\n",
       "<polyline clip-path=\"url(#clip642)\" style=\"stroke:#000000; stroke-width:4; stroke-opacity:1; fill:none\" points=\"\n",
       "  753.457,689.702 753.457,1445.72 999.715,1445.72 999.715,689.702 753.457,689.702 \n",
       "  \"/>\n",
       "<path clip-path=\"url(#clip642)\" d=\"\n",
       "M999.715 87.9763 L999.715 1445.72 L1245.97 1445.72 L1245.97 87.9763 L999.715 87.9763 L999.715 87.9763  Z\n",
       "  \" fill=\"#009af9\" fill-rule=\"evenodd\" fill-opacity=\"1\"/>\n",
       "<polyline clip-path=\"url(#clip642)\" style=\"stroke:#000000; stroke-width:4; stroke-opacity:1; fill:none\" points=\"\n",
       "  999.715,87.9763 999.715,1445.72 1245.97,1445.72 1245.97,87.9763 999.715,87.9763 \n",
       "  \"/>\n",
       "<path clip-path=\"url(#clip642)\" d=\"\n",
       "M1245.97 165.121 L1245.97 1445.72 L1492.23 1445.72 L1492.23 165.121 L1245.97 165.121 L1245.97 165.121  Z\n",
       "  \" fill=\"#009af9\" fill-rule=\"evenodd\" fill-opacity=\"1\"/>\n",
       "<polyline clip-path=\"url(#clip642)\" style=\"stroke:#000000; stroke-width:4; stroke-opacity:1; fill:none\" points=\"\n",
       "  1245.97,165.121 1245.97,1445.72 1492.23,1445.72 1492.23,165.121 1245.97,165.121 \n",
       "  \"/>\n",
       "<path clip-path=\"url(#clip642)\" d=\"\n",
       "M1492.23 735.988 L1492.23 1445.72 L1738.49 1445.72 L1738.49 735.988 L1492.23 735.988 L1492.23 735.988  Z\n",
       "  \" fill=\"#009af9\" fill-rule=\"evenodd\" fill-opacity=\"1\"/>\n",
       "<polyline clip-path=\"url(#clip642)\" style=\"stroke:#000000; stroke-width:4; stroke-opacity:1; fill:none\" points=\"\n",
       "  1492.23,735.988 1492.23,1445.72 1738.49,1445.72 1738.49,735.988 1492.23,735.988 \n",
       "  \"/>\n",
       "<path clip-path=\"url(#clip642)\" d=\"\n",
       "M1738.49 1214.28 L1738.49 1445.72 L1984.75 1445.72 L1984.75 1214.28 L1738.49 1214.28 L1738.49 1214.28  Z\n",
       "  \" fill=\"#009af9\" fill-rule=\"evenodd\" fill-opacity=\"1\"/>\n",
       "<polyline clip-path=\"url(#clip642)\" style=\"stroke:#000000; stroke-width:4; stroke-opacity:1; fill:none\" points=\"\n",
       "  1738.49,1214.28 1738.49,1445.72 1984.75,1445.72 1984.75,1214.28 1738.49,1214.28 \n",
       "  \"/>\n",
       "<path clip-path=\"url(#clip642)\" d=\"\n",
       "M1984.75 1399.43 L1984.75 1445.72 L2231.01 1445.72 L2231.01 1399.43 L1984.75 1399.43 L1984.75 1399.43  Z\n",
       "  \" fill=\"#009af9\" fill-rule=\"evenodd\" fill-opacity=\"1\"/>\n",
       "<polyline clip-path=\"url(#clip642)\" style=\"stroke:#000000; stroke-width:4; stroke-opacity:1; fill:none\" points=\"\n",
       "  1984.75,1399.43 1984.75,1445.72 2231.01,1445.72 2231.01,1399.43 1984.75,1399.43 \n",
       "  \"/>\n",
       "<path clip-path=\"url(#clip640)\" d=\"\n",
       "M1989.74 251.724 L2280.76 251.724 L2280.76 130.764 L1989.74 130.764  Z\n",
       "  \" fill=\"#ffffff\" fill-rule=\"evenodd\" fill-opacity=\"1\"/>\n",
       "<polyline clip-path=\"url(#clip640)\" style=\"stroke:#000000; stroke-width:4; stroke-opacity:1; fill:none\" points=\"\n",
       "  1989.74,251.724 2280.76,251.724 2280.76,130.764 1989.74,130.764 1989.74,251.724 \n",
       "  \"/>\n",
       "<path clip-path=\"url(#clip640)\" d=\"\n",
       "M2013.74 215.436 L2157.74 215.436 L2157.74 167.052 L2013.74 167.052 L2013.74 215.436  Z\n",
       "  \" fill=\"#009af9\" fill-rule=\"evenodd\" fill-opacity=\"1\"/>\n",
       "<polyline clip-path=\"url(#clip640)\" style=\"stroke:#000000; stroke-width:4; stroke-opacity:1; fill:none\" points=\"\n",
       "  2013.74,215.436 2157.74,215.436 2157.74,167.052 2013.74,167.052 2013.74,215.436 \n",
       "  \"/>\n",
       "<path clip-path=\"url(#clip640)\" d=\"M 0 0 M2195.58 210.931 Q2193.77 215.561 2192.06 216.973 Q2190.35 218.385 2187.48 218.385 L2184.08 218.385 L2184.08 214.82 L2186.58 214.82 Q2188.33 214.82 2189.31 213.987 Q2190.28 213.154 2191.46 210.052 L2192.22 208.107 L2181.74 182.598 L2186.25 182.598 L2194.35 202.876 L2202.46 182.598 L2206.97 182.598 L2195.58 210.931 Z\" fill=\"#000000\" fill-rule=\"evenodd\" fill-opacity=\"1\" /><path clip-path=\"url(#clip640)\" d=\"M 0 0 M2212.85 204.589 L2220.49 204.589 L2220.49 178.223 L2212.18 179.89 L2212.18 175.631 L2220.44 173.964 L2225.12 173.964 L2225.12 204.589 L2232.76 204.589 L2232.76 208.524 L2212.85 208.524 L2212.85 204.589 Z\" fill=\"#000000\" fill-rule=\"evenodd\" fill-opacity=\"1\" /></svg>\n"
      ]
     },
     "metadata": {},
     "output_type": "display_data"
    }
   ],
   "source": [
    "using Plots\n",
    "h = histogram(gVar[!,3])\n",
    "display(h)"
   ]
  }
 ],
 "metadata": {
  "kernelspec": {
   "display_name": "Julia 1.1.0",
   "language": "julia",
   "name": "julia-1.1"
  },
  "language_info": {
   "file_extension": ".jl",
   "mimetype": "application/julia",
   "name": "julia",
   "version": "1.1.0"
  }
 },
 "nbformat": 4,
 "nbformat_minor": 2
}
