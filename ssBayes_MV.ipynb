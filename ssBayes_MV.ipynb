{
 "cells": [
  {
   "cell_type": "code",
   "execution_count": 1,
   "metadata": {},
   "outputs": [],
   "source": [
    "using DataFrames              # package for working with data sets\n",
    "using JWAS                    # package for Bayesian regression analyses, including BayesB and BayesCπ        \n",
    "#using JWAS:misc               # utility functions\n",
    "using JWAS.Datasets\n",
    "using Distributions       \n",
    "using Plots                   # package for plotting \n",
    "using CSV\n",
    "using LinearAlgebra,Statistics,Random,DelimitedFiles, DataFrames"
   ]
  },
  {
   "cell_type": "code",
   "execution_count": 2,
   "metadata": {},
   "outputs": [
    {
     "data": {
      "text/html": [
       "<table class=\"data-frame\"><thead><tr><th></th><th>ID</th><th>Cycle</th><th>BatchNum</th><th>Batch</th><th>Company</th><th>SowID</th><th>NurEnrich</th><th>QNurPenBatch</th><th>NurPenBatch</th></tr><tr><th></th><th>String</th><th>Int64</th><th>Int64</th><th>String</th><th>String</th><th>String</th><th>Bool</th><th>String</th><th>String?</th></tr></thead><tbody><p>10 rows × 73 columns (omitted printing of 64 columns)</p><tr><th>1</th><td>0001</td><td>1</td><td>1</td><td>1B</td><td>A</td><td>1B_1715</td><td>false</td><td>1B_D04</td><td>1B_D04</td></tr><tr><th>2</th><td>0002</td><td>1</td><td>1</td><td>1B</td><td>A</td><td>1B_1642</td><td>false</td><td>1B_D04</td><td>1B_D04</td></tr><tr><th>3</th><td>0004</td><td>1</td><td>1</td><td>1B</td><td>A</td><td>1B_2150</td><td>false</td><td>1B_D04</td><td>1B_D04</td></tr><tr><th>4</th><td>0005</td><td>1</td><td>1</td><td>1B</td><td>A</td><td>1B_1980</td><td>false</td><td>1B_D04</td><td>1B_D04</td></tr><tr><th>5</th><td>0006</td><td>1</td><td>1</td><td>1B</td><td>A</td><td>1B_1902</td><td>false</td><td>1B_D04</td><td>1B_D04</td></tr><tr><th>6</th><td>0007</td><td>1</td><td>1</td><td>1B</td><td>A</td><td>1B_2150</td><td>false</td><td>1B_D04</td><td>1B_D04</td></tr><tr><th>7</th><td>0009</td><td>1</td><td>1</td><td>1B</td><td>A</td><td>1B_1902</td><td>false</td><td>1B_D02</td><td>1B_D02</td></tr><tr><th>8</th><td>0010</td><td>1</td><td>1</td><td>1B</td><td>A</td><td>1B_1885</td><td>false</td><td>1B_D02</td><td>1B_D02</td></tr><tr><th>9</th><td>0011</td><td>1</td><td>1</td><td>1B</td><td>A</td><td>1B_2097</td><td>false</td><td>1B_D02</td><td>1B_D02</td></tr><tr><th>10</th><td>0012</td><td>1</td><td>1</td><td>1B</td><td>A</td><td>1B_1902</td><td>false</td><td>1B_D02</td><td>1B_D02</td></tr></tbody></table>"
      ],
      "text/latex": [
       "\\begin{tabular}{r|cccccccccc}\n",
       "\t& ID & Cycle & BatchNum & Batch & Company & SowID & NurEnrich & QNurPenBatch & NurPenBatch & \\\\\n",
       "\t\\hline\n",
       "\t& String & Int64 & Int64 & String & String & String & Bool & String & String? & \\\\\n",
       "\t\\hline\n",
       "\t1 & 0001 & 1 & 1 & 1B & A & 1B\\_1715 & false & 1B\\_D04 & 1B\\_D04 & $\\dots$ \\\\\n",
       "\t2 & 0002 & 1 & 1 & 1B & A & 1B\\_1642 & false & 1B\\_D04 & 1B\\_D04 & $\\dots$ \\\\\n",
       "\t3 & 0004 & 1 & 1 & 1B & A & 1B\\_2150 & false & 1B\\_D04 & 1B\\_D04 & $\\dots$ \\\\\n",
       "\t4 & 0005 & 1 & 1 & 1B & A & 1B\\_1980 & false & 1B\\_D04 & 1B\\_D04 & $\\dots$ \\\\\n",
       "\t5 & 0006 & 1 & 1 & 1B & A & 1B\\_1902 & false & 1B\\_D04 & 1B\\_D04 & $\\dots$ \\\\\n",
       "\t6 & 0007 & 1 & 1 & 1B & A & 1B\\_2150 & false & 1B\\_D04 & 1B\\_D04 & $\\dots$ \\\\\n",
       "\t7 & 0009 & 1 & 1 & 1B & A & 1B\\_1902 & false & 1B\\_D02 & 1B\\_D02 & $\\dots$ \\\\\n",
       "\t8 & 0010 & 1 & 1 & 1B & A & 1B\\_1885 & false & 1B\\_D02 & 1B\\_D02 & $\\dots$ \\\\\n",
       "\t9 & 0011 & 1 & 1 & 1B & A & 1B\\_2097 & false & 1B\\_D02 & 1B\\_D02 & $\\dots$ \\\\\n",
       "\t10 & 0012 & 1 & 1 & 1B & A & 1B\\_1902 & false & 1B\\_D02 & 1B\\_D02 & $\\dots$ \\\\\n",
       "\\end{tabular}\n"
      ],
      "text/plain": [
       "10×73 DataFrame. Omitted printing of 66 columns\n",
       "│ Row │ ID     │ Cycle │ BatchNum │ Batch  │ Company │ SowID   │ NurEnrich │\n",
       "│     │ \u001b[90mString\u001b[39m │ \u001b[90mInt64\u001b[39m │ \u001b[90mInt64\u001b[39m    │ \u001b[90mString\u001b[39m │ \u001b[90mString\u001b[39m  │ \u001b[90mString\u001b[39m  │ \u001b[90mBool\u001b[39m      │\n",
       "├─────┼────────┼───────┼──────────┼────────┼─────────┼─────────┼───────────┤\n",
       "│ 1   │ 0001   │ 1     │ 1        │ 1B     │ A       │ 1B_1715 │ false     │\n",
       "│ 2   │ 0002   │ 1     │ 1        │ 1B     │ A       │ 1B_1642 │ false     │\n",
       "│ 3   │ 0004   │ 1     │ 1        │ 1B     │ A       │ 1B_2150 │ false     │\n",
       "│ 4   │ 0005   │ 1     │ 1        │ 1B     │ A       │ 1B_1980 │ false     │\n",
       "│ 5   │ 0006   │ 1     │ 1        │ 1B     │ A       │ 1B_1902 │ false     │\n",
       "│ 6   │ 0007   │ 1     │ 1        │ 1B     │ A       │ 1B_2150 │ false     │\n",
       "│ 7   │ 0009   │ 1     │ 1        │ 1B     │ A       │ 1B_1902 │ false     │\n",
       "│ 8   │ 0010   │ 1     │ 1        │ 1B     │ A       │ 1B_1885 │ false     │\n",
       "│ 9   │ 0011   │ 1     │ 1        │ 1B     │ A       │ 1B_2097 │ false     │\n",
       "│ 10  │ 0012   │ 1     │ 1        │ 1B     │ A       │ 1B_1902 │ false     │"
      ]
     },
     "execution_count": 2,
     "metadata": {},
     "output_type": "execute_result"
    }
   ],
   "source": [
    "phenotypes = CSV.read(\"/home/jovyan/mark/JWAS_CDPQ/CDPQ_all_data/production_1_7_NurPenBatch__weighted_Index_Nur+FinCL_Group_MV.dat\",\n",
    "types=Dict(:ID => String), delim = ' ',header=true, missingstrings=[\"NA\"])\n",
    "first(phenotypes,10)"
   ]
  },
  {
   "cell_type": "code",
   "execution_count": 17,
   "metadata": {},
   "outputs": [
    {
     "data": {
      "text/html": [
       "<table class=\"data-frame\"><thead><tr><th></th><th>ID</th><th>Cycle</th><th>BatchNum</th><th>Batch</th><th>Company</th><th>SowID</th><th>NurEnrich</th><th>QNurPenBatch</th><th>NurPenBatch</th></tr><tr><th></th><th>SubStri…</th><th>Int64</th><th>Int64</th><th>String</th><th>String</th><th>String</th><th>Bool</th><th>String</th><th>String</th></tr></thead><tbody><p>0 rows × 73 columns (omitted printing of 64 columns)</p></tbody></table>"
      ],
      "text/latex": [
       "\\begin{tabular}{r|cccccccccc}\n",
       "\t& ID & Cycle & BatchNum & Batch & Company & SowID & NurEnrich & QNurPenBatch & NurPenBatch & \\\\\n",
       "\t\\hline\n",
       "\t& SubStri… & Int64 & Int64 & String & String & String & Bool & String & String & \\\\\n",
       "\t\\hline\n",
       "\\end{tabular}\n"
      ],
      "text/plain": [
       "0×73 DataFrame\n"
      ]
     },
     "execution_count": 17,
     "metadata": {},
     "output_type": "execute_result"
    }
   ],
   "source": [
    "phenotypes= dropmissing(phenotypes, :NurPenBatch)\n",
    "phenotypes= dropmissing(phenotypes, :wt)"
   ]
  },
  {
   "cell_type": "code",
   "execution_count": 4,
   "metadata": {},
   "outputs": [
    {
     "name": "stdout",
     "output_type": "stream",
     "text": [
      " 36.504724 seconds (37.79 k allocations: 10.393 GiB, 0.11% gc time)\n"
     ]
    },
    {
     "data": {
      "text/plain": [
       "3205×435172 Array{Float64,2}:\n",
       " 0.0  2.0  0.0  2.0  2.0  0.0  2.0  2.0  …  0.0  2.0  0.0  2.0  2.0  2.0  2.0\n",
       " 1.0  2.0  0.0  2.0  2.0  0.0  1.0  2.0     0.0  2.0  1.0  2.0  2.0  2.0  2.0\n",
       " 0.0  2.0  0.0  1.0  2.0  0.0  1.0  2.0     0.0  2.0  0.0  2.0  2.0  2.0  2.0\n",
       " 1.0  2.0  0.0  1.0  2.0  0.0  1.0  2.0     0.0  2.0  1.0  2.0  2.0  2.0  2.0\n",
       " 0.0  2.0  0.0  2.0  2.0  0.0  2.0  2.0     0.0  2.0  0.0  2.0  2.0  2.0  2.0\n",
       " 1.0  1.0  1.0  0.0  1.0  1.0  0.0  1.0  …  0.0  2.0  0.0  2.0  2.0  2.0  2.0\n",
       " 0.0  2.0  0.0  1.0  2.0  0.0  1.0  2.0     0.0  2.0  0.0  2.0  2.0  2.0  2.0\n",
       " 0.0  2.0  0.0  0.0  2.0  0.0  0.0  2.0     0.0  2.0  0.0  2.0  2.0  2.0  2.0\n",
       " 1.0  2.0  0.0  0.0  2.0  0.0  0.0  2.0     0.0  2.0  0.0  2.0  2.0  2.0  2.0\n",
       " 0.0  2.0  0.0  2.0  2.0  0.0  2.0  2.0     0.0  2.0  1.0  2.0  2.0  2.0  2.0\n",
       " 1.0  1.0  0.0  1.0  2.0  0.0  0.0  2.0  …  0.0  2.0  0.0  2.0  2.0  2.0  2.0\n",
       " 0.0  2.0  0.0  0.0  2.0  0.0  0.0  2.0     0.0  2.0  0.0  2.0  2.0  2.0  2.0\n",
       " 1.0  1.0  1.0  1.0  1.0  1.0  1.0  1.0     0.0  2.0  1.0  2.0  2.0  2.0  2.0\n",
       " ⋮                        ⋮              ⋱  ⋮                        ⋮       \n",
       " 0.0  2.0  0.0  0.0  2.0  0.0  0.0  2.0     1.0  2.0  0.0  2.0  2.0  2.0  2.0\n",
       " 1.0  2.0  0.0  1.0  2.0  0.0  0.0  2.0     1.0  2.0  0.0  2.0  2.0  2.0  2.0\n",
       " 2.0  2.0  0.0  2.0  2.0  0.0  0.0  2.0  …  1.0  2.0  0.0  2.0  2.0  2.0  2.0\n",
       " 2.0  1.0  1.0  1.0  1.0  1.0  0.0  1.0     1.0  2.0  0.0  2.0  2.0  2.0  2.0\n",
       " 2.0  2.0  0.0  2.0  2.0  0.0  0.0  2.0     0.0  2.0  0.0  2.0  2.0  2.0  2.0\n",
       " 2.0  2.0  0.0  2.0  2.0  0.0  0.0  2.0     1.0  2.0  0.0  2.0  2.0  2.0  2.0\n",
       " 1.0  1.0  1.0  0.0  1.0  1.0  0.0  1.0     0.0  2.0  0.0  2.0  2.0  2.0  2.0\n",
       " 2.0  0.0  2.0  0.0  0.0  2.0  0.0  0.0  …  1.0  2.0  0.0  2.0  2.0  2.0  2.0\n",
       " 0.0  2.0  0.0  1.0  2.0  0.0  1.0  2.0     1.0  2.0  0.0  2.0  2.0  2.0  2.0\n",
       " 1.0  1.0  1.0  1.0  1.0  1.0  1.0  1.0     1.0  2.0  0.0  2.0  2.0  2.0  2.0\n",
       " 0.0  2.0  0.0  1.0  2.0  0.0  1.0  2.0     1.0  2.0  0.0  2.0  2.0  2.0  2.0\n",
       " 1.0  2.0  0.0  1.0  2.0  0.0  0.0  2.0     1.0  2.0  0.0  2.0  2.0  2.0  2.0"
      ]
     },
     "execution_count": 4,
     "metadata": {},
     "output_type": "execute_result"
    }
   ],
   "source": [
    "function readMatBin(fileName)\n",
    "    genStr = open(fileName)\n",
    "    n = read(genStr,Int64)\n",
    "    p = read(genStr,Int64)\n",
    "    M = zeros(n,p)\n",
    "    for j in 1:p\n",
    "        for i in 1:n\n",
    "            M[i,j] = read(genStr,Float64)\n",
    "        end\n",
    "    end\n",
    "    close(genStr)\n",
    "    return M\n",
    "end\n",
    "@time M = readMatBin(\"/home/jovyan/mark/JWAS_CDPQ/CDPQ_all_data/ALGP2_Cycle_1_7_Geno_Complete_Impute_JWAS.bin.gen.bin\")"
   ]
  },
  {
   "cell_type": "code",
   "execution_count": 5,
   "metadata": {},
   "outputs": [
    {
     "data": {
      "text/plain": [
       "3205-element Array{String,1}:\n",
       " \"0001\"\n",
       " \"0002\"\n",
       " \"0004\"\n",
       " \"0005\"\n",
       " \"0006\"\n",
       " \"0007\"\n",
       " \"0009\"\n",
       " \"0010\"\n",
       " \"0011\"\n",
       " \"0012\"\n",
       " \"0013\"\n",
       " \"0014\"\n",
       " \"0015\"\n",
       " ⋮     \n",
       " \"3283\"\n",
       " \"3284\"\n",
       " \"3285\"\n",
       " \"3286\"\n",
       " \"3287\"\n",
       " \"3288\"\n",
       " \"3289\"\n",
       " \"3290\"\n",
       " \"3291\"\n",
       " \"3292\"\n",
       " \"3293\"\n",
       " \"3294\""
      ]
     },
     "execution_count": 5,
     "metadata": {},
     "output_type": "execute_result"
    }
   ],
   "source": [
    "rowID = vec(readdlm(\"/home/jovyan/mark/JWAS_CDPQ/CDPQ_all_data/ALGP2_Cycle_1_7_Geno_Complete_Impute_JWAS.bin.ids.txt\",String))"
   ]
  },
  {
   "cell_type": "code",
   "execution_count": 14,
   "metadata": {},
   "outputs": [],
   "source": [
    "model_equations =\n",
    "\"RN_NurADG1 = Batch+ Died+ EntryAge+ wt + NurPenBatch+SowID\n",
    "RN_NurADG2 = Batch+ Died+ EntryAge+ wt+ NurPenBatch+SowID\n",
    "RN_NurADG3 =Batch+ Died+ EntryAge+ wt+ NurPenBatch+SowID\n",
    "\"\n",
    "\n",
    "R =[0.979209E-02 0 0\n",
    "0 0.109188E-01 0\n",
    "0 0 0.106102E-01]\n",
    "model = build_model(model_equations,R);\n",
    "\n",
    "set_covariate(model,\"EntryAge\")\n",
    "set_covariate(model,\"wt\")\n",
    "\n",
    "G1 =[0.979209E-02 0 0\n",
    "0 0.109188E-01 0\n",
    "0 0 0.106102E-01]\n",
    "set_random(model,\"NurPenBatch\", G1)\n",
    "\n",
    "G2 =[0.979209E-02 0 0\n",
    "0 0.109188E-01 0\n",
    "0 0 0.106102E-01]\n",
    "set_random(model,\"SowID\", G2)\n"
   ]
  },
  {
   "cell_type": "code",
   "execution_count": 15,
   "metadata": {},
   "outputs": [
    {
     "name": "stdout",
     "output_type": "stream",
     "text": [
      "\u001b[0m\u001b[1mThe marker IDs are set to 1,2,...,#markers\u001b[22m\n",
      "#markers: 435172; #individuals: 3205\n",
      " 12.561593 seconds (870.71 k allocations: 15.651 GiB, 0.79% gc time)\n"
     ]
    },
    {
     "data": {
      "text/plain": [
       "7.0f0"
      ]
     },
     "execution_count": 15,
     "metadata": {},
     "output_type": "execute_result"
    }
   ],
   "source": [
    "G =[0.004 0.002 0.001\n",
    "0.002 0.005 0.002\n",
    "0.001 0.002 0.006]\n",
    "@time add_genotypes(model,M,G,header=true, rowID=rowID, G_is_marker_variance=false)"
   ]
  },
  {
   "cell_type": "code",
   "execution_count": 16,
   "metadata": {},
   "outputs": [
    {
     "name": "stdout",
     "output_type": "stream",
     "text": [
      "\u001b[32mChecking phenotypes...\u001b[39m\n",
      "\u001b[32mIndividual IDs (strings) are provided in the first column of the phenotypic data.\u001b[39m\n",
      "\u001b[31mPhenotypes for all traits included in the model for individual 1746 in the row 1521 are missing. This record is deleted.\u001b[39m\n",
      "\u001b[31mPhenotypes for all traits included in the model for individual 1788 in the row 1559 are missing. This record is deleted.\u001b[39m\n",
      "\u001b[31mPhenotypes for all traits included in the model for individual 2327 in the row 1985 are missing. This record is deleted.\u001b[39m\n",
      "\u001b[32mThe number of observations with both genotypes and phenotypes used in the analysis is 2840.\u001b[39m\n",
      "\n",
      "\u001b[0mPi (Π) is not provided.\n",
      "\u001b[0mPi (Π) is generated assuming all markers have effects on all traits.\n",
      "\n",
      "The prior for marker effects covariance matrix is calculated from genetic covariance matrix and Π.\n",
      "The mean of the prior for the marker effects covariance matrix is:\n",
      " 0.0  0.0  0.0\n",
      " 0.0  0.0  0.0\n",
      " 0.0  0.0  0.0\n",
      "\n",
      "\n",
      "\n",
      "\u001b[0m\u001b[1mA Linear Mixed Model was build using model equations:\u001b[22m\n",
      "\n",
      "RN_NurADG1 = Batch+ Died+ EntryAge+ wt + NurPenBatch+SowID\n",
      "RN_NurADG2 = Batch+ Died+ EntryAge+ wt+ NurPenBatch+SowID\n",
      "RN_NurADG3 =Batch+ Died+ EntryAge+ wt+ NurPenBatch+SowID\n",
      "\n",
      "\u001b[0m\u001b[1mModel Information:\u001b[22m\n",
      "\n",
      "Term            C/F          F/R            nLevels\n",
      "Batch           factor       fixed               50\n",
      "Died            factor       fixed                2\n",
      "EntryAge        covariate    fixed                1\n",
      "wt              covariate    fixed                1\n",
      "NurPenBatch     factor       random             427\n",
      "SowID           factor       random            1098\n",
      "\n",
      "\u001b[0m\u001b[1mMCMC Information:\u001b[22m\n",
      "\n",
      "chain_length                                  50000\n",
      "burnin                                         5000\n",
      "starting_value                                 true\n",
      "printout_frequency                            50001\n",
      "output_samples_frequency                         50\n",
      "constraint                                    false\n",
      "missing_phenotypes                             true\n",
      "update_priors_frequency                           0\n",
      "seed                                          false\n",
      "\n",
      "\u001b[0m\u001b[1mHyper-parameters Information:\u001b[22m\n",
      "\n",
      "random effect variances (RN_NurADG1:NurPenBatch,RN_NurADG2:NurPenBatch,RN_NurADG3:NurPenBatch):\n",
      " 0.01f0  0.0f0    0.0f0  \n",
      " 0.0f0   0.011f0  0.0f0  \n",
      " 0.0f0   0.0f0    0.011f0\n",
      "random effect variances (RN_NurADG1:SowID,RN_NurADG2:SowID,RN_NurADG3:SowID):\n",
      " 0.01f0  0.0f0    0.0f0  \n",
      " 0.0f0   0.011f0  0.0f0  \n",
      " 0.0f0   0.0f0    0.011f0\n",
      "residual variances:           \n",
      " 0.01f0  0.0f0    0.0f0  \n",
      " 0.0f0   0.011f0  0.0f0  \n",
      " 0.0f0   0.0f0    0.011f0\n",
      "\n",
      "\u001b[0m\u001b[1mGenomic Information:\u001b[22m\n",
      "\n",
      "complete genomic data (i.e., non-single-step analysis)\n",
      "\n",
      "Genomic Category                               geno\n",
      "Method                                       BayesC\n",
      "genetic variances (genomic):  \n",
      " 0.004  0.002  0.001\n",
      " 0.002  0.005  0.002\n",
      " 0.001  0.002  0.006\n",
      "marker effect variances:      \n",
      " 0.0  0.0  0.0\n",
      " 0.0  0.0  0.0\n",
      " 0.0  0.0  0.0\n",
      "\n",
      "Π: (Y(yes):included; N(no):excluded)\n",
      "\n",
      "[\"RN_NurADG1\", \"RN_NurADG2\", \"RN_NurADG3\"]         probability\n",
      "[\"Y\", \"Y\", \"N\"]                 0.0\n",
      "[\"N\", \"N\", \"N\"]                 0.0\n",
      "[\"Y\", \"N\", \"N\"]                 0.0\n",
      "[\"N\", \"Y\", \"Y\"]                 0.0\n",
      "[\"Y\", \"N\", \"Y\"]                 0.0\n",
      "[\"N\", \"N\", \"Y\"]                 0.0\n",
      "[\"Y\", \"Y\", \"Y\"]                 1.0\n",
      "[\"N\", \"Y\", \"N\"]                 0.0\n",
      "\n",
      "estimatePi                                    false\n",
      "estimateScale                                 false\n",
      "\n",
      "\u001b[0m\u001b[1mDegree of freedom for hyper-parameters:\u001b[22m\n",
      "\n",
      "residual variances:                           7.000\n",
      "random effect variances:                      7.000\n",
      "random effect variances:                      7.000\n",
      "marker effect variances:                      7.000\n",
      "\n",
      "\n",
      "\n",
      "\u001b[32mThe file MCMC_samples_residual_variance.txt is created to save MCMC samples for residual_variance.\u001b[39m\n",
      "\u001b[32mThe file MCMC_samples_marker_effects_geno_RN_NurADG1.txt is created to save MCMC samples for marker_effects_geno_RN_NurADG1.\u001b[39m\n",
      "\u001b[32mThe file MCMC_samples_marker_effects_geno_RN_NurADG2.txt is created to save MCMC samples for marker_effects_geno_RN_NurADG2.\u001b[39m\n",
      "\u001b[32mThe file MCMC_samples_marker_effects_geno_RN_NurADG3.txt is created to save MCMC samples for marker_effects_geno_RN_NurADG3.\u001b[39m\n",
      "\u001b[32mThe file MCMC_samples_marker_effects_variances_geno.txt is created to save MCMC samples for marker_effects_variances_geno.\u001b[39m\n",
      "\u001b[32mThe file MCMC_samples_pi_geno.txt is created to save MCMC samples for pi_geno.\u001b[39m\n",
      "\u001b[32mThe file MCMC_samples_RN_NurADG1.NurPenBatch_RN_NurADG2.NurPenBatch_RN_NurADG3.NurPenBatch_variances.txt is created to save MCMC samples for RN_NurADG1:NurPenBatch_RN_NurADG2:NurPenBatch_RN_NurADG3:NurPenBatch_variances.\u001b[39m\n",
      "\u001b[32mThe file MCMC_samples_RN_NurADG1.SowID_RN_NurADG2.SowID_RN_NurADG3.SowID_variances.txt is created to save MCMC samples for RN_NurADG1:SowID_RN_NurADG2:SowID_RN_NurADG3:SowID_variances.\u001b[39m\n",
      "\u001b[32mThe file MCMC_samples_EBV_RN_NurADG1.txt is created to save MCMC samples for EBV_RN_NurADG1.\u001b[39m\n",
      "\u001b[32mThe file MCMC_samples_EBV_RN_NurADG2.txt is created to save MCMC samples for EBV_RN_NurADG2.\u001b[39m\n",
      "\u001b[32mThe file MCMC_samples_EBV_RN_NurADG3.txt is created to save MCMC samples for EBV_RN_NurADG3.\u001b[39m\n",
      "\u001b[32mThe file MCMC_samples_genetic_variance.txt is created to save MCMC samples for genetic_variance.\u001b[39m\n",
      "\u001b[32mThe file MCMC_samples_heritability.txt is created to save MCMC samples for heritability.\u001b[39m\n"
     ]
    },
    {
     "ename": "PosDefException",
     "evalue": "PosDefException: matrix is not Hermitian; Cholesky factorization failed.",
     "output_type": "error",
     "traceback": [
      "PosDefException: matrix is not Hermitian; Cholesky factorization failed.",
      "",
      "Stacktrace:",
      " [1] checkpositivedefinite(::Int64) at /buildworker/worker/package_linux64/build/usr/share/julia/stdlib/v1.1/LinearAlgebra/src/factorization.jl:11",
      " [2] #cholesky!#97(::Bool, ::Function, ::Array{Float64,2}, ::Val{false}) at /buildworker/worker/package_linux64/build/usr/share/julia/stdlib/v1.1/LinearAlgebra/src/cholesky.jl:182",
      " [3] #cholesky#101 at ./none:0 [inlined]",
      " [4] cholesky at /buildworker/worker/package_linux64/build/usr/share/julia/stdlib/v1.1/LinearAlgebra/src/cholesky.jl:275 [inlined] (repeats 2 times)",
      " [5] Type at /opt/julia/packages/PDMats/G0Prn/src/pdmat.jl:19 [inlined]",
      " [6] InverseWishart(::Float32, ::Array{Float64,2}) at /opt/julia/packages/Distributions/cYbHq/src/matrix/inversewishart.jl:45",
      " [7] sampleVCs(::JWAS.MME, ::Array{Float32,1}) at /opt/julia/packages/JWAS/sLKiS/src/1.JWAS/src/buildMME/sample_variances.jl:79",
      " [8] macro expansion at /opt/julia/packages/JWAS/sLKiS/src/1.JWAS/src/MCMC/MCMC_BayesianAlphabet.jl:256 [inlined]",
      " [9] macro expansion at /opt/julia/packages/ProgressMeter/poEzd/src/ProgressMeter.jl:754 [inlined]",
      " [10] MCMC_BayesianAlphabet(::JWAS.MME, ::DataFrame) at /opt/julia/packages/JWAS/sLKiS/src/1.JWAS/src/MCMC/MCMC_BayesianAlphabet.jl:152",
      " [11] #runMCMC#72(::Bool, ::Int64, ::Bool, ::Int64, ::Int64, ::Int64, ::Bool, ::Bool, ::Bool, ::Bool, ::Bool, ::Bool, ::Bool, ::Bool, ::Bool, ::Bool, ::Bool, ::Bool, ::Int64, ::Bool, ::Bool, ::String, ::Bool, ::String, ::Float64, ::Bool, ::Bool, ::typeof(runMCMC), ::JWAS.MME, ::DataFrame) at /opt/julia/packages/JWAS/sLKiS/src/1.JWAS/src/JWAS.jl:275",
      " [12] (::getfield(JWAS, Symbol(\"#kw##runMCMC\")))(::NamedTuple{(:methods, :estimatePi, :single_step_analysis, :pedigree, :outputEBV, :output_heritability, :burnin, :chain_length),Tuple{String,Bool,Bool,Bool,Bool,Bool,Int64,Int64}}, ::typeof(runMCMC), ::JWAS.MME, ::DataFrame) at ./none:0",
      " [13] top-level scope at util.jl:156",
      " [14] top-level scope at In[16]:1"
     ]
    }
   ],
   "source": [
    "@time out=runMCMC(model,phenotypes,methods=\"BayesC\",estimatePi = false,\n",
    "    single_step_analysis = false, pedigree=false, outputEBV = true,\n",
    "    output_heritability = true, burnin=5000, chain_length = 50000);"
   ]
  }
 ],
 "metadata": {
  "kernelspec": {
   "display_name": "Julia 1.1.0",
   "language": "julia",
   "name": "julia-1.1"
  },
  "language_info": {
   "file_extension": ".jl",
   "mimetype": "application/julia",
   "name": "julia",
   "version": "1.1.0"
  }
 },
 "nbformat": 4,
 "nbformat_minor": 2
}
