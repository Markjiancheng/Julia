{
 "cells": [
  {
   "cell_type": "code",
   "execution_count": 7,
   "metadata": {},
   "outputs": [],
   "source": [
    "library(tidyverse)"
   ]
  },
  {
   "cell_type": "code",
   "execution_count": 8,
   "metadata": {},
   "outputs": [
    {
     "data": {
      "text/html": [
       "<table>\n",
       "<thead><tr><th scope=col>window</th><th scope=col>chr</th><th scope=col>wStart</th><th scope=col>wEnd</th><th scope=col>start_SNP</th><th scope=col>end_SNP</th><th scope=col>numSNP</th><th scope=col>prGenVar</th><th scope=col>WPPA</th><th scope=col>PPA_t</th></tr></thead>\n",
       "<tbody>\n",
       "\t<tr><td>991      </td><td>7        </td><td>23000000 </td><td>24000000 </td><td>23001142 </td><td>23999710 </td><td>243      </td><td>2.34     </td><td>0.738    </td><td>0.7380000</td></tr>\n",
       "\t<tr><td>990      </td><td>7        </td><td>22000000 </td><td>23000000 </td><td>22003711 </td><td>22970603 </td><td>188      </td><td>1.14     </td><td>0.560    </td><td>0.6246667</td></tr>\n",
       "\t<tr><td>996      </td><td>7        </td><td>28000000 </td><td>29000000 </td><td>28000991 </td><td>28999976 </td><td>234      </td><td>0.31     </td><td>0.320    </td><td>0.5128000</td></tr>\n",
       "\t<tr><td>994      </td><td>7        </td><td>26000000 </td><td>27000000 </td><td>26007598 </td><td>26997638 </td><td>265      </td><td>0.23     </td><td>0.290    </td><td>0.4756667</td></tr>\n",
       "\t<tr><td>992      </td><td>7        </td><td>24000000 </td><td>25000000 </td><td>24003441 </td><td>24993022 </td><td>142      </td><td>0.25     </td><td>0.262    </td><td>0.3840000</td></tr>\n",
       "\t<tr><td>995      </td><td>7        </td><td>27000000 </td><td>28000000 </td><td>27000204 </td><td>27997745 </td><td>230      </td><td>0.15     </td><td>0.236    </td><td>0.3378824</td></tr>\n",
       "</tbody>\n",
       "</table>\n"
      ],
      "text/latex": [
       "\\begin{tabular}{r|llllllllll}\n",
       " window & chr & wStart & wEnd & start\\_SNP & end\\_SNP & numSNP & prGenVar & WPPA & PPA\\_t\\\\\n",
       "\\hline\n",
       "\t 991       & 7         & 23000000  & 24000000  & 23001142  & 23999710  & 243       & 2.34      & 0.738     & 0.7380000\\\\\n",
       "\t 990       & 7         & 22000000  & 23000000  & 22003711  & 22970603  & 188       & 1.14      & 0.560     & 0.6246667\\\\\n",
       "\t 996       & 7         & 28000000  & 29000000  & 28000991  & 28999976  & 234       & 0.31      & 0.320     & 0.5128000\\\\\n",
       "\t 994       & 7         & 26000000  & 27000000  & 26007598  & 26997638  & 265       & 0.23      & 0.290     & 0.4756667\\\\\n",
       "\t 992       & 7         & 24000000  & 25000000  & 24003441  & 24993022  & 142       & 0.25      & 0.262     & 0.3840000\\\\\n",
       "\t 995       & 7         & 27000000  & 28000000  & 27000204  & 27997745  & 230       & 0.15      & 0.236     & 0.3378824\\\\\n",
       "\\end{tabular}\n"
      ],
      "text/markdown": [
       "\n",
       "| window | chr | wStart | wEnd | start_SNP | end_SNP | numSNP | prGenVar | WPPA | PPA_t |\n",
       "|---|---|---|---|---|---|---|---|---|---|\n",
       "| 991       | 7         | 23000000  | 24000000  | 23001142  | 23999710  | 243       | 2.34      | 0.738     | 0.7380000 |\n",
       "| 990       | 7         | 22000000  | 23000000  | 22003711  | 22970603  | 188       | 1.14      | 0.560     | 0.6246667 |\n",
       "| 996       | 7         | 28000000  | 29000000  | 28000991  | 28999976  | 234       | 0.31      | 0.320     | 0.5128000 |\n",
       "| 994       | 7         | 26000000  | 27000000  | 26007598  | 26997638  | 265       | 0.23      | 0.290     | 0.4756667 |\n",
       "| 992       | 7         | 24000000  | 25000000  | 24003441  | 24993022  | 142       | 0.25      | 0.262     | 0.3840000 |\n",
       "| 995       | 7         | 27000000  | 28000000  | 27000204  | 27997745  | 230       | 0.15      | 0.236     | 0.3378824 |\n",
       "\n"
      ],
      "text/plain": [
       "  window chr wStart   wEnd     start_SNP end_SNP  numSNP prGenVar WPPA \n",
       "1 991    7   23000000 24000000 23001142  23999710 243    2.34     0.738\n",
       "2 990    7   22000000 23000000 22003711  22970603 188    1.14     0.560\n",
       "3 996    7   28000000 29000000 28000991  28999976 234    0.31     0.320\n",
       "4 994    7   26000000 27000000 26007598  26997638 265    0.23     0.290\n",
       "5 992    7   24000000 25000000 24003441  24993022 142    0.25     0.262\n",
       "6 995    7   27000000 28000000 27000204  27997745 230    0.15     0.236\n",
       "  PPA_t    \n",
       "1 0.7380000\n",
       "2 0.6246667\n",
       "3 0.5128000\n",
       "4 0.4756667\n",
       "5 0.3840000\n",
       "6 0.3378824"
      ]
     },
     "metadata": {},
     "output_type": "display_data"
    }
   ],
   "source": [
    "winQTL = read.table(\"MCMC_BayesB_1Mb_window_VarProps_nTrtsPer180.txt\",header=TRUE,sep=\",\",comment.char=\"\")\n",
    "winQTL<- filter(winQTL, chr==7)\n",
    "head(winQTL)"
   ]
  },
  {
   "cell_type": "code",
   "execution_count": 9,
   "metadata": {},
   "outputs": [
    {
     "data": {
      "text/html": [
       "4.73"
      ],
      "text/latex": [
       "4.73"
      ],
      "text/markdown": [
       "4.73"
      ],
      "text/plain": [
       "[1] 4.73"
      ]
     },
     "metadata": {},
     "output_type": "display_data"
    }
   ],
   "source": [
    "# MHC region 20-30 Mb\n",
    "winQTL_MHC<- filter(winQTL, wStart <30000000 & wStart >19000000)\n",
    "\n",
    "# % variance\n",
    "sum(winQTL_MHC$prGenVar)"
   ]
  },
  {
   "cell_type": "code",
   "execution_count": 10,
   "metadata": {},
   "outputs": [
    {
     "data": {
      "text/html": [
       "<table>\n",
       "<thead><tr><th scope=col>window</th><th scope=col>chr</th><th scope=col>wStart</th><th scope=col>wEnd</th><th scope=col>start_SNP</th><th scope=col>end_SNP</th><th scope=col>numSNP</th><th scope=col>prGenVar</th><th scope=col>WPPA</th><th scope=col>PPA_t</th></tr></thead>\n",
       "<tbody>\n",
       "\t<tr><td> 990     </td><td>7        </td><td>22000000 </td><td>23000000 </td><td>22003711 </td><td>22970603 </td><td>188      </td><td>4.42     </td><td>0.826    </td><td>0.8260000</td></tr>\n",
       "\t<tr><td> 991     </td><td>7        </td><td>23000000 </td><td>24000000 </td><td>23001142 </td><td>23999710 </td><td>243      </td><td>4.04     </td><td>0.816    </td><td>0.8210000</td></tr>\n",
       "\t<tr><td> 992     </td><td>7        </td><td>24000000 </td><td>25000000 </td><td>24003441 </td><td>24993022 </td><td>142      </td><td>1.65     </td><td>0.492    </td><td>0.6484000</td></tr>\n",
       "\t<tr><td> 985     </td><td>7        </td><td>17000000 </td><td>18000000 </td><td>17002783 </td><td>17979755 </td><td>267      </td><td>0.20     </td><td>0.330    </td><td>0.4916667</td></tr>\n",
       "\t<tr><td>1035     </td><td>7        </td><td>67000000 </td><td>68000000 </td><td>67000053 </td><td>67993785 </td><td>159      </td><td>0.17     </td><td>0.262    </td><td>0.3826154</td></tr>\n",
       "\t<tr><td> 994     </td><td>7        </td><td>26000000 </td><td>27000000 </td><td>26007598 </td><td>26997638 </td><td>265      </td><td>0.13     </td><td>0.224    </td><td>0.3154286</td></tr>\n",
       "</tbody>\n",
       "</table>\n"
      ],
      "text/latex": [
       "\\begin{tabular}{r|llllllllll}\n",
       " window & chr & wStart & wEnd & start\\_SNP & end\\_SNP & numSNP & prGenVar & WPPA & PPA\\_t\\\\\n",
       "\\hline\n",
       "\t  990      & 7         & 22000000  & 23000000  & 22003711  & 22970603  & 188       & 4.42      & 0.826     & 0.8260000\\\\\n",
       "\t  991      & 7         & 23000000  & 24000000  & 23001142  & 23999710  & 243       & 4.04      & 0.816     & 0.8210000\\\\\n",
       "\t  992      & 7         & 24000000  & 25000000  & 24003441  & 24993022  & 142       & 1.65      & 0.492     & 0.6484000\\\\\n",
       "\t  985      & 7         & 17000000  & 18000000  & 17002783  & 17979755  & 267       & 0.20      & 0.330     & 0.4916667\\\\\n",
       "\t 1035      & 7         & 67000000  & 68000000  & 67000053  & 67993785  & 159       & 0.17      & 0.262     & 0.3826154\\\\\n",
       "\t  994      & 7         & 26000000  & 27000000  & 26007598  & 26997638  & 265       & 0.13      & 0.224     & 0.3154286\\\\\n",
       "\\end{tabular}\n"
      ],
      "text/markdown": [
       "\n",
       "| window | chr | wStart | wEnd | start_SNP | end_SNP | numSNP | prGenVar | WPPA | PPA_t |\n",
       "|---|---|---|---|---|---|---|---|---|---|\n",
       "|  990      | 7         | 22000000  | 23000000  | 22003711  | 22970603  | 188       | 4.42      | 0.826     | 0.8260000 |\n",
       "|  991      | 7         | 23000000  | 24000000  | 23001142  | 23999710  | 243       | 4.04      | 0.816     | 0.8210000 |\n",
       "|  992      | 7         | 24000000  | 25000000  | 24003441  | 24993022  | 142       | 1.65      | 0.492     | 0.6484000 |\n",
       "|  985      | 7         | 17000000  | 18000000  | 17002783  | 17979755  | 267       | 0.20      | 0.330     | 0.4916667 |\n",
       "| 1035      | 7         | 67000000  | 68000000  | 67000053  | 67993785  | 159       | 0.17      | 0.262     | 0.3826154 |\n",
       "|  994      | 7         | 26000000  | 27000000  | 26007598  | 26997638  | 265       | 0.13      | 0.224     | 0.3154286 |\n",
       "\n"
      ],
      "text/plain": [
       "  window chr wStart   wEnd     start_SNP end_SNP  numSNP prGenVar WPPA \n",
       "1  990   7   22000000 23000000 22003711  22970603 188    4.42     0.826\n",
       "2  991   7   23000000 24000000 23001142  23999710 243    4.04     0.816\n",
       "3  992   7   24000000 25000000 24003441  24993022 142    1.65     0.492\n",
       "4  985   7   17000000 18000000 17002783  17979755 267    0.20     0.330\n",
       "5 1035   7   67000000 68000000 67000053  67993785 159    0.17     0.262\n",
       "6  994   7   26000000 27000000 26007598  26997638 265    0.13     0.224\n",
       "  PPA_t    \n",
       "1 0.8260000\n",
       "2 0.8210000\n",
       "3 0.6484000\n",
       "4 0.4916667\n",
       "5 0.3826154\n",
       "6 0.3154286"
      ]
     },
     "metadata": {},
     "output_type": "display_data"
    }
   ],
   "source": [
    "winQTL = read.table(\"MCMC_BayesB_1Mb_window_VarProps_Nur2ADG.txt\",header=TRUE,sep=\",\",comment.char=\"\")\n",
    "winQTL<- filter(winQTL, chr==7)\n",
    "head(winQTL)"
   ]
  },
  {
   "cell_type": "code",
   "execution_count": 11,
   "metadata": {},
   "outputs": [
    {
     "data": {
      "text/html": [
       "11"
      ],
      "text/latex": [
       "11"
      ],
      "text/markdown": [
       "11"
      ],
      "text/plain": [
       "[1] 11"
      ]
     },
     "metadata": {},
     "output_type": "display_data"
    }
   ],
   "source": [
    "# MHC region 20-30 Mb\n",
    "winQTL_MHC<- filter(winQTL, wStart <30000000 & wStart >19000000)\n",
    "\n",
    "# % variance\n",
    "sum(winQTL_MHC$prGenVar)"
   ]
  }
 ],
 "metadata": {
  "kernelspec": {
   "display_name": "R",
   "language": "R",
   "name": "ir"
  },
  "language_info": {
   "codemirror_mode": "r",
   "file_extension": ".r",
   "mimetype": "text/x-r-source",
   "name": "R",
   "pygments_lexer": "r",
   "version": "3.5.1"
  }
 },
 "nbformat": 4,
 "nbformat_minor": 2
}
