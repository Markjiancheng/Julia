{
 "cells": [
  {
   "cell_type": "code",
   "execution_count": 1,
   "metadata": {},
   "outputs": [],
   "source": [
    "#==============================================================================#\n",
    "# Header\n",
    "#==============================================================================#\n",
    "# ISU - Animal Breeding and Genetics Group\n",
    "# Author: Mark Jian Cheng (with assistance from Hailin Su)\n",
    "# Created (date): 07/05/2019\n",
    "# Version (of the script): 1\n",
    "# Program (if applicable): numpy pandas\n",
    "# Program Version (if applicable): \n",
    "#==============================================================================#\n",
    "# Description: Code to convert the missing SNP to the mean for large genotype file\n",
    "#==============================================================================#\n",
    "\n",
    "#==============================================================================#\n",
    "# Setup\n",
    "#==============================================================================#\n",
    "#Input files: ALGP2_Cycle_1_7_Geno_GenSel.txt for GenSel\n",
    "#Output files: Formatted genotype file ready for use in GenSel or JWAS \n",
    "#==============================================================================#"
   ]
  },
  {
   "cell_type": "code",
   "execution_count": 2,
   "metadata": {},
   "outputs": [],
   "source": [
    "import numpy as np\n",
    "import pandas as pd\n",
    "from sklearn.impute import SimpleImputer as Imputer"
   ]
  },
  {
   "cell_type": "code",
   "execution_count": 3,
   "metadata": {},
   "outputs": [
    {
     "name": "stdout",
     "output_type": "stream",
     "text": [
      "CPU times: user 1min 4s, sys: 2.08 s, total: 1min 6s\n",
      "Wall time: 1min 6s\n"
     ]
    }
   ],
   "source": [
    "%time dataset = np.loadtxt('ALGP2_Cycle_1_7_GenoA_Complete_JWAS.txt', skiprows=1)"
   ]
  },
  {
   "cell_type": "code",
   "execution_count": 4,
   "metadata": {},
   "outputs": [
    {
     "data": {
      "text/plain": [
       "array([[0., 2., 0., ..., 2., 2., 2.],\n",
       "       [1., 2., 0., ..., 2., 2., 2.],\n",
       "       [0., 2., 0., ..., 2., 2., 2.],\n",
       "       ...,\n",
       "       [0., 2., 0., ..., 2., 2., 2.],\n",
       "       [1., 2., 0., ..., 2., 2., 2.],\n",
       "       [1., 1., 1., ..., 2., 2., 2.]])"
      ]
     },
     "execution_count": 4,
     "metadata": {},
     "output_type": "execute_result"
    }
   ],
   "source": [
    "X = dataset[:, 1:]  # get genotypes\n",
    "X"
   ]
  },
  {
   "cell_type": "code",
   "execution_count": 5,
   "metadata": {},
   "outputs": [],
   "source": [
    "imputer = Imputer(missing_values = 5, strategy = \"mean\")"
   ]
  },
  {
   "cell_type": "code",
   "execution_count": 6,
   "metadata": {},
   "outputs": [
    {
     "name": "stdout",
     "output_type": "stream",
     "text": [
      "CPU times: user 1.25 s, sys: 872 ms, total: 2.12 s\n",
      "Wall time: 2.12 s\n"
     ]
    }
   ],
   "source": [
    "%time imputer = imputer.fit(X)"
   ]
  },
  {
   "cell_type": "code",
   "execution_count": 7,
   "metadata": {},
   "outputs": [
    {
     "name": "stdout",
     "output_type": "stream",
     "text": [
      "CPU times: user 1.38 s, sys: 448 ms, total: 1.83 s\n",
      "Wall time: 1.83 s\n"
     ]
    }
   ],
   "source": [
    "%time Ximp = imputer.transform(X)"
   ]
  },
  {
   "cell_type": "code",
   "execution_count": 19,
   "metadata": {},
   "outputs": [
    {
     "name": "stdout",
     "output_type": "stream",
     "text": [
      "CPU times: user 5min 16s, sys: 4.13 s, total: 5min 21s\n",
      "Wall time: 5min 25s\n"
     ]
    }
   ],
   "source": [
    "# %time Ximp.tofile(\"out\", sep=\" \")"
   ]
  },
  {
   "cell_type": "code",
   "execution_count": 8,
   "metadata": {},
   "outputs": [],
   "source": [
    "header = pd.read_csv(\"ChrInfo_map_1_7_Complete_JWAS.txt\", sep=\",\")"
   ]
  },
  {
   "cell_type": "code",
   "execution_count": 9,
   "metadata": {},
   "outputs": [],
   "source": [
    "header_line = \" \".join(header[\"SNP\"].values)"
   ]
  },
  {
   "cell_type": "code",
   "execution_count": 10,
   "metadata": {},
   "outputs": [
    {
     "data": {
      "text/plain": [
       "'AX-116642173 AX-116642174 AX-116642175 AX-116642176 AX-116642178 AX-116642181 AX-116642184 AX-116642'"
      ]
     },
     "execution_count": 10,
     "metadata": {},
     "output_type": "execute_result"
    }
   ],
   "source": [
    "header_line[:100]"
   ]
  },
  {
   "cell_type": "code",
   "execution_count": 11,
   "metadata": {},
   "outputs": [
    {
     "name": "stdout",
     "output_type": "stream",
     "text": [
      "CPU times: user 39.4 s, sys: 1.2 s, total: 40.6 s\n",
      "Wall time: 41.1 s\n"
     ]
    }
   ],
   "source": [
    "%time np.savetxt(\"GenoA_Complete_JWAS_impute.txt\", Ximp, header=header_line, fmt='%i', comments=\"\")"
   ]
  }
 ],
 "metadata": {
  "kernelspec": {
   "display_name": "Python 3",
   "language": "python",
   "name": "python3"
  },
  "language_info": {
   "codemirror_mode": {
    "name": "ipython",
    "version": 3
   },
   "file_extension": ".py",
   "mimetype": "text/x-python",
   "name": "python",
   "nbconvert_exporter": "python",
   "pygments_lexer": "ipython3",
   "version": "3.7.1"
  }
 },
 "nbformat": 4,
 "nbformat_minor": 2
}
