{
 "cells": [
  {
   "cell_type": "code",
   "execution_count": 1,
   "metadata": {},
   "outputs": [],
   "source": [
    "using DataFrames              # package for working with data sets\n",
    "using JWAS                    # package for Bayesian regression analyses, including BayesB and BayesCπ        \n",
    "using JWAS:misc               # utility functions\n",
    "using Distributions       \n",
    "using Plots                   # package for plotting \n",
    "using CSV\n",
    "using LinearAlgebra,Statistics,Random,DelimitedFiles, DataFrames"
   ]
  },
  {
   "cell_type": "code",
   "execution_count": 2,
   "metadata": {},
   "outputs": [],
   "source": [
    "phenotypes = CSV.read(\"Data_sp_reprod_per_parity_only_sp.csv\",delim = ',',header=true, missingstring=\".\")\n",
    "size(phenotypes)\n",
    "first(phenotypes, 3)\n",
    "val1 =  phenotypes[phenotypes[!,:Collection_Group] .== 1 ,:]\n",
    "train1 =  phenotypes[phenotypes[!,:Collection_Group] .!== 1 ,:]\n",
    "\n",
    "val2 =  phenotypes[phenotypes[!,:Collection_Group] .== 2 ,:]\n",
    "train2 =  phenotypes[phenotypes[!,:Collection_Group] .!== 2 ,:]\n",
    "\n",
    "val3 =  phenotypes[phenotypes[!,:Collection_Group] .== 3 ,:]\n",
    "train3 =  phenotypes[phenotypes[!,:Collection_Group] .!== 3 ,:];"
   ]
  },
  {
   "cell_type": "code",
   "execution_count": 3,
   "metadata": {},
   "outputs": [],
   "source": [
    "marker1 = CSV.read(\"GBLUP_train1_marker_effects_SP_ration.txt\", header = true, delim = \",\")\n",
    "marker2 = CSV.read(\"GBLUP_train2_marker_effects_SP_ration.txt\", header = true, delim = \",\")\n",
    "marker3 = CSV.read(\"GBLUP_train3_marker_effects_SP_ration.txt\", header = true, delim = \",\")\n",
    "ids = CSV.read(\"markerID.csv\", header = true, delim = \",\", missingstring=\".\");"
   ]
  },
  {
   "cell_type": "code",
   "execution_count": 4,
   "metadata": {},
   "outputs": [],
   "source": [
    "genotypes = CSV.read(\"Genotype_AnimalID_imputed_final_ASReml_order_numerical.mkr\", header=true, delim=' ');"
   ]
  },
  {
   "cell_type": "code",
   "execution_count": 5,
   "metadata": {},
   "outputs": [
    {
     "data": {
      "text/html": [
       "<table class=\"data-frame\"><thead><tr><th></th><th>1_242598</th><th>WU_10.2_1_266158</th><th>ASGA0000005</th><th>ASGA0000014</th><th>ASGA0000021</th><th>WU_10.2_1_722623</th></tr><tr><th></th><th>Float64</th><th>Float64</th><th>Float64</th><th>Float64</th><th>Float64</th><th>Float64</th></tr></thead><tbody><p>5 rows × 45,536 columns (omitted printing of 45530 columns)</p><tr><th>1</th><td>-1.00338</td><td>-0.589628</td><td>0.234498</td><td>-1.00338</td><td>0.768884</td><td>-0.310034</td></tr><tr><th>2</th><td>-1.00338</td><td>-0.589628</td><td>0.234498</td><td>-1.00338</td><td>0.768884</td><td>-0.310034</td></tr><tr><th>3</th><td>-0.00338219</td><td>-0.589628</td><td>0.234498</td><td>-0.00338219</td><td>-0.231116</td><td>0.689966</td></tr><tr><th>4</th><td>-1.00338</td><td>-0.589628</td><td>0.234498</td><td>-1.00338</td><td>0.768884</td><td>-0.310034</td></tr><tr><th>5</th><td>-0.00338219</td><td>0.410372</td><td>0.234498</td><td>-0.00338219</td><td>-0.231116</td><td>-0.310034</td></tr></tbody></table>"
      ],
      "text/latex": [
       "\\begin{tabular}{r|ccccccc}\n",
       "\t& 1\\_242598 & WU\\_10.2\\_1\\_266158 & ASGA0000005 & ASGA0000014 & ASGA0000021 & WU\\_10.2\\_1\\_722623 & \\\\\n",
       "\t\\hline\n",
       "\t& Float64 & Float64 & Float64 & Float64 & Float64 & Float64 & \\\\\n",
       "\t\\hline\n",
       "\t1 & -1.00338 & -0.589628 & 0.234498 & -1.00338 & 0.768884 & -0.310034 & $\\dots$ \\\\\n",
       "\t2 & -1.00338 & -0.589628 & 0.234498 & -1.00338 & 0.768884 & -0.310034 & $\\dots$ \\\\\n",
       "\t3 & -0.00338219 & -0.589628 & 0.234498 & -0.00338219 & -0.231116 & 0.689966 & $\\dots$ \\\\\n",
       "\t4 & -1.00338 & -0.589628 & 0.234498 & -1.00338 & 0.768884 & -0.310034 & $\\dots$ \\\\\n",
       "\t5 & -0.00338219 & 0.410372 & 0.234498 & -0.00338219 & -0.231116 & -0.310034 & $\\dots$ \\\\\n",
       "\\end{tabular}\n"
      ],
      "text/plain": [
       "5×45536 DataFrame. Omitted printing of 45532 columns\n",
       "│ Row │ 1_242598    │ WU_10.2_1_266158 │ ASGA0000005 │ ASGA0000014 │\n",
       "│     │ \u001b[90mFloat64\u001b[39m     │ \u001b[90mFloat64\u001b[39m          │ \u001b[90mFloat64\u001b[39m     │ \u001b[90mFloat64\u001b[39m     │\n",
       "├─────┼─────────────┼──────────────────┼─────────────┼─────────────┤\n",
       "│ 1   │ -1.00338    │ -0.589628        │ 0.234498    │ -1.00338    │\n",
       "│ 2   │ -1.00338    │ -0.589628        │ 0.234498    │ -1.00338    │\n",
       "│ 3   │ -0.00338219 │ -0.589628        │ 0.234498    │ -0.00338219 │\n",
       "│ 4   │ -1.00338    │ -0.589628        │ 0.234498    │ -1.00338    │\n",
       "│ 5   │ -0.00338219 │ 0.410372         │ 0.234498    │ -0.00338219 │"
      ]
     },
     "execution_count": 5,
     "metadata": {},
     "output_type": "execute_result"
    }
   ],
   "source": [
    "alleleFreq = mean(Matrix(genotypes[:,2:45537]), dims=1)\n",
    "genotypes2 = genotypes[:,2:45537] .- alleleFreq;\n",
    "first(genotypes2, 5)"
   ]
  },
  {
   "cell_type": "markdown",
   "metadata": {},
   "source": [
    "# Prediction for MHC"
   ]
  },
  {
   "cell_type": "code",
   "execution_count": 10,
   "metadata": {},
   "outputs": [],
   "source": [
    "ids_MHC=ids[1:84,1];  ### 84 markers in MHC region (from 23 Mb to 26 Mb)"
   ]
  },
  {
   "cell_type": "code",
   "execution_count": 40,
   "metadata": {},
   "outputs": [
    {
     "ename": "InterruptException",
     "evalue": "InterruptException:",
     "output_type": "error",
     "traceback": [
      "InterruptException:",
      "",
      "Stacktrace:",
      " [1] unsafe_string at ./strings/string.jl:53 [inlined]",
      " [2] string at /opt/julia/packages/WeakRefStrings/POE8H/src/WeakRefStrings.jl:72 [inlined]",
      " [3] convert at /opt/julia/packages/WeakRefStrings/POE8H/src/WeakRefStrings.jl:77 [inlined]",
      " [4] getindex at /opt/julia/packages/WeakRefStrings/POE8H/src/WeakRefStrings.jl:320 [inlined]",
      " [5] iterate at ./abstractarray.jl:860 [inlined]",
      " [6] in(::String, ::WeakRefStrings.StringArray{String,1}) at ./operators.jl:954",
      " [7] (::getfield(Main, Symbol(\"##47#48\")))(::String) at ./none:0",
      " [8] iterate at ./generator.jl:47 [inlined]",
      " [9] collect_to!(::Array{Bool,1}, ::Base.Generator{Array{String,1},getfield(Main, Symbol(\"##47#48\"))}, ::Int64, ::Int64) at ./array.jl:651",
      " [10] collect_to_with_first!(::Array{Bool,1}, ::Bool, ::Base.Generator{Array{String,1},getfield(Main, Symbol(\"##47#48\"))}, ::Int64) at ./array.jl:630",
      " [11] collect(::Base.Generator{Array{String,1},getfield(Main, Symbol(\"##47#48\"))}) at ./array.jl:611",
      " [12] top-level scope at In[40]:3"
     ]
    }
   ],
   "source": [
    "marker1_MHC= marker1[:,[x in ids_MHC for x in String.(names(marker1))]]\n",
    "marker1_MHC = transpose(Matrix(mean(Matrix(marker1_MHC), dims=1)))\n",
    "marker2_MHC= marker2[:,[x in ids_MHC for x in String.(names(marker2))]]\n",
    "marker2_MHC = transpose(Matrix(mean(Matrix(marker2_MHC), dims=1)))\n",
    "marker3_MHC= marker3[:,[x in ids_MHC for x in String.(names(marker3))]]\n",
    "marker3_MHC = transpose(Matrix(mean(Matrix(marker3_MHC), dims=1)))\n",
    "genotypes_MHC = genotypes2[:, [x in ids_MHC for x in String.(names(genotypes2))]]"
   ]
  },
  {
   "cell_type": "code",
   "execution_count": 30,
   "metadata": {},
   "outputs": [
    {
     "data": {
      "text/html": [
       "<table class=\"data-frame\"><thead><tr><th></th><th>1_242598</th><th>WU_10.2_1_266158</th><th>ASGA0000005</th><th>ASGA0000014</th><th>ASGA0000021</th><th>WU_10.2_1_722623</th></tr><tr><th></th><th>Float64</th><th>Float64</th><th>Float64</th><th>Float64</th><th>Float64</th><th>Float64</th></tr></thead><tbody><p>5 rows × 45,536 columns (omitted printing of 45530 columns)</p><tr><th>1</th><td>-1.00338</td><td>-0.589628</td><td>0.234498</td><td>-1.00338</td><td>0.768884</td><td>-0.310034</td></tr><tr><th>2</th><td>-1.00338</td><td>-0.589628</td><td>0.234498</td><td>-1.00338</td><td>0.768884</td><td>-0.310034</td></tr><tr><th>3</th><td>-0.00338219</td><td>-0.589628</td><td>0.234498</td><td>-0.00338219</td><td>-0.231116</td><td>0.689966</td></tr><tr><th>4</th><td>-1.00338</td><td>-0.589628</td><td>0.234498</td><td>-1.00338</td><td>0.768884</td><td>-0.310034</td></tr><tr><th>5</th><td>-0.00338219</td><td>0.410372</td><td>0.234498</td><td>-0.00338219</td><td>-0.231116</td><td>-0.310034</td></tr></tbody></table>"
      ],
      "text/latex": [
       "\\begin{tabular}{r|ccccccc}\n",
       "\t& 1\\_242598 & WU\\_10.2\\_1\\_266158 & ASGA0000005 & ASGA0000014 & ASGA0000021 & WU\\_10.2\\_1\\_722623 & \\\\\n",
       "\t\\hline\n",
       "\t& Float64 & Float64 & Float64 & Float64 & Float64 & Float64 & \\\\\n",
       "\t\\hline\n",
       "\t1 & -1.00338 & -0.589628 & 0.234498 & -1.00338 & 0.768884 & -0.310034 & $\\dots$ \\\\\n",
       "\t2 & -1.00338 & -0.589628 & 0.234498 & -1.00338 & 0.768884 & -0.310034 & $\\dots$ \\\\\n",
       "\t3 & -0.00338219 & -0.589628 & 0.234498 & -0.00338219 & -0.231116 & 0.689966 & $\\dots$ \\\\\n",
       "\t4 & -1.00338 & -0.589628 & 0.234498 & -1.00338 & 0.768884 & -0.310034 & $\\dots$ \\\\\n",
       "\t5 & -0.00338219 & 0.410372 & 0.234498 & -0.00338219 & -0.231116 & -0.310034 & $\\dots$ \\\\\n",
       "\\end{tabular}\n"
      ],
      "text/plain": [
       "5×45536 DataFrame. Omitted printing of 45532 columns\n",
       "│ Row │ 1_242598    │ WU_10.2_1_266158 │ ASGA0000005 │ ASGA0000014 │\n",
       "│     │ \u001b[90mFloat64\u001b[39m     │ \u001b[90mFloat64\u001b[39m          │ \u001b[90mFloat64\u001b[39m     │ \u001b[90mFloat64\u001b[39m     │\n",
       "├─────┼─────────────┼──────────────────┼─────────────┼─────────────┤\n",
       "│ 1   │ -1.00338    │ -0.589628        │ 0.234498    │ -1.00338    │\n",
       "│ 2   │ -1.00338    │ -0.589628        │ 0.234498    │ -1.00338    │\n",
       "│ 3   │ -0.00338219 │ -0.589628        │ 0.234498    │ -0.00338219 │\n",
       "│ 4   │ -1.00338    │ -0.589628        │ 0.234498    │ -1.00338    │\n",
       "│ 5   │ -0.00338219 │ 0.410372         │ 0.234498    │ -0.00338219 │"
      ]
     },
     "execution_count": 30,
     "metadata": {},
     "output_type": "execute_result"
    }
   ],
   "source": [
    "first(genotypes_MHC, 5)"
   ]
  },
  {
   "cell_type": "code",
   "execution_count": 69,
   "metadata": {},
   "outputs": [
    {
     "data": {
      "text/html": [
       "<table class=\"data-frame\"><thead><tr><th></th><th>x1</th></tr><tr><th></th><th>Float64</th></tr></thead><tbody><p>5 rows × 1 columns</p><tr><th>1</th><td>-0.553979</td></tr><tr><th>2</th><td>-0.278123</td></tr><tr><th>3</th><td>0.160126</td></tr><tr><th>4</th><td>-0.256819</td></tr><tr><th>5</th><td>0.247842</td></tr></tbody></table>"
      ],
      "text/latex": [
       "\\begin{tabular}{r|c}\n",
       "\t& x1\\\\\n",
       "\t\\hline\n",
       "\t& Float64\\\\\n",
       "\t\\hline\n",
       "\t1 & -0.553979 \\\\\n",
       "\t2 & -0.278123 \\\\\n",
       "\t3 & 0.160126 \\\\\n",
       "\t4 & -0.256819 \\\\\n",
       "\t5 & 0.247842 \\\\\n",
       "\\end{tabular}\n"
      ],
      "text/plain": [
       "5×1 DataFrame\n",
       "│ Row │ x1        │\n",
       "│     │ \u001b[90mFloat64\u001b[39m   │\n",
       "├─────┼───────────┤\n",
       "│ 1   │ -0.553979 │\n",
       "│ 2   │ -0.278123 │\n",
       "│ 3   │ 0.160126  │\n",
       "│ 4   │ -0.256819 │\n",
       "│ 5   │ 0.247842  │"
      ]
     },
     "execution_count": 69,
     "metadata": {},
     "output_type": "execute_result"
    }
   ],
   "source": [
    "#ebv1 = Matrix(genotypes) * Matrix(mean_mkr)\n",
    "#ebv1 = DataFrame(ebv1)\n",
    "#insertcols!(ebv1, 1, :ID => genotypes[:,:AnimalID])\n",
    "#first(ebv1,5)"
   ]
  },
  {
   "cell_type": "code",
   "execution_count": 70,
   "metadata": {},
   "outputs": [
    {
     "data": {
      "text/html": [
       "<table class=\"data-frame\"><thead><tr><th></th><th>ID</th><th>EBV</th><th>PEV</th></tr><tr><th></th><th>Int64</th><th>Float64</th><th>Float64</th></tr></thead><tbody><p>5 rows × 3 columns</p><tr><th>1</th><td>43108826</td><td>-0.553979</td><td>0.0234895</td></tr><tr><th>2</th><td>43108854</td><td>-0.278123</td><td>0.0243226</td></tr><tr><th>3</th><td>43108856</td><td>0.160126</td><td>0.0284833</td></tr><tr><th>4</th><td>43108864</td><td>-0.256819</td><td>0.0234532</td></tr><tr><th>5</th><td>43108920</td><td>0.247842</td><td>0.0298538</td></tr></tbody></table>"
      ],
      "text/latex": [
       "\\begin{tabular}{r|ccc}\n",
       "\t& ID & EBV & PEV\\\\\n",
       "\t\\hline\n",
       "\t& Int64 & Float64 & Float64\\\\\n",
       "\t\\hline\n",
       "\t1 & 43108826 & -0.553979 & 0.0234895 \\\\\n",
       "\t2 & 43108854 & -0.278123 & 0.0243226 \\\\\n",
       "\t3 & 43108856 & 0.160126 & 0.0284833 \\\\\n",
       "\t4 & 43108864 & -0.256819 & 0.0234532 \\\\\n",
       "\t5 & 43108920 & 0.247842 & 0.0298538 \\\\\n",
       "\\end{tabular}\n"
      ],
      "text/plain": [
       "5×3 DataFrame\n",
       "│ Row │ ID       │ EBV       │ PEV       │\n",
       "│     │ \u001b[90mInt64\u001b[39m    │ \u001b[90mFloat64\u001b[39m   │ \u001b[90mFloat64\u001b[39m   │\n",
       "├─────┼──────────┼───────────┼───────────┤\n",
       "│ 1   │ 43108826 │ -0.553979 │ 0.0234895 │\n",
       "│ 2   │ 43108854 │ -0.278123 │ 0.0243226 │\n",
       "│ 3   │ 43108856 │ 0.160126  │ 0.0284833 │\n",
       "│ 4   │ 43108864 │ -0.256819 │ 0.0234532 │\n",
       "│ 5   │ 43108920 │ 0.247842  │ 0.0298538 │"
      ]
     },
     "execution_count": 70,
     "metadata": {},
     "output_type": "execute_result"
    }
   ],
   "source": [
    "#ebv_right = CSV.read(\"EBV_SP_ration_train3.txt\",header=true, missingstring=\".\")\n",
    "#first(ebv_right, 5)"
   ]
  },
  {
   "cell_type": "code",
   "execution_count": 31,
   "metadata": {},
   "outputs": [],
   "source": [
    "ebv1 = Matrix(genotypes_MHC) * Matrix(marker1_MHC)\n",
    "ebv1 = DataFrame(ebv1)\n",
    "insertcols!(ebv1, 1, :ID => genotypes[:,:AnimalID])\n",
    "ebv2 = Matrix(genotypes_MHC) * Matrix(marker2_MHC)\n",
    "ebv2 = DataFrame(ebv2)\n",
    "insertcols!(ebv2, 1, :ID => genotypes[:,:AnimalID])\n",
    "ebv3 = Matrix(genotypes_MHC) * Matrix(marker3_MHC)\n",
    "ebv3 = DataFrame(ebv3)\n",
    "insertcols!(ebv3, 1, :ID => genotypes[:,:AnimalID]);"
   ]
  },
  {
   "cell_type": "code",
   "execution_count": 39,
   "metadata": {},
   "outputs": [
    {
     "data": {
      "text/html": [
       "<table class=\"data-frame\"><thead><tr><th></th><th>ID</th><th>x1</th></tr><tr><th></th><th>Int64</th><th>Float64</th></tr></thead><tbody><p>5 rows × 2 columns</p><tr><th>1</th><td>43108826</td><td>-0.192812</td></tr><tr><th>2</th><td>43108854</td><td>-0.237136</td></tr><tr><th>3</th><td>43108856</td><td>0.010054</td></tr><tr><th>4</th><td>43108864</td><td>-0.233608</td></tr><tr><th>5</th><td>43108920</td><td>0.387978</td></tr></tbody></table>"
      ],
      "text/latex": [
       "\\begin{tabular}{r|cc}\n",
       "\t& ID & x1\\\\\n",
       "\t\\hline\n",
       "\t& Int64 & Float64\\\\\n",
       "\t\\hline\n",
       "\t1 & 43108826 & -0.192812 \\\\\n",
       "\t2 & 43108854 & -0.237136 \\\\\n",
       "\t3 & 43108856 & 0.010054 \\\\\n",
       "\t4 & 43108864 & -0.233608 \\\\\n",
       "\t5 & 43108920 & 0.387978 \\\\\n",
       "\\end{tabular}\n"
      ],
      "text/plain": [
       "5×2 DataFrame\n",
       "│ Row │ ID       │ x1        │\n",
       "│     │ \u001b[90mInt64\u001b[39m    │ \u001b[90mFloat64\u001b[39m   │\n",
       "├─────┼──────────┼───────────┤\n",
       "│ 1   │ 43108826 │ -0.192812 │\n",
       "│ 2   │ 43108854 │ -0.237136 │\n",
       "│ 3   │ 43108856 │ 0.010054  │\n",
       "│ 4   │ 43108864 │ -0.233608 │\n",
       "│ 5   │ 43108920 │ 0.387978  │"
      ]
     },
     "execution_count": 39,
     "metadata": {},
     "output_type": "execute_result"
    }
   ],
   "source": [
    "first(ebv1,5)"
   ]
  },
  {
   "cell_type": "code",
   "execution_count": 32,
   "metadata": {},
   "outputs": [],
   "source": [
    "ids_val1 = val1[!,1]\n",
    "ids_val2 = val2[!,1]\n",
    "ids_val3 = val3[!,1];"
   ]
  },
  {
   "cell_type": "code",
   "execution_count": 33,
   "metadata": {},
   "outputs": [],
   "source": [
    "ebv_val1 = ebv1[[x in ids_val1 for x in ebv1[:,:ID]], :]\n",
    "ebv_val2 = ebv2[[x in ids_val2 for x in ebv2[:,:ID]], :]\n",
    "ebv_val3 = ebv3[[x in ids_val3 for x in ebv3[:,:ID]], :];"
   ]
  },
  {
   "cell_type": "code",
   "execution_count": 34,
   "metadata": {},
   "outputs": [],
   "source": [
    "insertcols!(ebv_val1, 3, :SP_ratio => val1[!,4] )\n",
    "insertcols!(ebv_val2, 3, :SP_ratio => val2[!,4] )\n",
    "insertcols!(ebv_val3, 3, :SP_ratio => val3[!,4] );"
   ]
  },
  {
   "cell_type": "code",
   "execution_count": 35,
   "metadata": {},
   "outputs": [
    {
     "data": {
      "text/plain": [
       "1×3 Array{Float64,2}:\n",
       " 0.411534  0.767141  0.782144"
      ]
     },
     "execution_count": 35,
     "metadata": {},
     "output_type": "execute_result"
    }
   ],
   "source": [
    "cor1 = cor(ebv_val1[!,3], ebv_val1[!,2])\n",
    "cor2 = cor(ebv_val2[!,3], ebv_val2[!,2])\n",
    "cor3 = cor(ebv_val3[!,3], ebv_val3[!,2]);\n",
    "[cor1 cor2 cor3]"
   ]
  },
  {
   "cell_type": "code",
   "execution_count": 17,
   "metadata": {},
   "outputs": [],
   "source": [
    "cor_all = (size(val1,1)*cor1 + size(val2,1)*cor2 + size(val3,1)*cor3)/(size(val1,1) + size(val2,1) + size(val3,1));"
   ]
  },
  {
   "cell_type": "code",
   "execution_count": 18,
   "metadata": {},
   "outputs": [],
   "source": [
    "acc = cor_all/sqrt(0.34)\n",
    "std_acc = std([cor1,cor2,cor3])/sqrt(0.34);"
   ]
  },
  {
   "cell_type": "code",
   "execution_count": 19,
   "metadata": {},
   "outputs": [
    {
     "data": {
      "text/plain": [
       "1×2 Array{Float64,2}:\n",
       " 0.598265  0.00719923"
      ]
     },
     "execution_count": 19,
     "metadata": {},
     "output_type": "execute_result"
    }
   ],
   "source": [
    "[acc std_acc]"
   ]
  },
  {
   "cell_type": "markdown",
   "metadata": {},
   "source": [
    "# Prediciton for REST now "
   ]
  },
  {
   "cell_type": "code",
   "execution_count": 15,
   "metadata": {},
   "outputs": [],
   "source": [
    "ids_MHC=ids[1:45379,2];### 45,379 markers in REST region (removed from 21 Mb to 28 Mb )\n",
    "ids_MHC;"
   ]
  },
  {
   "cell_type": "code",
   "execution_count": 16,
   "metadata": {},
   "outputs": [
    {
     "data": {
      "text/plain": [
       "45379×1 Transpose{Float64,Array{Float64,2}}:\n",
       "  1.1721617577987476e-5 \n",
       "  9.497572768916633e-6  \n",
       "  8.123497120039534e-5  \n",
       " -1.9290438540555178e-5 \n",
       "  4.0489000997307466e-5 \n",
       " -5.490330128490659e-5  \n",
       " -2.7341217131990035e-5 \n",
       "  1.5548032881991503e-5 \n",
       " -1.7338433742569676e-6 \n",
       "  5.784905240671039e-5  \n",
       "  2.3449133151029982e-5 \n",
       " -0.00012889772115172232\n",
       " -4.387693137113376e-5  \n",
       "  ⋮                     \n",
       "  1.941046640730475e-5  \n",
       "  5.6929500587791024e-5 \n",
       " -1.1856608687695102e-5 \n",
       " -7.198508596498331e-6  \n",
       "  0.0                   \n",
       " -1.5767966575489013e-5 \n",
       " -1.9174182435400174e-5 \n",
       " -0.00023086675518678594\n",
       " -0.0008018581514695296 \n",
       " -0.00046873279185272957\n",
       " -0.0005583290800682188 \n",
       " -0.00011558182927843697"
      ]
     },
     "execution_count": 16,
     "metadata": {},
     "output_type": "execute_result"
    }
   ],
   "source": [
    "marker1_MHC= marker1[:,[x in ids_MHC for x in String.(names(marker1))]]\n",
    "marker1_MHC = transpose(Matrix(mean(Matrix(marker1_MHC), dims=1)))\n",
    "marker2_MHC= marker2[:,[x in ids_MHC for x in String.(names(marker2))]]\n",
    "marker2_MHC = transpose(Matrix(mean(Matrix(marker2_MHC), dims=1)))\n",
    "marker3_MHC= marker3[:,[x in ids_MHC for x in String.(names(marker3))]]\n",
    "marker3_MHC = transpose(Matrix(mean(Matrix(marker3_MHC), dims=1)))"
   ]
  },
  {
   "cell_type": "code",
   "execution_count": 17,
   "metadata": {},
   "outputs": [],
   "source": [
    "genotypes_MHC = genotypes2[:, [x in ids_MHC for x in String.(names(genotypes2))]];"
   ]
  },
  {
   "cell_type": "code",
   "execution_count": 18,
   "metadata": {},
   "outputs": [],
   "source": [
    "ebv1 = Matrix(genotypes_MHC) * Matrix(marker1_MHC)\n",
    "ebv1 = DataFrame(ebv1)\n",
    "insertcols!(ebv1, 1, :ID => genotypes[:,:AnimalID])\n",
    "ebv2 = Matrix(genotypes_MHC) * Matrix(marker2_MHC)\n",
    "ebv2 = DataFrame(ebv2)\n",
    "insertcols!(ebv2, 1, :ID => genotypes[:,:AnimalID])\n",
    "ebv3 = Matrix(genotypes_MHC) * Matrix(marker3_MHC)\n",
    "ebv3 = DataFrame(ebv3)\n",
    "insertcols!(ebv3, 1, :ID => genotypes[:,:AnimalID]);"
   ]
  },
  {
   "cell_type": "code",
   "execution_count": 19,
   "metadata": {},
   "outputs": [],
   "source": [
    "ids_val1 = val1[!,1]\n",
    "ids_val2 = val2[!,1]\n",
    "ids_val3 = val3[!,1];"
   ]
  },
  {
   "cell_type": "code",
   "execution_count": 20,
   "metadata": {},
   "outputs": [],
   "source": [
    "ebv_val1 = ebv1[[x in ids_val1 for x in ebv1[:,:ID]], :]\n",
    "ebv_val2 = ebv2[[x in ids_val2 for x in ebv2[:,:ID]], :]\n",
    "ebv_val3 = ebv3[[x in ids_val3 for x in ebv3[:,:ID]], :];"
   ]
  },
  {
   "cell_type": "code",
   "execution_count": 21,
   "metadata": {},
   "outputs": [],
   "source": [
    "insertcols!(ebv_val1, 3, :SP_ratio => val1[!,4] )\n",
    "insertcols!(ebv_val2, 3, :SP_ratio => val2[!,4] )\n",
    "insertcols!(ebv_val3, 3, :SP_ratio => val3[!,4] );"
   ]
  },
  {
   "cell_type": "code",
   "execution_count": 22,
   "metadata": {},
   "outputs": [
    {
     "data": {
      "text/plain": [
       "1×3 Array{Float64,2}:\n",
       " 0.234062  0.214224  0.187953"
      ]
     },
     "execution_count": 22,
     "metadata": {},
     "output_type": "execute_result"
    }
   ],
   "source": [
    "cor1 = cor(ebv_val1[!,3], ebv_val1[!,2])\n",
    "cor2 = cor(ebv_val2[!,3], ebv_val2[!,2])\n",
    "cor3 = cor(ebv_val3[!,3], ebv_val3[!,2])\n",
    "[cor1 cor2 cor3]"
   ]
  },
  {
   "cell_type": "code",
   "execution_count": 23,
   "metadata": {},
   "outputs": [
    {
     "data": {
      "text/plain": [
       "1×2 Array{Float64,2}:\n",
       " 0.36909  0.0396659"
      ]
     },
     "execution_count": 23,
     "metadata": {},
     "output_type": "execute_result"
    }
   ],
   "source": [
    "cor_all = (size(val1,1)*cor1 + size(val2,1)*cor2 + size(val3,1)*cor3)/(size(val1,1) + size(val2,1) + size(val3,1));\n",
    "acc = cor_all/sqrt(0.34)\n",
    "std_acc = std([cor1,cor2,cor3])/sqrt(0.34);\n",
    "[acc std_acc]"
   ]
  }
 ],
 "metadata": {
  "kernelspec": {
   "display_name": "Julia 1.1.0",
   "language": "julia",
   "name": "julia-1.1"
  },
  "language_info": {
   "file_extension": ".jl",
   "mimetype": "application/julia",
   "name": "julia",
   "version": "1.1.0"
  }
 },
 "nbformat": 4,
 "nbformat_minor": 2
}
